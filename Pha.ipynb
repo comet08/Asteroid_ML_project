{
  "nbformat": 4,
  "nbformat_minor": 0,
  "metadata": {
    "colab": {
      "name": "Pha",
      "provenance": [],
      "collapsed_sections": []
    },
    "kernelspec": {
      "display_name": "Python 3",
      "name": "python3"
    }
  },
  "cells": [
    {
      "cell_type": "markdown",
      "metadata": {
        "id": "VBCYUsRH2Zln"
      },
      "source": [
        "# Asteroid 1 / PHA 이진분류"
      ]
    },
    {
      "cell_type": "code",
      "metadata": {
        "id": "mmIZcEZdsvYl",
        "colab": {
          "base_uri": "https://localhost:8080/"
        },
        "outputId": "33639057-d2cb-423f-c6a6-3ccad417b5ae"
      },
      "source": [
        "import numpy as np\n",
        "import pandas as pd\n",
        "import matplotlib\n",
        "import matplotlib.pyplot as plt\n",
        "from sklearn.model_selection import train_test_split\n",
        "\n",
        "#전처리\n",
        "from sklearn.preprocessing import StandardScaler\n",
        "from sklearn.preprocessing import MinMaxScaler\n",
        "from sklearn.preprocessing import OneHotEncoder\n",
        "from sklearn.compose import make_column_transformer\n",
        "from sklearn.preprocessing import KBinsDiscretizer\n",
        "\n",
        "# 매개변수 그리드\n",
        "from sklearn.model_selection import GridSearchCV\n",
        "\n",
        "# 특성 선택\n",
        "from sklearn.feature_selection import SelectFromModel\n",
        "\n",
        "#\n",
        "from sklearn.metrics import f1_score\n",
        "from sklearn.metrics import make_scorer\n",
        "\n",
        "f1_scorer = make_scorer(f1_score, pos_label=\"Y\")\n",
        "\n",
        "\n",
        "#파이프라인\n",
        "from sklearn.pipeline import Pipeline\n",
        "from sklearn.pipeline import make_pipeline\n",
        "\n",
        "# 성능 평가\n",
        "from sklearn.metrics import classification_report\n",
        "from sklearn.metrics import confusion_matrix\n",
        "\n",
        "#overSampling\n",
        "from imblearn.over_sampling import SMOTE\n",
        "\n",
        "# model\n",
        "from sklearn.svm import SVC\n",
        "from sklearn.svm import SVR\n",
        "from sklearn.ensemble import RandomForestClassifier\n",
        "from xgboost import XGBClassifier\n",
        "from xgboost import XGBRegressor\n",
        "from sklearn.linear_model import LogisticRegression\n",
        "from sklearn.neural_network import MLPClassifier\n"
      ],
      "execution_count": 1,
      "outputs": [
        {
          "output_type": "stream",
          "text": [
            "/usr/local/lib/python3.7/dist-packages/sklearn/externals/six.py:31: FutureWarning: The module is deprecated in version 0.21 and will be removed in version 0.23 since we've dropped support for Python 2.7. Please rely on the official version of six (https://pypi.org/project/six/).\n",
            "  \"(https://pypi.org/project/six/).\", FutureWarning)\n",
            "/usr/local/lib/python3.7/dist-packages/sklearn/utils/deprecation.py:144: FutureWarning: The sklearn.neighbors.base module is  deprecated in version 0.22 and will be removed in version 0.24. The corresponding classes / functions should instead be imported from sklearn.neighbors. Anything that cannot be imported from sklearn.neighbors is now part of the private API.\n",
            "  warnings.warn(message, FutureWarning)\n"
          ],
          "name": "stderr"
        }
      ]
    },
    {
      "cell_type": "code",
      "metadata": {
        "id": "Gc2z20Gv2Ahw"
      },
      "source": [
        "from pydrive.auth import GoogleAuth\n",
        "from pydrive.drive import GoogleDrive\n",
        "from google.colab import auth\n",
        "from oauth2client.client import GoogleCredentials\n",
        "# Authenticate and create the PyDrive client.\n",
        "auth.authenticate_user()\n",
        "gauth = GoogleAuth()\n",
        "gauth.credentials = GoogleCredentials.get_application_default()\n",
        "drive = GoogleDrive(gauth)\n",
        "\n",
        "link = 'https://drive.google.com/file/d/1zdaujvrEHpei8_MIr5RRq-uA6LsCVCzZ/view?usp=sharing' # The shareable link\n",
        "#fluff, id = link.split('=')\n",
        "#print (id) # Verify that you have everything after '='\n",
        "id = '1zdaujvrEHpei8_MIr5RRq-uA6LsCVCzZ'\n",
        "downloaded = drive.CreateFile({'id':id}) \n",
        "downloaded.GetContentFile('results.csv')  \n"
      ],
      "execution_count": 2,
      "outputs": []
    },
    {
      "cell_type": "markdown",
      "metadata": {
        "id": "Gy6zSh_12jkZ"
      },
      "source": [
        "### About Data"
      ]
    },
    {
      "cell_type": "code",
      "metadata": {
        "colab": {
          "base_uri": "https://localhost:8080/"
        },
        "id": "0V-hyK0ExdIv",
        "outputId": "a27c6cb3-58e4-40c5-85f6-fe031074573f"
      },
      "source": [
        "datas = pd.read_csv('results.csv')\n",
        "datas.info()\n",
        "\n",
        "# 특성과 데이터 타입"
      ],
      "execution_count": 3,
      "outputs": [
        {
          "output_type": "stream",
          "text": [
            "/usr/local/lib/python3.7/dist-packages/IPython/core/interactiveshell.py:2718: DtypeWarning: Columns (0,7) have mixed types.Specify dtype option on import or set low_memory=False.\n",
            "  interactivity=interactivity, compiler=compiler, result=result)\n"
          ],
          "name": "stderr"
        },
        {
          "output_type": "stream",
          "text": [
            "<class 'pandas.core.frame.DataFrame'>\n",
            "RangeIndex: 1079619 entries, 0 to 1079618\n",
            "Data columns (total 21 columns):\n",
            " #   Column    Non-Null Count    Dtype  \n",
            "---  ------    --------------    -----  \n",
            " 0   name      22183 non-null    object \n",
            " 1   neo       1079617 non-null  object \n",
            " 2   pha       1069004 non-null  object \n",
            " 3   H         1075633 non-null  float64\n",
            " 4   diameter  139999 non-null   float64\n",
            " 5   albedo    138848 non-null   float64\n",
            " 6   rot_per   32577 non-null    float64\n",
            " 7   spec_B    1666 non-null     object \n",
            " 8   e         1079619 non-null  float64\n",
            " 9   a         1079619 non-null  float64\n",
            " 10  q         1079619 non-null  float64\n",
            " 11  i         1079619 non-null  float64\n",
            " 12  om        1079619 non-null  float64\n",
            " 13  w         1079619 non-null  float64\n",
            " 14  ma        1079618 non-null  float64\n",
            " 15  ad        1079617 non-null  float64\n",
            " 16  n         1079619 non-null  float64\n",
            " 17  tp        1079619 non-null  float64\n",
            " 18  per       1079617 non-null  float64\n",
            " 19  moid      1069004 non-null  float64\n",
            " 20  class     1079619 non-null  object \n",
            "dtypes: float64(16), object(5)\n",
            "memory usage: 173.0+ MB\n"
          ],
          "name": "stdout"
        }
      ]
    },
    {
      "cell_type": "code",
      "metadata": {
        "colab": {
          "base_uri": "https://localhost:8080/",
          "height": 216
        },
        "id": "MHVnnnsUWmML",
        "outputId": "022c683f-9e02-4d51-f2bc-e6c01698f4e0"
      },
      "source": [
        "datas.head()"
      ],
      "execution_count": null,
      "outputs": [
        {
          "output_type": "execute_result",
          "data": {
            "text/html": [
              "<div>\n",
              "<style scoped>\n",
              "    .dataframe tbody tr th:only-of-type {\n",
              "        vertical-align: middle;\n",
              "    }\n",
              "\n",
              "    .dataframe tbody tr th {\n",
              "        vertical-align: top;\n",
              "    }\n",
              "\n",
              "    .dataframe thead th {\n",
              "        text-align: right;\n",
              "    }\n",
              "</style>\n",
              "<table border=\"1\" class=\"dataframe\">\n",
              "  <thead>\n",
              "    <tr style=\"text-align: right;\">\n",
              "      <th></th>\n",
              "      <th>name</th>\n",
              "      <th>neo</th>\n",
              "      <th>pha</th>\n",
              "      <th>H</th>\n",
              "      <th>diameter</th>\n",
              "      <th>albedo</th>\n",
              "      <th>rot_per</th>\n",
              "      <th>spec_B</th>\n",
              "      <th>e</th>\n",
              "      <th>a</th>\n",
              "      <th>q</th>\n",
              "      <th>i</th>\n",
              "      <th>om</th>\n",
              "      <th>w</th>\n",
              "      <th>ma</th>\n",
              "      <th>ad</th>\n",
              "      <th>n</th>\n",
              "      <th>tp</th>\n",
              "      <th>per</th>\n",
              "      <th>moid</th>\n",
              "      <th>class</th>\n",
              "    </tr>\n",
              "  </thead>\n",
              "  <tbody>\n",
              "    <tr>\n",
              "      <th>0</th>\n",
              "      <td>Ceres</td>\n",
              "      <td>N</td>\n",
              "      <td>N</td>\n",
              "      <td>3.53</td>\n",
              "      <td>939.400</td>\n",
              "      <td>0.0900</td>\n",
              "      <td>9.074170</td>\n",
              "      <td>C</td>\n",
              "      <td>0.078168</td>\n",
              "      <td>2.766089</td>\n",
              "      <td>2.549868</td>\n",
              "      <td>10.587899</td>\n",
              "      <td>80.272358</td>\n",
              "      <td>73.724889</td>\n",
              "      <td>205.545416</td>\n",
              "      <td>2.982310</td>\n",
              "      <td>0.214242</td>\n",
              "      <td>2.459921e+06</td>\n",
              "      <td>1680.341973</td>\n",
              "      <td>1.58537</td>\n",
              "      <td>MBA</td>\n",
              "    </tr>\n",
              "    <tr>\n",
              "      <th>1</th>\n",
              "      <td>Pallas</td>\n",
              "      <td>N</td>\n",
              "      <td>N</td>\n",
              "      <td>4.21</td>\n",
              "      <td>545.000</td>\n",
              "      <td>0.1010</td>\n",
              "      <td>7.813200</td>\n",
              "      <td>B</td>\n",
              "      <td>0.229750</td>\n",
              "      <td>2.774382</td>\n",
              "      <td>2.136967</td>\n",
              "      <td>34.854459</td>\n",
              "      <td>172.965884</td>\n",
              "      <td>310.288113</td>\n",
              "      <td>187.586351</td>\n",
              "      <td>3.411796</td>\n",
              "      <td>0.213282</td>\n",
              "      <td>2.460009e+06</td>\n",
              "      <td>1687.903980</td>\n",
              "      <td>1.23487</td>\n",
              "      <td>MBA</td>\n",
              "    </tr>\n",
              "    <tr>\n",
              "      <th>2</th>\n",
              "      <td>Juno</td>\n",
              "      <td>N</td>\n",
              "      <td>N</td>\n",
              "      <td>5.26</td>\n",
              "      <td>246.596</td>\n",
              "      <td>0.2140</td>\n",
              "      <td>7.210000</td>\n",
              "      <td>Sk</td>\n",
              "      <td>0.256988</td>\n",
              "      <td>2.668020</td>\n",
              "      <td>1.982370</td>\n",
              "      <td>12.991482</td>\n",
              "      <td>169.853044</td>\n",
              "      <td>248.032767</td>\n",
              "      <td>170.711246</td>\n",
              "      <td>3.353669</td>\n",
              "      <td>0.226162</td>\n",
              "      <td>2.458446e+06</td>\n",
              "      <td>1591.776184</td>\n",
              "      <td>1.03316</td>\n",
              "      <td>MBA</td>\n",
              "    </tr>\n",
              "    <tr>\n",
              "      <th>3</th>\n",
              "      <td>Vesta</td>\n",
              "      <td>N</td>\n",
              "      <td>N</td>\n",
              "      <td>3.29</td>\n",
              "      <td>525.400</td>\n",
              "      <td>0.4228</td>\n",
              "      <td>5.342128</td>\n",
              "      <td>V</td>\n",
              "      <td>0.088425</td>\n",
              "      <td>2.362030</td>\n",
              "      <td>2.153168</td>\n",
              "      <td>7.141653</td>\n",
              "      <td>103.808335</td>\n",
              "      <td>150.922482</td>\n",
              "      <td>258.567830</td>\n",
              "      <td>2.570893</td>\n",
              "      <td>0.271504</td>\n",
              "      <td>2.459574e+06</td>\n",
              "      <td>1325.948229</td>\n",
              "      <td>1.13933</td>\n",
              "      <td>MBA</td>\n",
              "    </tr>\n",
              "    <tr>\n",
              "      <th>4</th>\n",
              "      <td>Astraea</td>\n",
              "      <td>N</td>\n",
              "      <td>N</td>\n",
              "      <td>6.99</td>\n",
              "      <td>106.699</td>\n",
              "      <td>0.2740</td>\n",
              "      <td>16.806000</td>\n",
              "      <td>S</td>\n",
              "      <td>0.190788</td>\n",
              "      <td>2.573621</td>\n",
              "      <td>2.082605</td>\n",
              "      <td>5.367534</td>\n",
              "      <td>141.571702</td>\n",
              "      <td>358.625009</td>\n",
              "      <td>65.612382</td>\n",
              "      <td>3.064636</td>\n",
              "      <td>0.238719</td>\n",
              "      <td>2.458926e+06</td>\n",
              "      <td>1508.048333</td>\n",
              "      <td>1.09563</td>\n",
              "      <td>MBA</td>\n",
              "    </tr>\n",
              "  </tbody>\n",
              "</table>\n",
              "</div>"
            ],
            "text/plain": [
              "      name neo pha     H  ...            tp          per     moid class\n",
              "0    Ceres   N   N  3.53  ...  2.459921e+06  1680.341973  1.58537   MBA\n",
              "1   Pallas   N   N  4.21  ...  2.460009e+06  1687.903980  1.23487   MBA\n",
              "2     Juno   N   N  5.26  ...  2.458446e+06  1591.776184  1.03316   MBA\n",
              "3    Vesta   N   N  3.29  ...  2.459574e+06  1325.948229  1.13933   MBA\n",
              "4  Astraea   N   N  6.99  ...  2.458926e+06  1508.048333  1.09563   MBA\n",
              "\n",
              "[5 rows x 21 columns]"
            ]
          },
          "metadata": {
            "tags": []
          },
          "execution_count": 4
        }
      ]
    },
    {
      "cell_type": "markdown",
      "metadata": {
        "id": "0XKhS9xNgX8l"
      },
      "source": [
        "- 이름: 개체 IAU 이름\n",
        "- NEO: NEO(Near-Earth Object) 플래그\n",
        "- PHA: 잠재적으로 위험한 소행성(PHA) 플래그\n",
        "- H: 절대 진도 매개변수\n",
        "- diameter: 물체 직경(등가 구에서) km 단위\n",
        "- albedo : 기하학적 알베도\n",
        "- rot_per : 회전 주기\n",
        "- spec_B : 스펙트럼\n",
        "- e: 편심\n",
        "- a: 반주축 au 단위\n",
        "- q: 주변 거리 au 단위\n",
        "- i: 경사, x-y 촉각 평면에 대한 각도\n",
        "- tp: 영구 통로 TDB 단위 시간\n",
        "- moid: 지구 최소 궤도 교차로 거리 au 단위\n",
        "- class : 소행성 궤도 등급"
      ]
    },
    {
      "cell_type": "markdown",
      "metadata": {
        "id": "3r1O_Clqgbkr"
      },
      "source": [
        "- name: Object IAU name\n",
        "- NEO: Near-Earth Object (NEO) flag\n",
        "- PHA: Potentially Hazardous Asteroid (PHA) flag\n",
        "- H: Absolute magnitude parameter\n",
        "- Diameter: object diameter (from equivalent sphere) km Unit\n",
        "- Albedo: Geometric albedo\n",
        "- rot_per : rotation period\n",
        "- spec_B : spectrum\n",
        "- e: Eccentricity\n",
        "- a: Semi-major axis au Unit\n",
        "- q: perihelion distance au Unit\n",
        "- i: inclination; angle with respect to x-y ecliptic plane\n",
        "- tp: Time of perihelion passage TDB Unit\n",
        "- moid: Earth Minimum Orbit Intersection Distance au Unit\n",
        "- class : asteroid orbit class"
      ]
    },
    {
      "cell_type": "code",
      "metadata": {
        "id": "vXJGxFdNxdlZ",
        "colab": {
          "base_uri": "https://localhost:8080/"
        },
        "outputId": "9c2b365d-a00f-4320-945c-03961630e6b2"
      },
      "source": [
        "datas.shape"
      ],
      "execution_count": null,
      "outputs": [
        {
          "output_type": "execute_result",
          "data": {
            "text/plain": [
              "(1079619, 21)"
            ]
          },
          "metadata": {
            "tags": []
          },
          "execution_count": 12
        }
      ]
    },
    {
      "cell_type": "code",
      "metadata": {
        "colab": {
          "base_uri": "https://localhost:8080/",
          "height": 908
        },
        "id": "LtjcHRGdgihe",
        "outputId": "0ec7ac45-a88e-4be6-cc52-31c473674214"
      },
      "source": [
        "datas[['H', 'moid', 'albedo', 'diameter', 'pha']].boxplot(by='pha', figsize=(20,10))\n",
        "\n",
        "#H값이 pha=Y일 경우 조금 더 작은 분포를 가짐"
      ],
      "execution_count": null,
      "outputs": [
        {
          "output_type": "stream",
          "text": [
            "/usr/local/lib/python3.7/dist-packages/numpy/core/_asarray.py:83: VisibleDeprecationWarning: Creating an ndarray from ragged nested sequences (which is a list-or-tuple of lists-or-tuples-or ndarrays with different lengths or shapes) is deprecated. If you meant to do this, you must specify 'dtype=object' when creating the ndarray\n",
            "  return array(a, dtype, copy=False, order=order)\n",
            "/usr/local/lib/python3.7/dist-packages/numpy/core/_asarray.py:83: VisibleDeprecationWarning: Creating an ndarray from ragged nested sequences (which is a list-or-tuple of lists-or-tuples-or ndarrays with different lengths or shapes) is deprecated. If you meant to do this, you must specify 'dtype=object' when creating the ndarray\n",
            "  return array(a, dtype, copy=False, order=order)\n",
            "/usr/local/lib/python3.7/dist-packages/numpy/core/_asarray.py:83: VisibleDeprecationWarning: Creating an ndarray from ragged nested sequences (which is a list-or-tuple of lists-or-tuples-or ndarrays with different lengths or shapes) is deprecated. If you meant to do this, you must specify 'dtype=object' when creating the ndarray\n",
            "  return array(a, dtype, copy=False, order=order)\n",
            "/usr/local/lib/python3.7/dist-packages/numpy/core/_asarray.py:83: VisibleDeprecationWarning: Creating an ndarray from ragged nested sequences (which is a list-or-tuple of lists-or-tuples-or ndarrays with different lengths or shapes) is deprecated. If you meant to do this, you must specify 'dtype=object' when creating the ndarray\n",
            "  return array(a, dtype, copy=False, order=order)\n"
          ],
          "name": "stderr"
        },
        {
          "output_type": "execute_result",
          "data": {
            "text/plain": [
              "array([[<matplotlib.axes._subplots.AxesSubplot object at 0x7fdec53c0a10>,\n",
              "        <matplotlib.axes._subplots.AxesSubplot object at 0x7fdec543cc10>],\n",
              "       [<matplotlib.axes._subplots.AxesSubplot object at 0x7fdec53c0650>,\n",
              "        <matplotlib.axes._subplots.AxesSubplot object at 0x7fdec536a350>]],\n",
              "      dtype=object)"
            ]
          },
          "metadata": {
            "tags": []
          },
          "execution_count": 23
        },
        {
          "output_type": "display_data",
          "data": {
            "image/png": "[encoded data removed]",
            "text/plain": [
              "<Figure size 1440x720 with 4 Axes>"
            ]
          },
          "metadata": {
            "tags": [],
            "needs_background": "light"
          }
        }
      ]
    },
    {
      "cell_type": "code",
      "metadata": {
        "colab": {
          "base_uri": "https://localhost:8080/",
          "height": 873
        },
        "id": "-jWEwkIEgimH",
        "outputId": "ad89f201-1ab3-4b49-f008-ed16c7657f70"
      },
      "source": [
        "datas[['om', 'w', 'ma', 'pha']].boxplot(by='pha', figsize=(20,10))\n",
        "\n",
        "# om w ma는 비슷함"
      ],
      "execution_count": null,
      "outputs": [
        {
          "output_type": "stream",
          "text": [
            "/usr/local/lib/python3.7/dist-packages/numpy/core/_asarray.py:83: VisibleDeprecationWarning: Creating an ndarray from ragged nested sequences (which is a list-or-tuple of lists-or-tuples-or ndarrays with different lengths or shapes) is deprecated. If you meant to do this, you must specify 'dtype=object' when creating the ndarray\n",
            "  return array(a, dtype, copy=False, order=order)\n",
            "/usr/local/lib/python3.7/dist-packages/numpy/core/_asarray.py:83: VisibleDeprecationWarning: Creating an ndarray from ragged nested sequences (which is a list-or-tuple of lists-or-tuples-or ndarrays with different lengths or shapes) is deprecated. If you meant to do this, you must specify 'dtype=object' when creating the ndarray\n",
            "  return array(a, dtype, copy=False, order=order)\n",
            "/usr/local/lib/python3.7/dist-packages/numpy/core/_asarray.py:83: VisibleDeprecationWarning: Creating an ndarray from ragged nested sequences (which is a list-or-tuple of lists-or-tuples-or ndarrays with different lengths or shapes) is deprecated. If you meant to do this, you must specify 'dtype=object' when creating the ndarray\n",
            "  return array(a, dtype, copy=False, order=order)\n"
          ],
          "name": "stderr"
        },
        {
          "output_type": "execute_result",
          "data": {
            "text/plain": [
              "array([[<matplotlib.axes._subplots.AxesSubplot object at 0x7fdec5079e50>,\n",
              "        <matplotlib.axes._subplots.AxesSubplot object at 0x7fdec5122a10>],\n",
              "       [<matplotlib.axes._subplots.AxesSubplot object at 0x7fdec5079ed0>,\n",
              "        <matplotlib.axes._subplots.AxesSubplot object at 0x7fdec501de10>]],\n",
              "      dtype=object)"
            ]
          },
          "metadata": {
            "tags": []
          },
          "execution_count": 25
        },
        {
          "output_type": "display_data",
          "data": {
            "image/png": "[encoded data removed]",
            "text/plain": [
              "<Figure size 1440x720 with 4 Axes>"
            ]
          },
          "metadata": {
            "tags": [],
            "needs_background": "light"
          }
        }
      ]
    },
    {
      "cell_type": "code",
      "metadata": {
        "colab": {
          "base_uri": "https://localhost:8080/",
          "height": 434
        },
        "id": "Hrm_wMYcgl7t",
        "outputId": "3da02e22-d4cf-4373-e985-716dfa24a425"
      },
      "source": [
        "\n",
        "datas[[ 'moid', 'pha']].boxplot(by='pha', figsize=(8,5))\n",
        "\n",
        "# moid 역시 Y일 경우 더 작은 분포"
      ],
      "execution_count": null,
      "outputs": [
        {
          "output_type": "stream",
          "text": [
            "/usr/local/lib/python3.7/dist-packages/numpy/core/_asarray.py:83: VisibleDeprecationWarning: Creating an ndarray from ragged nested sequences (which is a list-or-tuple of lists-or-tuples-or ndarrays with different lengths or shapes) is deprecated. If you meant to do this, you must specify 'dtype=object' when creating the ndarray\n",
            "  return array(a, dtype, copy=False, order=order)\n"
          ],
          "name": "stderr"
        },
        {
          "output_type": "execute_result",
          "data": {
            "text/plain": [
              "<matplotlib.axes._subplots.AxesSubplot at 0x7fdec516ac90>"
            ]
          },
          "metadata": {
            "tags": []
          },
          "execution_count": 24
        },
        {
          "output_type": "display_data",
          "data": {
            "image/png": "[encoded data removed]",
            "text/plain": [
              "<Figure size 576x360 with 1 Axes>"
            ]
          },
          "metadata": {
            "tags": [],
            "needs_background": "light"
          }
        }
      ]
    },
    {
      "cell_type": "code",
      "metadata": {
        "colab": {
          "base_uri": "https://localhost:8080/",
          "height": 434
        },
        "id": "TSFP8L-DgprZ",
        "outputId": "711193d0-000b-4be8-da99-238baa5be03c"
      },
      "source": [
        "datas[['e', 'pha']].boxplot(by='pha', figsize=(8,5))\n",
        "\n",
        "# e는 "
      ],
      "execution_count": null,
      "outputs": [
        {
          "output_type": "stream",
          "text": [
            "/usr/local/lib/python3.7/dist-packages/numpy/core/_asarray.py:83: VisibleDeprecationWarning: Creating an ndarray from ragged nested sequences (which is a list-or-tuple of lists-or-tuples-or ndarrays with different lengths or shapes) is deprecated. If you meant to do this, you must specify 'dtype=object' when creating the ndarray\n",
            "  return array(a, dtype, copy=False, order=order)\n"
          ],
          "name": "stderr"
        },
        {
          "output_type": "execute_result",
          "data": {
            "text/plain": [
              "<matplotlib.axes._subplots.AxesSubplot at 0x7fdec4e54cd0>"
            ]
          },
          "metadata": {
            "tags": []
          },
          "execution_count": 26
        },
        {
          "output_type": "display_data",
          "data": {
            "image/png": "[encoded data removed]",
            "text/plain": [
              "<Figure size 576x360 with 1 Axes>"
            ]
          },
          "metadata": {
            "tags": [],
            "needs_background": "light"
          }
        }
      ]
    },
    {
      "cell_type": "code",
      "metadata": {
        "colab": {
          "base_uri": "https://localhost:8080/",
          "height": 433
        },
        "id": "yEYmZ1kuXAem",
        "outputId": "b44ceee4-e98e-4ad0-bbf8-1c7a87f191d1"
      },
      "source": [
        "datas[['tp', 'pha']].boxplot(by='pha', figsize=(8,5))\n"
      ],
      "execution_count": null,
      "outputs": [
        {
          "output_type": "stream",
          "text": [
            "/usr/local/lib/python3.7/dist-packages/numpy/core/_asarray.py:83: VisibleDeprecationWarning: Creating an ndarray from ragged nested sequences (which is a list-or-tuple of lists-or-tuples-or ndarrays with different lengths or shapes) is deprecated. If you meant to do this, you must specify 'dtype=object' when creating the ndarray\n",
            "  return array(a, dtype, copy=False, order=order)\n"
          ],
          "name": "stderr"
        },
        {
          "output_type": "execute_result",
          "data": {
            "text/plain": [
              "<matplotlib.axes._subplots.AxesSubplot at 0x7fc837c2c550>"
            ]
          },
          "metadata": {
            "tags": []
          },
          "execution_count": 6
        },
        {
          "output_type": "display_data",
          "data": {
            "image/png": "[encoded data removed]",
            "text/plain": [
              "<Figure size 576x360 with 1 Axes>"
            ]
          },
          "metadata": {
            "tags": [],
            "needs_background": "light"
          }
        }
      ]
    },
    {
      "cell_type": "code",
      "metadata": {
        "colab": {
          "base_uri": "https://localhost:8080/",
          "height": 433
        },
        "id": "cVuWniR4XNir",
        "outputId": "36281763-c11d-4408-bac4-43a57104cbc9"
      },
      "source": [
        "datas[['rot_per', 'pha']].boxplot(by='pha', figsize=(8,5))\n"
      ],
      "execution_count": null,
      "outputs": [
        {
          "output_type": "stream",
          "text": [
            "/usr/local/lib/python3.7/dist-packages/numpy/core/_asarray.py:83: VisibleDeprecationWarning: Creating an ndarray from ragged nested sequences (which is a list-or-tuple of lists-or-tuples-or ndarrays with different lengths or shapes) is deprecated. If you meant to do this, you must specify 'dtype=object' when creating the ndarray\n",
            "  return array(a, dtype, copy=False, order=order)\n"
          ],
          "name": "stderr"
        },
        {
          "output_type": "execute_result",
          "data": {
            "text/plain": [
              "<matplotlib.axes._subplots.AxesSubplot at 0x7fc8376f7f90>"
            ]
          },
          "metadata": {
            "tags": []
          },
          "execution_count": 7
        },
        {
          "output_type": "display_data",
          "data": {
            "image/png": "[encoded data removed]",
            "text/plain": [
              "<Figure size 576x360 with 1 Axes>"
            ]
          },
          "metadata": {
            "tags": [],
            "needs_background": "light"
          }
        }
      ]
    },
    {
      "cell_type": "code",
      "metadata": {
        "id": "cDkbjfntxds_",
        "colab": {
          "base_uri": "https://localhost:8080/"
        },
        "outputId": "f1d5f6e6-7795-421d-c14c-d820bdcbd97b"
      },
      "source": [
        "\n",
        "\n",
        "print(datas.pha.value_counts())\n",
        "# pha빈도수\n",
        "\n",
        "print(datas[datas.neo=='Y'].pha.value_counts())\n",
        "# neo = 'y' 조건 적용 후 빈도수\n",
        "\n",
        "# neo = 'y' 적용 후 pha='Y' 데이터는 살리고 N 데이터는 축소"
      ],
      "execution_count": null,
      "outputs": [
        {
          "output_type": "stream",
          "text": [
            "N    1066841\n",
            "Y       2163\n",
            "Name: pha, dtype: int64\n",
            "N    23564\n",
            "Y     2163\n",
            "Name: pha, dtype: int64\n"
          ],
          "name": "stdout"
        }
      ]
    },
    {
      "cell_type": "code",
      "metadata": {
        "colab": {
          "base_uri": "https://localhost:8080/"
        },
        "id": "2MqPuMbpGD7t",
        "outputId": "590fd094-13b5-44d5-955b-67b46f302642"
      },
      "source": [
        "datas.isnull().sum()\n",
        "\n",
        "# 결측치 확인"
      ],
      "execution_count": null,
      "outputs": [
        {
          "output_type": "execute_result",
          "data": {
            "text/plain": [
              "name        1057436\n",
              "neo               2\n",
              "pha           10615\n",
              "H              3986\n",
              "diameter     939620\n",
              "albedo       940771\n",
              "rot_per     1047042\n",
              "spec_B      1077953\n",
              "e                 0\n",
              "a                 0\n",
              "q                 0\n",
              "i                 0\n",
              "om                0\n",
              "w                 0\n",
              "ma                1\n",
              "ad                2\n",
              "n                 0\n",
              "tp                0\n",
              "per               2\n",
              "moid          10615\n",
              "class             0\n",
              "dtype: int64"
            ]
          },
          "metadata": {
            "tags": []
          },
          "execution_count": 36
        }
      ]
    },
    {
      "cell_type": "code",
      "metadata": {
        "colab": {
          "base_uri": "https://localhost:8080/"
        },
        "id": "xYuSKX2mGImV",
        "outputId": "ee8405d0-f934-487c-e177-e9d8425c0f50"
      },
      "source": [
        "datas[datas.neo=='Y'].isnull().sum()\n",
        "\n",
        "# 사전조건 후 결측치 확인"
      ],
      "execution_count": null,
      "outputs": [
        {
          "output_type": "execute_result",
          "data": {
            "text/plain": [
              "name        25566\n",
              "neo             0\n",
              "pha             1\n",
              "H               7\n",
              "diameter    24477\n",
              "albedo      24522\n",
              "rot_per     23910\n",
              "spec_B      25415\n",
              "e               0\n",
              "a               0\n",
              "q               0\n",
              "i               0\n",
              "om              0\n",
              "w               0\n",
              "ma              0\n",
              "ad              0\n",
              "n               0\n",
              "tp              0\n",
              "per             0\n",
              "moid            1\n",
              "class           0\n",
              "dtype: int64"
            ]
          },
          "metadata": {
            "tags": []
          },
          "execution_count": 62
        }
      ]
    },
    {
      "cell_type": "markdown",
      "metadata": {
        "id": "n8YblWiF2rZj"
      },
      "source": [
        "### 데이터 전처리"
      ]
    },
    {
      "cell_type": "code",
      "metadata": {
        "id": "tIp1nQ3wxd0h",
        "colab": {
          "base_uri": "https://localhost:8080/"
        },
        "outputId": "e458fde2-d53a-43df-a3a0-47102fd84eca"
      },
      "source": [
        "phas = datas[datas.neo=='Y']\n",
        "# neo = 'Y'로 사전 조건을 적용하여 데이터 셋을 축소\n",
        "print(phas.shape)\n",
        "\n",
        "phas = phas.dropna(subset=['pha'])\n",
        "phas = phas.dropna(subset=['H'])\n",
        "phas = phas.dropna(subset=['moid'])\n",
        "print(phas.shape)\n",
        "# 결측치가 있는 row 버리기\n",
        "\n",
        "\n",
        "X = phas.drop('pha', axis=1)\n",
        "# 타겟값으로 쓸 pha 특성 버리기\n",
        "\n",
        "y = phas['pha']\n",
        "# 타겟값\n",
        "\n",
        "X = X.drop(['name', 'diameter', 'albedo', 'rot_per', 'spec_B', 'neo'], axis=1)\n",
        "# 데이터가 거의 결측치인 5가지 특성 버림"
      ],
      "execution_count": 4,
      "outputs": [
        {
          "output_type": "stream",
          "text": [
            "(25728, 21)\n",
            "(25720, 21)\n"
          ],
          "name": "stdout"
        }
      ]
    },
    {
      "cell_type": "code",
      "metadata": {
        "id": "vKgJBcjg370c"
      },
      "source": [
        "X_drops = X.drop(['moid', 'H'], axis=1)"
      ],
      "execution_count": 7,
      "outputs": []
    },
    {
      "cell_type": "code",
      "metadata": {
        "id": "Pw-VK44zxd3W",
        "colab": {
          "base_uri": "https://localhost:8080/"
        },
        "outputId": "06f91215-02a3-48a0-8135-022d4902231d"
      },
      "source": [
        "columns = X.columns\n",
        "columns\n",
        "\n",
        "# 남은 특성들"
      ],
      "execution_count": null,
      "outputs": [
        {
          "output_type": "execute_result",
          "data": {
            "text/plain": [
              "Index(['H', 'e', 'a', 'q', 'i', 'om', 'w', 'ma', 'ad', 'n', 'tp', 'per',\n",
              "       'moid', 'class'],\n",
              "      dtype='object')"
            ]
          },
          "metadata": {
            "tags": []
          },
          "execution_count": 5
        }
      ]
    },
    {
      "cell_type": "code",
      "metadata": {
        "colab": {
          "base_uri": "https://localhost:8080/"
        },
        "id": "rA3lDOKaGhBC",
        "outputId": "02f455de-70bd-48c6-b8fc-f693963cc61e"
      },
      "source": [
        "print(X.shape)\n",
        "print(y.shape)\n",
        "\n",
        "# 거의 결측치인 특성 7개와 소수의 결측치만 있는 것들 행 지우기"
      ],
      "execution_count": null,
      "outputs": [
        {
          "output_type": "stream",
          "text": [
            "(25720, 14)\n",
            "(25720,)\n"
          ],
          "name": "stdout"
        }
      ]
    },
    {
      "cell_type": "code",
      "metadata": {
        "id": "asQTlNFtjHvk"
      },
      "source": [
        "y.value_counts()"
      ],
      "execution_count": null,
      "outputs": []
    },
    {
      "cell_type": "code",
      "metadata": {
        "id": "7F0lBiJs5x-X"
      },
      "source": [
        "ct = make_column_transformer((OneHotEncoder(), ['class']),   #클래스는 OHE로  처리\n",
        "                            (StandardScaler(), ['H', 'e', 'a', 'q', 'i', 'om', 'w', 'ma','ad', 'n', 'tp', 'per', 'moid']))  # 연속형 변수들은 스탠다드 스케일러로 처리\n",
        "\n",
        "X_train, X_test, y_train, y_test = train_test_split(X,y,random_state=0)\n",
        "#훈련 데이터와 테스트 데이터로 나눔\n",
        "\n",
        "X_train_trans = ct.fit_transform(X_train)\n",
        "X_test_trans = ct.transform(X_test)\n",
        "# 데이터 전처리 / ohe + scaling\n"
      ],
      "execution_count": 5,
      "outputs": []
    },
    {
      "cell_type": "code",
      "metadata": {
        "id": "5uMH6M0m4GdP"
      },
      "source": [
        "ct = make_column_transformer((OneHotEncoder(), ['class']),   #클래스는 OHE로  처리\n",
        "                            (StandardScaler(), ['e', 'a', 'q', 'i', 'om', 'w', 'ma','ad', 'n', 'tp', 'per']))  # 연속형 변수들은 스탠다드 스케일러로 처리\n",
        "\n",
        "X_train_d, X_test_d, y_train_d, y_test_d = train_test_split(X_drops,y,random_state=0)\n",
        "#훈련 데이터와 테스트 데이터로 나눔\n",
        "\n",
        "X_train_transd = ct.fit_transform(X_train)\n",
        "X_test_transd = ct.transform(X_test)\n",
        "# 데이터 전처리 / ohe + scaling\n"
      ],
      "execution_count": 8,
      "outputs": []
    },
    {
      "cell_type": "markdown",
      "metadata": {
        "id": "HAPI3saX2wEe"
      },
      "source": [
        "### 모델 적용"
      ]
    },
    {
      "cell_type": "code",
      "metadata": {
        "colab": {
          "base_uri": "https://localhost:8080/"
        },
        "id": "M-XJPEiv4Wfr",
        "outputId": "0fa6bd1f-fa29-42da-e32d-ce0a6e895c0a"
      },
      "source": [
        "rf = RandomForestClassifier(random_state=0).fit(X_train_transd, y_train)\n",
        "rf.score(X_test_transd, y_test)"
      ],
      "execution_count": null,
      "outputs": [
        {
          "output_type": "execute_result",
          "data": {
            "text/plain": [
              "0.9172628304821151"
            ]
          },
          "metadata": {
            "tags": []
          },
          "execution_count": 42
        }
      ]
    },
    {
      "cell_type": "code",
      "metadata": {
        "id": "YsSXVchH4h8D",
        "colab": {
          "base_uri": "https://localhost:8080/"
        },
        "outputId": "6eab3d01-58a6-4bec-ae4e-75c8f6a566a6"
      },
      "source": [
        "confusion_matrix(y_test, rf.predict(X_test_transd))"
      ],
      "execution_count": null,
      "outputs": [
        {
          "output_type": "execute_result",
          "data": {
            "text/plain": [
              "array([[5890,   16],\n",
              "       [ 516,    8]])"
            ]
          },
          "metadata": {
            "tags": []
          },
          "execution_count": 43
        }
      ]
    },
    {
      "cell_type": "code",
      "metadata": {
        "colab": {
          "base_uri": "https://localhost:8080/"
        },
        "id": "F1EItZGl5yGR",
        "outputId": "3f7744a3-2a27-476a-f4a7-e85a0853d751"
      },
      "source": [
        "print(X_train.shape)\n",
        "print(X_test.shape)\n",
        "\n",
        "print(X_train_trans.shape)\n",
        "print(X_test_trans.shape)\n",
        "\n",
        "# 클래스 특성 1개에서 4개로 늘어나 특성이 3개 더 생김"
      ],
      "execution_count": null,
      "outputs": [
        {
          "output_type": "stream",
          "text": [
            "(19295, 14)\n",
            "(6432, 14)\n",
            "(19295, 17)\n",
            "(6432, 17)\n"
          ],
          "name": "stdout"
        }
      ]
    },
    {
      "cell_type": "code",
      "metadata": {
        "colab": {
          "base_uri": "https://localhost:8080/"
        },
        "id": "14Kn3jv45yL_",
        "outputId": "2e42bc40-727a-4866-a983-88500fa122a3"
      },
      "source": [
        "print(y_train.value_counts())\n",
        "print(y_test.value_counts())\n",
        "\n",
        "# 11 : 1 정도의 분포"
      ],
      "execution_count": null,
      "outputs": [
        {
          "output_type": "stream",
          "text": [
            "N    17651\n",
            "Y     1639\n",
            "Name: pha, dtype: int64\n",
            "N    5906\n",
            "Y     524\n",
            "Name: pha, dtype: int64\n"
          ],
          "name": "stdout"
        }
      ]
    },
    {
      "cell_type": "code",
      "metadata": {
        "colab": {
          "base_uri": "https://localhost:8080/"
        },
        "id": "GW14d39n56N4",
        "outputId": "e4e948fd-a1ff-4fbe-d721-99dbff967a9a"
      },
      "source": [
        "# svc 기본값으로 테스트\n",
        "\n",
        "svm = SVC(random_state=0).fit(X_train_trans, y_train)\n",
        "print(svm.score(X_test_trans, y_test))\n",
        "\n",
        "# OHE + StandardScaler"
      ],
      "execution_count": null,
      "outputs": [
        {
          "output_type": "stream",
          "text": [
            "0.9743390357698289\n"
          ],
          "name": "stdout"
        }
      ]
    },
    {
      "cell_type": "code",
      "metadata": {
        "colab": {
          "base_uri": "https://localhost:8080/"
        },
        "id": "Jz91Flor56Rk",
        "outputId": "4043080c-6e07-42d6-e25c-d050a24ec099"
      },
      "source": [
        "print(confusion_matrix(y_test, svm.predict(X_test_trans)))\n",
        "\n",
        "# 정확도는 높지만 데이터가 불균형하여 실제로는 pha=y에 대한 구분이 제대로 이루어지지 않음"
      ],
      "execution_count": null,
      "outputs": [
        {
          "output_type": "stream",
          "text": [
            "[[5846   60]\n",
            " [ 105  419]]\n"
          ],
          "name": "stdout"
        }
      ]
    },
    {
      "cell_type": "code",
      "metadata": {
        "colab": {
          "base_uri": "https://localhost:8080/"
        },
        "id": "jb7oJlZU56T2",
        "outputId": "868200af-49cc-457a-ad9d-61ad76173a67"
      },
      "source": [
        "print(classification_report(y_test, svm.predict(X_test_trans)))"
      ],
      "execution_count": null,
      "outputs": [
        {
          "output_type": "stream",
          "text": [
            "              precision    recall  f1-score   support\n",
            "\n",
            "           N       0.98      0.99      0.99      5906\n",
            "           Y       0.87      0.80      0.84       524\n",
            "\n",
            "    accuracy                           0.97      6430\n",
            "   macro avg       0.93      0.89      0.91      6430\n",
            "weighted avg       0.97      0.97      0.97      6430\n",
            "\n"
          ],
          "name": "stdout"
        }
      ]
    },
    {
      "cell_type": "code",
      "metadata": {
        "colab": {
          "base_uri": "https://localhost:8080/"
        },
        "id": "CGns_UCyJYIK",
        "outputId": "39a8b2b0-3f74-4d31-b1c2-88587bfda29d"
      },
      "source": [
        "ct_ori = make_column_transformer((OneHotEncoder(), ['class']),\n",
        "                            remainder='passthrough')   #클래스는 OHE로  처리\n",
        "X_train_ori = ct_ori.fit_transform(X_train)\n",
        "X_test_ori = ct_ori.transform(X_test)\n",
        "\n",
        "\n",
        "svm_ori = SVC(random_state=0).fit(X_train_ori, y_train)\n",
        "print(svm_ori.score(X_test_ori, y_test))\n",
        "\n",
        "# OHE\n",
        "# 스케일링 X\n",
        "# 스케일링에 영향을 받는 모델이라서 점수가 조금 떨어짐\n"
      ],
      "execution_count": 10,
      "outputs": [
        {
          "output_type": "stream",
          "text": [
            "0.91850699844479\n"
          ],
          "name": "stdout"
        }
      ]
    },
    {
      "cell_type": "code",
      "metadata": {
        "colab": {
          "base_uri": "https://localhost:8080/"
        },
        "id": "ZJgYyZOMJZeP",
        "outputId": "44179e9b-fe8c-477e-b4d7-7104a91c84ec"
      },
      "source": [
        "print(confusion_matrix(y_test, svm_ori.predict(X_test_ori)))\n",
        "print(classification_report(y_test, svm_ori.predict(X_test_ori)))"
      ],
      "execution_count": null,
      "outputs": [
        {
          "output_type": "stream",
          "text": [
            "[[5906    0]\n",
            " [ 524    0]]\n",
            "              precision    recall  f1-score   support\n",
            "\n",
            "           N       0.92      1.00      0.96      5906\n",
            "           Y       0.00      0.00      0.00       524\n",
            "\n",
            "    accuracy                           0.92      6430\n",
            "   macro avg       0.46      0.50      0.48      6430\n",
            "weighted avg       0.84      0.92      0.88      6430\n",
            "\n"
          ],
          "name": "stdout"
        },
        {
          "output_type": "stream",
          "text": [
            "/usr/local/lib/python3.7/dist-packages/sklearn/metrics/_classification.py:1272: UndefinedMetricWarning: Precision and F-score are ill-defined and being set to 0.0 in labels with no predicted samples. Use `zero_division` parameter to control this behavior.\n",
            "  _warn_prf(average, modifier, msg_start, len(result))\n"
          ],
          "name": "stderr"
        }
      ]
    },
    {
      "cell_type": "code",
      "metadata": {
        "colab": {
          "base_uri": "https://localhost:8080/"
        },
        "id": "FmlnLzXN56We",
        "outputId": "e8a9b40b-0bff-4be5-d4b6-bedc3939cf47"
      },
      "source": [
        "smote = SMOTE(random_state=0, sampling_strategy=0.3)\n",
        "X_train_smote, y_train_smote = smote.fit_resample(X_train_ori, y_train)\n",
        "\n",
        "# smote 오버샘플링\n",
        "# sampling_strategy = 비율\n",
        "# 무작위성 제어를 위하여 RandomState 설정\n",
        "\n",
        "\n",
        "\n",
        "print(X_train_smote.shape)\n",
        "\n",
        "print(y_train.value_counts())\n",
        "print(pd.DataFrame(y_train_smote).value_counts())\n",
        "\n",
        "# 설정한 비율에 맞춰서 1639 -> 5295로 오버 샘플링 됐음"
      ],
      "execution_count": null,
      "outputs": [
        {
          "output_type": "stream",
          "text": [
            "(22946, 17)\n",
            "N    17651\n",
            "Y     1639\n",
            "Name: pha, dtype: int64\n",
            "N    17651\n",
            "Y     5295\n",
            "dtype: int64\n"
          ],
          "name": "stdout"
        },
        {
          "output_type": "stream",
          "text": [
            "/usr/local/lib/python3.7/dist-packages/sklearn/utils/deprecation.py:87: FutureWarning: Function safe_indexing is deprecated; safe_indexing is deprecated in version 0.22 and will be removed in version 0.24.\n",
            "  warnings.warn(msg, category=FutureWarning)\n"
          ],
          "name": "stderr"
        }
      ]
    },
    {
      "cell_type": "code",
      "metadata": {
        "colab": {
          "base_uri": "https://localhost:8080/"
        },
        "id": "uugMi_be56Y-",
        "outputId": "85611a82-55b1-4b7c-aa90-780eaf125202"
      },
      "source": [
        "svm_smote = SVC(random_state=0).fit(X_train_smote, y_train_smote)\n",
        "print(svm_smote.score(X_test_ori, y_test))"
      ],
      "execution_count": null,
      "outputs": [
        {
          "output_type": "stream",
          "text": [
            "0.91850699844479\n"
          ],
          "name": "stdout"
        }
      ]
    },
    {
      "cell_type": "code",
      "metadata": {
        "colab": {
          "base_uri": "https://localhost:8080/"
        },
        "id": "3aC1lKNc6U-A",
        "outputId": "8b336d48-339c-4d86-b3c5-394a65eae270"
      },
      "source": [
        "confusion_matrix(y_test, svm_smote.predict(X_test_ori))\n"
      ],
      "execution_count": null,
      "outputs": [
        {
          "output_type": "execute_result",
          "data": {
            "text/plain": [
              "array([[5906,    0],\n",
              "       [ 524,    0]])"
            ]
          },
          "metadata": {
            "tags": []
          },
          "execution_count": 16
        }
      ]
    },
    {
      "cell_type": "code",
      "metadata": {
        "colab": {
          "base_uri": "https://localhost:8080/"
        },
        "id": "Wya6KOSV6VPU",
        "outputId": "6c628343-f7c2-43f4-f3b8-8aad9daf3184"
      },
      "source": [
        "scaler = StandardScaler()\n",
        "\n",
        "X_train_smote_trans = scaler.fit_transform(X_train_smote)\n",
        "svm_smote_trans = SVC(random_state=0, C=10, gamma=0.1).fit(X_train_smote_trans, y_train_smote)\n",
        "\n",
        "\n",
        "print(svm_smote.score(X_test_trans, y_test))\n",
        "confusion_matrix(y_test, svm_smote_trans.predict(X_test_trans))\n"
      ],
      "execution_count": null,
      "outputs": [
        {
          "output_type": "stream",
          "text": [
            "0.91850699844479\n"
          ],
          "name": "stdout"
        },
        {
          "output_type": "execute_result",
          "data": {
            "text/plain": [
              "array([[5530,  376],\n",
              "       [  16,  508]])"
            ]
          },
          "metadata": {
            "tags": []
          },
          "execution_count": 29
        }
      ]
    },
    {
      "cell_type": "markdown",
      "metadata": {
        "id": "izgXfgVXJB7C"
      },
      "source": [
        "준비한 훈련/테스트 데이터 셋\n",
        "\n",
        "- X_trans -> OHE + StandardScaling\n",
        "- X_ori - > OHE\n",
        "- X_smote -> X_ori + smote\n",
        "- X_smote_trans -> X_trans + smote"
      ]
    },
    {
      "cell_type": "code",
      "metadata": {
        "id": "k4D6_7u96joH",
        "colab": {
          "base_uri": "https://localhost:8080/"
        },
        "outputId": "afcd4b99-3019-4dd6-a0b8-7f5d073cb0cb"
      },
      "source": [
        "# 매개변수 그리드 적용\n",
        "# C와 gamma값으로 실행\n",
        "\n",
        "pipe = make_pipeline(\n",
        "    StandardScaler(),\n",
        "    SVC(random_state=0)\n",
        ")\n",
        "\n",
        "pipe.steps"
      ],
      "execution_count": null,
      "outputs": [
        {
          "output_type": "execute_result",
          "data": {
            "text/plain": [
              "[('standardscaler', StandardScaler(copy=True, with_mean=True, with_std=True)),\n",
              " ('svc',\n",
              "  SVC(C=1.0, break_ties=False, cache_size=200, class_weight=None, coef0=0.0,\n",
              "      decision_function_shape='ovr', degree=3, gamma='scale', kernel='rbf',\n",
              "      max_iter=-1, probability=False, random_state=0, shrinking=True, tol=0.001,\n",
              "      verbose=False))]"
            ]
          },
          "metadata": {
            "tags": []
          },
          "execution_count": 18
        }
      ]
    },
    {
      "cell_type": "code",
      "metadata": {
        "id": "oc2Qw5BQSkyy"
      },
      "source": [
        "\n",
        "param_grid = { \n",
        "              'svc__C' : [0.001, 0.01, 0.1, 1, 10,100],\n",
        "             'svc__gamma': [ 0.001, 0.01, 0.1, 1, 10,100],\n",
        "             }\n",
        "\n",
        "grid_search = GridSearchCV(pipe, param_grid, cv=5)"
      ],
      "execution_count": null,
      "outputs": []
    },
    {
      "cell_type": "code",
      "metadata": {
        "id": "CPPZwWrPSybD",
        "colab": {
          "base_uri": "https://localhost:8080/"
        },
        "outputId": "402babaf-b034-4972-bec5-5bbda8efc56e"
      },
      "source": [
        "grid_search.fit(X_train_ori, y_train)"
      ],
      "execution_count": null,
      "outputs": [
        {
          "output_type": "execute_result",
          "data": {
            "text/plain": [
              "GridSearchCV(cv=5, error_score=nan,\n",
              "             estimator=Pipeline(memory=None,\n",
              "                                steps=[('standardscaler',\n",
              "                                        StandardScaler(copy=True,\n",
              "                                                       with_mean=True,\n",
              "                                                       with_std=True)),\n",
              "                                       ('svc',\n",
              "                                        SVC(C=1.0, break_ties=False,\n",
              "                                            cache_size=200, class_weight=None,\n",
              "                                            coef0=0.0,\n",
              "                                            decision_function_shape='ovr',\n",
              "                                            degree=3, gamma='scale',\n",
              "                                            kernel='rbf', max_iter=-1,\n",
              "                                            probability=False, random_state=0,\n",
              "                                            shrinking=True, tol=0.001,\n",
              "                                            verbose=False))],\n",
              "                                verbose=False),\n",
              "             iid='deprecated', n_jobs=None,\n",
              "             param_grid={'svc__C': [0.001, 0.01, 0.1, 1, 10, 100],\n",
              "                         'svc__gamma': [0.001, 0.01, 0.1, 1, 10, 100]},\n",
              "             pre_dispatch='2*n_jobs', refit=True, return_train_score=False,\n",
              "             scoring=None, verbose=0)"
            ]
          },
          "metadata": {
            "tags": []
          },
          "execution_count": 20
        }
      ]
    },
    {
      "cell_type": "code",
      "metadata": {
        "colab": {
          "base_uri": "https://localhost:8080/"
        },
        "id": "YRdkzJeo6jwK",
        "outputId": "1db72aa2-49c6-42a2-8a88-3a1272bd2361"
      },
      "source": [
        "\n",
        "print(\"테스트 세트 점수 : \", grid_search.score(X_test_ori, y_test))\n",
        "print(\"최적 매개변수 \", grid_search.best_params_)\n",
        "print(\"최적 교차 검증 점수 \", grid_search.best_score_)\n",
        "print(\"최적 성능 모델 \", grid_search.best_estimator_)\n"
      ],
      "execution_count": null,
      "outputs": [
        {
          "output_type": "stream",
          "text": [
            "테스트 세트 점수 :  0.9810264385692068\n",
            "최적 매개변수  {'svc__C': 100, 'svc__gamma': 0.1}\n",
            "최적 교차 검증 점수  0.9800933125972005\n",
            "최적 성능 모델  Pipeline(memory=None,\n",
            "         steps=[('standardscaler',\n",
            "                 StandardScaler(copy=True, with_mean=True, with_std=True)),\n",
            "                ('svc',\n",
            "                 SVC(C=100, break_ties=False, cache_size=200, class_weight=None,\n",
            "                     coef0=0.0, decision_function_shape='ovr', degree=3,\n",
            "                     gamma=0.1, kernel='rbf', max_iter=-1, probability=False,\n",
            "                     random_state=0, shrinking=True, tol=0.001,\n",
            "                     verbose=False))],\n",
            "         verbose=False)\n"
          ],
          "name": "stdout"
        }
      ]
    },
    {
      "cell_type": "code",
      "metadata": {
        "colab": {
          "base_uri": "https://localhost:8080/",
          "height": 491
        },
        "id": "o6i4m1Zl994g",
        "outputId": "d580fe40-f8fe-476f-a33f-168455198400"
      },
      "source": [
        "res = pd.DataFrame(grid_search.cv_results_)\n",
        "display(np.transpose(res.head()))"
      ],
      "execution_count": null,
      "outputs": [
        {
          "output_type": "display_data",
          "data": {
            "text/html": [
              "<div>\n",
              "<style scoped>\n",
              "    .dataframe tbody tr th:only-of-type {\n",
              "        vertical-align: middle;\n",
              "    }\n",
              "\n",
              "    .dataframe tbody tr th {\n",
              "        vertical-align: top;\n",
              "    }\n",
              "\n",
              "    .dataframe thead th {\n",
              "        text-align: right;\n",
              "    }\n",
              "</style>\n",
              "<table border=\"1\" class=\"dataframe\">\n",
              "  <thead>\n",
              "    <tr style=\"text-align: right;\">\n",
              "      <th></th>\n",
              "      <th>0</th>\n",
              "      <th>1</th>\n",
              "      <th>2</th>\n",
              "      <th>3</th>\n",
              "      <th>4</th>\n",
              "    </tr>\n",
              "  </thead>\n",
              "  <tbody>\n",
              "    <tr>\n",
              "      <th>mean_fit_time</th>\n",
              "      <td>2.14321</td>\n",
              "      <td>2.14793</td>\n",
              "      <td>2.15391</td>\n",
              "      <td>2.13202</td>\n",
              "      <td>2.26815</td>\n",
              "    </tr>\n",
              "    <tr>\n",
              "      <th>std_fit_time</th>\n",
              "      <td>0.0114803</td>\n",
              "      <td>0.00664139</td>\n",
              "      <td>0.0195552</td>\n",
              "      <td>0.00961066</td>\n",
              "      <td>0.0149451</td>\n",
              "    </tr>\n",
              "    <tr>\n",
              "      <th>mean_score_time</th>\n",
              "      <td>0.417671</td>\n",
              "      <td>0.421417</td>\n",
              "      <td>0.416</td>\n",
              "      <td>0.42589</td>\n",
              "      <td>0.45348</td>\n",
              "    </tr>\n",
              "    <tr>\n",
              "      <th>std_score_time</th>\n",
              "      <td>0.00377326</td>\n",
              "      <td>0.00900424</td>\n",
              "      <td>0.0021512</td>\n",
              "      <td>0.00253056</td>\n",
              "      <td>0.00921615</td>\n",
              "    </tr>\n",
              "    <tr>\n",
              "      <th>param_svc__C</th>\n",
              "      <td>0.001</td>\n",
              "      <td>0.001</td>\n",
              "      <td>0.001</td>\n",
              "      <td>0.001</td>\n",
              "      <td>0.001</td>\n",
              "    </tr>\n",
              "    <tr>\n",
              "      <th>param_svc__gamma</th>\n",
              "      <td>0.001</td>\n",
              "      <td>0.01</td>\n",
              "      <td>0.1</td>\n",
              "      <td>1</td>\n",
              "      <td>10</td>\n",
              "    </tr>\n",
              "    <tr>\n",
              "      <th>params</th>\n",
              "      <td>{'svc__C': 0.001, 'svc__gamma': 0.001}</td>\n",
              "      <td>{'svc__C': 0.001, 'svc__gamma': 0.01}</td>\n",
              "      <td>{'svc__C': 0.001, 'svc__gamma': 0.1}</td>\n",
              "      <td>{'svc__C': 0.001, 'svc__gamma': 1}</td>\n",
              "      <td>{'svc__C': 0.001, 'svc__gamma': 10}</td>\n",
              "    </tr>\n",
              "    <tr>\n",
              "      <th>split0_test_score</th>\n",
              "      <td>0.915241</td>\n",
              "      <td>0.915241</td>\n",
              "      <td>0.915241</td>\n",
              "      <td>0.915241</td>\n",
              "      <td>0.915241</td>\n",
              "    </tr>\n",
              "    <tr>\n",
              "      <th>split1_test_score</th>\n",
              "      <td>0.914982</td>\n",
              "      <td>0.914982</td>\n",
              "      <td>0.914982</td>\n",
              "      <td>0.914982</td>\n",
              "      <td>0.914982</td>\n",
              "    </tr>\n",
              "    <tr>\n",
              "      <th>split2_test_score</th>\n",
              "      <td>0.914982</td>\n",
              "      <td>0.914982</td>\n",
              "      <td>0.914982</td>\n",
              "      <td>0.914982</td>\n",
              "      <td>0.914982</td>\n",
              "    </tr>\n",
              "    <tr>\n",
              "      <th>split3_test_score</th>\n",
              "      <td>0.914982</td>\n",
              "      <td>0.914982</td>\n",
              "      <td>0.914982</td>\n",
              "      <td>0.914982</td>\n",
              "      <td>0.914982</td>\n",
              "    </tr>\n",
              "    <tr>\n",
              "      <th>split4_test_score</th>\n",
              "      <td>0.914982</td>\n",
              "      <td>0.914982</td>\n",
              "      <td>0.914982</td>\n",
              "      <td>0.914982</td>\n",
              "      <td>0.914982</td>\n",
              "    </tr>\n",
              "    <tr>\n",
              "      <th>mean_test_score</th>\n",
              "      <td>0.915034</td>\n",
              "      <td>0.915034</td>\n",
              "      <td>0.915034</td>\n",
              "      <td>0.915034</td>\n",
              "      <td>0.915034</td>\n",
              "    </tr>\n",
              "    <tr>\n",
              "      <th>std_test_score</th>\n",
              "      <td>0.000103681</td>\n",
              "      <td>0.000103681</td>\n",
              "      <td>0.000103681</td>\n",
              "      <td>0.000103681</td>\n",
              "      <td>0.000103681</td>\n",
              "    </tr>\n",
              "    <tr>\n",
              "      <th>rank_test_score</th>\n",
              "      <td>18</td>\n",
              "      <td>18</td>\n",
              "      <td>18</td>\n",
              "      <td>18</td>\n",
              "      <td>18</td>\n",
              "    </tr>\n",
              "  </tbody>\n",
              "</table>\n",
              "</div>"
            ],
            "text/plain": [
              "                                                        0  ...                                    4\n",
              "mean_fit_time                                     2.14321  ...                              2.26815\n",
              "std_fit_time                                    0.0114803  ...                            0.0149451\n",
              "mean_score_time                                  0.417671  ...                              0.45348\n",
              "std_score_time                                 0.00377326  ...                           0.00921615\n",
              "param_svc__C                                        0.001  ...                                0.001\n",
              "param_svc__gamma                                    0.001  ...                                   10\n",
              "params             {'svc__C': 0.001, 'svc__gamma': 0.001}  ...  {'svc__C': 0.001, 'svc__gamma': 10}\n",
              "split0_test_score                                0.915241  ...                             0.915241\n",
              "split1_test_score                                0.914982  ...                             0.914982\n",
              "split2_test_score                                0.914982  ...                             0.914982\n",
              "split3_test_score                                0.914982  ...                             0.914982\n",
              "split4_test_score                                0.914982  ...                             0.914982\n",
              "mean_test_score                                  0.915034  ...                             0.915034\n",
              "std_test_score                                0.000103681  ...                          0.000103681\n",
              "rank_test_score                                        18  ...                                   18\n",
              "\n",
              "[15 rows x 5 columns]"
            ]
          },
          "metadata": {
            "tags": []
          }
        }
      ]
    },
    {
      "cell_type": "code",
      "metadata": {
        "colab": {
          "base_uri": "https://localhost:8080/",
          "height": 318
        },
        "id": "J77GjubyU0Am",
        "outputId": "16c565da-6fc8-4b91-da34-6a7adfb4e969"
      },
      "source": [
        "import mglearn\n",
        "scores = grid_search.cv_results_['mean_test_score'].reshape(-1,6).T\n",
        "\n",
        "print(scores.shape)\n",
        "heatmap = mglearn.tools.heatmap(\n",
        "    scores, xlabel=\"C\", cmap='viridis', fmt='%.3f',\n",
        "    ylabel=\"gamma\",\n",
        "    xticklabels=param_grid['svc__C'],\n",
        "    yticklabels=param_grid['svc__gamma']\n",
        ")\n",
        " \n",
        "plt.colorbar(heatmap)\n"
      ],
      "execution_count": null,
      "outputs": [
        {
          "output_type": "stream",
          "text": [
            "(6, 6)\n"
          ],
          "name": "stdout"
        },
        {
          "output_type": "execute_result",
          "data": {
            "text/plain": [
              "<matplotlib.colorbar.Colorbar at 0x7ff9ad6b2050>"
            ]
          },
          "metadata": {
            "tags": []
          },
          "execution_count": 38
        },
        {
          "output_type": "display_data",
          "data": {
            "image/png": "[encoded data removed]",
            "text/plain": [
              "<Figure size 432x288 with 2 Axes>"
            ]
          },
          "metadata": {
            "tags": [],
            "needs_background": "light"
          }
        }
      ]
    },
    {
      "cell_type": "code",
      "metadata": {
        "colab": {
          "base_uri": "https://localhost:8080/"
        },
        "id": "ZyRU62laEjOW",
        "outputId": "cac77bf8-22e9-4d5e-b0cd-26ec57b90403"
      },
      "source": [
        "print(confusion_matrix(y_test, grid_search.predict(X_test_ori)))"
      ],
      "execution_count": null,
      "outputs": [
        {
          "output_type": "stream",
          "text": [
            "[[5854   52]\n",
            " [  70  454]]\n"
          ],
          "name": "stdout"
        }
      ]
    },
    {
      "cell_type": "code",
      "metadata": {
        "colab": {
          "base_uri": "https://localhost:8080/"
        },
        "id": "ai7WYYL1Eng1",
        "outputId": "d7c57ce6-f481-4af4-9c64-e191c77e3e16"
      },
      "source": [
        "print(classification_report(y_test, grid_search.predict(X_test_ori)))\n"
      ],
      "execution_count": null,
      "outputs": [
        {
          "output_type": "stream",
          "text": [
            "              precision    recall  f1-score   support\n",
            "\n",
            "           N       0.99      0.99      0.99      5906\n",
            "           Y       0.90      0.87      0.88       524\n",
            "\n",
            "    accuracy                           0.98      6430\n",
            "   macro avg       0.94      0.93      0.94      6430\n",
            "weighted avg       0.98      0.98      0.98      6430\n",
            "\n"
          ],
          "name": "stdout"
        }
      ]
    },
    {
      "cell_type": "code",
      "metadata": {
        "colab": {
          "base_uri": "https://localhost:8080/"
        },
        "id": "TGGIk8OREu4X",
        "outputId": "fd39e520-0c21-4ab2-b020-e0e60eaf4449"
      },
      "source": [
        "pipe = make_pipeline(\n",
        "    StandardScaler(),\n",
        "    SVC(random_state=0)\n",
        ")\n",
        "\n",
        "grid_search_f1 = GridSearchCV(pipe, param_grid, cv=5, scoring=f1_scorer)\n",
        "grid_search_f1.fit(X_train_ori, y_train)"
      ],
      "execution_count": null,
      "outputs": [
        {
          "output_type": "execute_result",
          "data": {
            "text/plain": [
              "GridSearchCV(cv=5, error_score=nan,\n",
              "             estimator=Pipeline(memory=None,\n",
              "                                steps=[('standardscaler',\n",
              "                                        StandardScaler(copy=True,\n",
              "                                                       with_mean=True,\n",
              "                                                       with_std=True)),\n",
              "                                       ('svc',\n",
              "                                        SVC(C=1.0, break_ties=False,\n",
              "                                            cache_size=200, class_weight=None,\n",
              "                                            coef0=0.0,\n",
              "                                            decision_function_shape='ovr',\n",
              "                                            degree=3, gamma='scale',\n",
              "                                            kernel='rbf', max_iter=-1,\n",
              "                                            probability=False, random_state=0,\n",
              "                                            shrinking=True, tol=0.001,\n",
              "                                            verbose=False))],\n",
              "                                verbose=False),\n",
              "             iid='deprecated', n_jobs=None,\n",
              "             param_grid={'svc__C': [0.001, 0.01, 0.1, 1, 10, 100],\n",
              "                         'svc__gamma': [0.001, 0.01, 0.1, 1, 10, 100]},\n",
              "             pre_dispatch='2*n_jobs', refit=True, return_train_score=False,\n",
              "             scoring=make_scorer(f1_score, pos_label=Y), verbose=0)"
            ]
          },
          "metadata": {
            "tags": []
          },
          "execution_count": 25
        }
      ]
    },
    {
      "cell_type": "code",
      "metadata": {
        "colab": {
          "base_uri": "https://localhost:8080/"
        },
        "id": "xFj0uUdGE9_v",
        "outputId": "1fdfb13c-9842-4056-b532-cb3def9b9772"
      },
      "source": [
        "\n",
        "print(\"테스트 세트 점수 : \", grid_search_f1.score(X_test_ori, y_test))\n",
        "print(\"최적 매개변수 \", grid_search_f1.best_params_)\n",
        "print(\"최적 교차 검증 점수 \", grid_search_f1.best_score_)\n",
        "print(\"최적 성능 모델 \", grid_search_f1.best_estimator_)\n",
        "\n",
        "# scoring = 'accuracy' 와 같은 결과! \n",
        "# f1-score은 재현율과 정밀도를 모두 반영함\n",
        "\n",
        "\n",
        "# f1 점수"
      ],
      "execution_count": null,
      "outputs": [
        {
          "output_type": "stream",
          "text": [
            "테스트 세트 점수 :  0.8815533980582525\n",
            "최적 매개변수  {'svc__C': 100, 'svc__gamma': 0.1}\n",
            "최적 교차 검증 점수  0.881566769580932\n",
            "최적 성능 모델  Pipeline(memory=None,\n",
            "         steps=[('standardscaler',\n",
            "                 StandardScaler(copy=True, with_mean=True, with_std=True)),\n",
            "                ('svc',\n",
            "                 SVC(C=100, break_ties=False, cache_size=200, class_weight=None,\n",
            "                     coef0=0.0, decision_function_shape='ovr', degree=3,\n",
            "                     gamma=0.1, kernel='rbf', max_iter=-1, probability=False,\n",
            "                     random_state=0, shrinking=True, tol=0.001,\n",
            "                     verbose=False))],\n",
            "         verbose=False)\n"
          ],
          "name": "stdout"
        }
      ]
    },
    {
      "cell_type": "code",
      "metadata": {
        "colab": {
          "base_uri": "https://localhost:8080/"
        },
        "id": "o-5LAksrindp",
        "outputId": "34ce4f27-2f7d-44e5-d676-17681a58e2c9"
      },
      "source": [
        "print(confusion_matrix(y_test, grid_search_f1.predict(X_test_ori)))\n"
      ],
      "execution_count": null,
      "outputs": [
        {
          "output_type": "stream",
          "text": [
            "[[5854   52]\n",
            " [  70  454]]\n"
          ],
          "name": "stdout"
        }
      ]
    },
    {
      "cell_type": "code",
      "metadata": {
        "id": "NDszmkDbE-FX",
        "colab": {
          "base_uri": "https://localhost:8080/"
        },
        "outputId": "29a6f929-6f7f-43d9-f31d-477c9b84bd4b"
      },
      "source": [
        "rf = RandomForestClassifier(random_state=0).fit(X_train_ori, y_train)\n",
        "rf.score(X_test_ori, y_test)"
      ],
      "execution_count": 11,
      "outputs": [
        {
          "output_type": "execute_result",
          "data": {
            "text/plain": [
              "0.9979782270606532"
            ]
          },
          "metadata": {
            "tags": []
          },
          "execution_count": 11
        }
      ]
    },
    {
      "cell_type": "code",
      "metadata": {
        "id": "IimSv3NaFFCU",
        "colab": {
          "base_uri": "https://localhost:8080/"
        },
        "outputId": "7fa26cad-bea4-470e-a189-266fbdae4f3d"
      },
      "source": [
        "print(confusion_matrix(y_test, rf.predict(X_test_ori)))\n"
      ],
      "execution_count": 12,
      "outputs": [
        {
          "output_type": "stream",
          "text": [
            "[[5900    6]\n",
            " [   7  517]]\n"
          ],
          "name": "stdout"
        }
      ]
    },
    {
      "cell_type": "code",
      "metadata": {
        "id": "aG6rATDKi3zb"
      },
      "source": [
        "from sklearn.model_selection import cross_validate\n",
        "\n",
        "X_dum = pd.get_dummies(X)\n",
        "y = y\n",
        "\n",
        "cvs = cross_validate(rf, X_dum, y, cv=10, return_train_score=True, return_estimator=True)\n",
        "print(cvs)"
      ],
      "execution_count": null,
      "outputs": []
    },
    {
      "cell_type": "code",
      "metadata": {
        "colab": {
          "base_uri": "https://localhost:8080/",
          "height": 346
        },
        "id": "ztn6DWtxjoIO",
        "outputId": "9f4be4ce-5d15-4604-d6a0-5344db397652"
      },
      "source": [
        "display(pd.DataFrame(cvs))"
      ],
      "execution_count": 20,
      "outputs": [
        {
          "output_type": "display_data",
          "data": {
            "text/html": [
              "<div>\n",
              "<style scoped>\n",
              "    .dataframe tbody tr th:only-of-type {\n",
              "        vertical-align: middle;\n",
              "    }\n",
              "\n",
              "    .dataframe tbody tr th {\n",
              "        vertical-align: top;\n",
              "    }\n",
              "\n",
              "    .dataframe thead th {\n",
              "        text-align: right;\n",
              "    }\n",
              "</style>\n",
              "<table border=\"1\" class=\"dataframe\">\n",
              "  <thead>\n",
              "    <tr style=\"text-align: right;\">\n",
              "      <th></th>\n",
              "      <th>fit_time</th>\n",
              "      <th>score_time</th>\n",
              "      <th>estimator</th>\n",
              "      <th>test_score</th>\n",
              "      <th>train_score</th>\n",
              "    </tr>\n",
              "  </thead>\n",
              "  <tbody>\n",
              "    <tr>\n",
              "      <th>0</th>\n",
              "      <td>3.567343</td>\n",
              "      <td>0.035970</td>\n",
              "      <td>(DecisionTreeClassifier(ccp_alpha=0.0, class_w...</td>\n",
              "      <td>0.999222</td>\n",
              "      <td>1.0</td>\n",
              "    </tr>\n",
              "    <tr>\n",
              "      <th>1</th>\n",
              "      <td>3.456891</td>\n",
              "      <td>0.034999</td>\n",
              "      <td>(DecisionTreeClassifier(ccp_alpha=0.0, class_w...</td>\n",
              "      <td>0.998834</td>\n",
              "      <td>1.0</td>\n",
              "    </tr>\n",
              "    <tr>\n",
              "      <th>2</th>\n",
              "      <td>3.301106</td>\n",
              "      <td>0.032142</td>\n",
              "      <td>(DecisionTreeClassifier(ccp_alpha=0.0, class_w...</td>\n",
              "      <td>0.997278</td>\n",
              "      <td>1.0</td>\n",
              "    </tr>\n",
              "    <tr>\n",
              "      <th>3</th>\n",
              "      <td>3.335798</td>\n",
              "      <td>0.031823</td>\n",
              "      <td>(DecisionTreeClassifier(ccp_alpha=0.0, class_w...</td>\n",
              "      <td>0.995334</td>\n",
              "      <td>1.0</td>\n",
              "    </tr>\n",
              "    <tr>\n",
              "      <th>4</th>\n",
              "      <td>3.292951</td>\n",
              "      <td>0.031222</td>\n",
              "      <td>(DecisionTreeClassifier(ccp_alpha=0.0, class_w...</td>\n",
              "      <td>0.997278</td>\n",
              "      <td>1.0</td>\n",
              "    </tr>\n",
              "    <tr>\n",
              "      <th>5</th>\n",
              "      <td>3.397442</td>\n",
              "      <td>0.031919</td>\n",
              "      <td>(DecisionTreeClassifier(ccp_alpha=0.0, class_w...</td>\n",
              "      <td>0.998056</td>\n",
              "      <td>1.0</td>\n",
              "    </tr>\n",
              "    <tr>\n",
              "      <th>6</th>\n",
              "      <td>3.384703</td>\n",
              "      <td>0.033141</td>\n",
              "      <td>(DecisionTreeClassifier(ccp_alpha=0.0, class_w...</td>\n",
              "      <td>0.997667</td>\n",
              "      <td>1.0</td>\n",
              "    </tr>\n",
              "    <tr>\n",
              "      <th>7</th>\n",
              "      <td>3.455195</td>\n",
              "      <td>0.032161</td>\n",
              "      <td>(DecisionTreeClassifier(ccp_alpha=0.0, class_w...</td>\n",
              "      <td>0.996112</td>\n",
              "      <td>1.0</td>\n",
              "    </tr>\n",
              "    <tr>\n",
              "      <th>8</th>\n",
              "      <td>3.321582</td>\n",
              "      <td>0.032478</td>\n",
              "      <td>(DecisionTreeClassifier(ccp_alpha=0.0, class_w...</td>\n",
              "      <td>0.996890</td>\n",
              "      <td>1.0</td>\n",
              "    </tr>\n",
              "    <tr>\n",
              "      <th>9</th>\n",
              "      <td>3.410846</td>\n",
              "      <td>0.032104</td>\n",
              "      <td>(DecisionTreeClassifier(ccp_alpha=0.0, class_w...</td>\n",
              "      <td>0.998056</td>\n",
              "      <td>1.0</td>\n",
              "    </tr>\n",
              "  </tbody>\n",
              "</table>\n",
              "</div>"
            ],
            "text/plain": [
              "   fit_time  score_time  ... test_score  train_score\n",
              "0  3.567343    0.035970  ...   0.999222          1.0\n",
              "1  3.456891    0.034999  ...   0.998834          1.0\n",
              "2  3.301106    0.032142  ...   0.997278          1.0\n",
              "3  3.335798    0.031823  ...   0.995334          1.0\n",
              "4  3.292951    0.031222  ...   0.997278          1.0\n",
              "5  3.397442    0.031919  ...   0.998056          1.0\n",
              "6  3.384703    0.033141  ...   0.997667          1.0\n",
              "7  3.455195    0.032161  ...   0.996112          1.0\n",
              "8  3.321582    0.032478  ...   0.996890          1.0\n",
              "9  3.410846    0.032104  ...   0.998056          1.0\n",
              "\n",
              "[10 rows x 5 columns]"
            ]
          },
          "metadata": {
            "tags": []
          }
        }
      ]
    },
    {
      "cell_type": "code",
      "metadata": {
        "colab": {
          "base_uri": "https://localhost:8080/"
        },
        "id": "KDBgA9-flNa7",
        "outputId": "abcd7721-37f8-4202-a166-2f4b84e82da1"
      },
      "source": [
        "from sklearn.model_selection import StratifiedKFold\n",
        "\n",
        "skf = StratifiedKFold(n_splits=10, shuffle=True, random_state=0)\n",
        "X_dum = np.array(X_dum)\n",
        "y = np.array(y)\n",
        "rf = RandomForestClassifier(random_state=0)\n",
        "\n",
        "for train,test in skf.split(X_dum,y):\n",
        "  rf.fit(X_dum[train], y[train])\n",
        "  print(confusion_matrix(y[test], rf.predict(X_dum[test])), end='')\n",
        "  print('\\n')\n",
        "\n"
      ],
      "execution_count": 39,
      "outputs": [
        {
          "output_type": "stream",
          "text": [
            "[[2353    3]\n",
            " [   3  213]]\n",
            "\n",
            "[[2350    6]\n",
            " [   1  215]]\n",
            "\n",
            "[[2351    5]\n",
            " [   2  214]]\n",
            "\n",
            "[[2351    5]\n",
            " [   2  214]]\n",
            "\n",
            "[[2350    6]\n",
            " [   3  213]]\n",
            "\n",
            "[[2352    4]\n",
            " [   3  213]]\n",
            "\n",
            "[[2354    2]\n",
            " [   2  214]]\n",
            "\n",
            "[[2350    5]\n",
            " [   1  216]]\n",
            "\n",
            "[[2354    1]\n",
            " [   5  212]]\n",
            "\n",
            "[[2354    1]\n",
            " [   1  216]]\n",
            "\n"
          ],
          "name": "stdout"
        }
      ]
    },
    {
      "cell_type": "code",
      "metadata": {
        "colab": {
          "base_uri": "https://localhost:8080/"
        },
        "id": "WhXwtAvXpC__",
        "outputId": "9efe6010-3971-49da-937b-0f1af5ed29ac"
      },
      "source": [
        "\n",
        "skf = StratifiedKFold(n_splits=10, shuffle=True, random_state=0)\n",
        "X_dum = np.array(X_dum)\n",
        "y = np.array(y)\n",
        "xg = XGBClassifier(random_state=0)\n",
        "\n",
        "for train,test in skf.split(X_dum,y):\n",
        "  xg.fit(X_dum[train], y[train])\n",
        "  print(confusion_matrix(y[test], xg.predict(X_dum[test])), end='')\n",
        "  print('\\n')\n",
        "\n"
      ],
      "execution_count": 40,
      "outputs": [
        {
          "output_type": "stream",
          "text": [
            "[[2354    2]\n",
            " [   4  212]]\n",
            "\n",
            "[[2352    4]\n",
            " [   2  214]]\n",
            "\n",
            "[[2352    4]\n",
            " [   3  213]]\n",
            "\n",
            "[[2354    2]\n",
            " [   2  214]]\n",
            "\n",
            "[[2351    5]\n",
            " [   3  213]]\n",
            "\n",
            "[[2353    3]\n",
            " [   3  213]]\n",
            "\n",
            "[[2354    2]\n",
            " [   3  213]]\n",
            "\n",
            "[[2352    3]\n",
            " [   1  216]]\n",
            "\n",
            "[[2354    1]\n",
            " [   6  211]]\n",
            "\n",
            "[[2354    1]\n",
            " [   1  216]]\n",
            "\n"
          ],
          "name": "stdout"
        }
      ]
    },
    {
      "cell_type": "code",
      "metadata": {
        "id": "moqWpja4FFHN",
        "colab": {
          "base_uri": "https://localhost:8080/"
        },
        "outputId": "c7a8e113-2633-410d-d7e3-e2fca155a124"
      },
      "source": [
        "\n",
        "print(classification_report(y_test, rf.predict(X_test_ori)))"
      ],
      "execution_count": null,
      "outputs": [
        {
          "output_type": "stream",
          "text": [
            "              precision    recall  f1-score   support\n",
            "\n",
            "           N       1.00      1.00      1.00      5906\n",
            "           Y       0.99      0.99      0.99       524\n",
            "\n",
            "    accuracy                           1.00      6430\n",
            "   macro avg       0.99      0.99      0.99      6430\n",
            "weighted avg       1.00      1.00      1.00      6430\n",
            "\n"
          ],
          "name": "stdout"
        }
      ]
    },
    {
      "cell_type": "code",
      "metadata": {
        "id": "oNPGQoPXFHwy"
      },
      "source": [
        "# 중요도 함수\n",
        "def plot_feature_importances(model, X, fea):\n",
        "    n_features = X.shape[1]\n",
        "    plt.barh(range(n_features), model.feature_importances_, align='center')\n",
        "    plt.yticks(np.arange(n_features), fea)\n",
        "    plt.xlabel(\"특성 중요도\")\n",
        "    plt.ylabel(\"특성\")\n",
        "    plt.ylim(-1, n_features)\n",
        "    plt.xlim(0,1)\n",
        "    plt.grid()"
      ],
      "execution_count": null,
      "outputs": []
    },
    {
      "cell_type": "code",
      "metadata": {
        "id": "ZFCEzoYAFIg2",
        "colab": {
          "base_uri": "https://localhost:8080/",
          "height": 686
        },
        "outputId": "9653a34e-c363-4066-b916-771eb634e49f"
      },
      "source": [
        "features = np.hstack([['class', 'class','class', 'class'],columns[:13]])\n",
        "print(features)\n",
        "\n",
        "plot_feature_importances(rf, X_train_ori, features)"
      ],
      "execution_count": null,
      "outputs": [
        {
          "output_type": "stream",
          "text": [
            "['class' 'class' 'class' 'class' 'H' 'e' 'a' 'q' 'i' 'om' 'w' 'ma' 'ad'\n",
            " 'n' 'tp' 'per' 'moid']\n"
          ],
          "name": "stdout"
        },
        {
          "output_type": "stream",
          "text": [
            "/usr/local/lib/python3.7/dist-packages/matplotlib/backends/backend_agg.py:214: RuntimeWarning: Glyph 53945 missing from current font.\n",
            "  font.set_text(s, 0.0, flags=flags)\n",
            "/usr/local/lib/python3.7/dist-packages/matplotlib/backends/backend_agg.py:214: RuntimeWarning: Glyph 49457 missing from current font.\n",
            "  font.set_text(s, 0.0, flags=flags)\n",
            "/usr/local/lib/python3.7/dist-packages/matplotlib/backends/backend_agg.py:214: RuntimeWarning: Glyph 51473 missing from current font.\n",
            "  font.set_text(s, 0.0, flags=flags)\n",
            "/usr/local/lib/python3.7/dist-packages/matplotlib/backends/backend_agg.py:214: RuntimeWarning: Glyph 50836 missing from current font.\n",
            "  font.set_text(s, 0.0, flags=flags)\n",
            "/usr/local/lib/python3.7/dist-packages/matplotlib/backends/backend_agg.py:214: RuntimeWarning: Glyph 46020 missing from current font.\n",
            "  font.set_text(s, 0.0, flags=flags)\n",
            "/usr/local/lib/python3.7/dist-packages/matplotlib/backends/backend_agg.py:183: RuntimeWarning: Glyph 53945 missing from current font.\n",
            "  font.set_text(s, 0, flags=flags)\n",
            "/usr/local/lib/python3.7/dist-packages/matplotlib/backends/backend_agg.py:183: RuntimeWarning: Glyph 49457 missing from current font.\n",
            "  font.set_text(s, 0, flags=flags)\n",
            "/usr/local/lib/python3.7/dist-packages/matplotlib/backends/backend_agg.py:183: RuntimeWarning: Glyph 51473 missing from current font.\n",
            "  font.set_text(s, 0, flags=flags)\n",
            "/usr/local/lib/python3.7/dist-packages/matplotlib/backends/backend_agg.py:183: RuntimeWarning: Glyph 50836 missing from current font.\n",
            "  font.set_text(s, 0, flags=flags)\n",
            "/usr/local/lib/python3.7/dist-packages/matplotlib/backends/backend_agg.py:183: RuntimeWarning: Glyph 46020 missing from current font.\n",
            "  font.set_text(s, 0, flags=flags)\n"
          ],
          "name": "stderr"
        },
        {
          "output_type": "display_data",
          "data": {
            "image/png": "[encoded data removed]",
            "text/plain": [
              "<Figure size 432x288 with 1 Axes>"
            ]
          },
          "metadata": {
            "tags": [],
            "needs_background": "light"
          }
        }
      ]
    },
    {
      "cell_type": "code",
      "metadata": {
        "id": "-J6ITe0tFNIL",
        "colab": {
          "base_uri": "https://localhost:8080/",
          "height": 514
        },
        "outputId": "9012e8f3-752b-4235-f09f-c5aa4b566a8f"
      },
      "source": [
        "import mglearn\n",
        "plt.figure(figsize=(10,8))\n",
        "mglearn.discrete_scatter(X_train['H'], X_train['moid'], y_train)\n",
        "plt.xlabel(\"H\")\n",
        "plt.ylabel(\"moid\")\n",
        "plt.legend()"
      ],
      "execution_count": null,
      "outputs": [
        {
          "output_type": "execute_result",
          "data": {
            "text/plain": [
              "<matplotlib.legend.Legend at 0x7fc936813fd0>"
            ]
          },
          "metadata": {
            "tags": []
          },
          "execution_count": 29
        },
        {
          "output_type": "display_data",
          "data": {
            "image/png": "[encoded data removed]",
            "text/plain": [
              "<Figure size 720x576 with 1 Axes>"
            ]
          },
          "metadata": {
            "tags": [],
            "needs_background": "light"
          }
        }
      ]
    },
    {
      "cell_type": "code",
      "metadata": {
        "id": "doUGtCgTFNNE",
        "colab": {
          "base_uri": "https://localhost:8080/"
        },
        "outputId": "e4e9cb33-bf7a-4d40-e7f2-819ac84c8c24"
      },
      "source": [
        "X_test_ori[:10, :4]"
      ],
      "execution_count": null,
      "outputs": [
        {
          "output_type": "execute_result",
          "data": {
            "text/plain": [
              "array([[1., 0., 0., 0.],\n",
              "       [0., 1., 0., 0.],\n",
              "       [1., 0., 0., 0.],\n",
              "       [0., 1., 0., 0.],\n",
              "       [1., 0., 0., 0.],\n",
              "       [1., 0., 0., 0.],\n",
              "       [0., 1., 0., 0.],\n",
              "       [1., 0., 0., 0.],\n",
              "       [1., 0., 0., 0.],\n",
              "       [0., 1., 0., 0.]])"
            ]
          },
          "metadata": {
            "tags": []
          },
          "execution_count": 31
        }
      ]
    },
    {
      "cell_type": "code",
      "metadata": {
        "id": "4rUAlu5SFShy",
        "colab": {
          "base_uri": "https://localhost:8080/"
        },
        "outputId": "8f2dff76-b610-4867-a3c6-ec4bb329d4c7"
      },
      "source": [
        "from xgboost import XGBClassifier\n",
        "\n",
        "xg = XGBClassifier(random_state=0).fit(X_train_ori, y_train)\n",
        "xg.score(X_test_ori, y_test)"
      ],
      "execution_count": null,
      "outputs": [
        {
          "output_type": "execute_result",
          "data": {
            "text/plain": [
              "0.9979782270606532"
            ]
          },
          "metadata": {
            "tags": []
          },
          "execution_count": 138
        }
      ]
    },
    {
      "cell_type": "code",
      "metadata": {
        "id": "HmKsShk4HBmv",
        "colab": {
          "base_uri": "https://localhost:8080/"
        },
        "outputId": "0555944b-541d-4489-9c58-74a38ba8f287"
      },
      "source": [
        "print(confusion_matrix(y_test, xg.predict(X_test_ori)))"
      ],
      "execution_count": null,
      "outputs": [
        {
          "output_type": "stream",
          "text": [
            "[[5900    6]\n",
            " [   7  517]]\n"
          ],
          "name": "stdout"
        }
      ]
    },
    {
      "cell_type": "code",
      "metadata": {
        "colab": {
          "base_uri": "https://localhost:8080/"
        },
        "id": "FL94UafigMUl",
        "outputId": "e795d62a-d57e-47d2-bc71-37d82f21f597"
      },
      "source": [
        "# 매개변수 그리드 적용\n",
        "# C와 gamma값으로 실행\n",
        "\n",
        "pipe = make_pipeline(\n",
        "    StandardScaler(),\n",
        "    XGBClassifier()\n",
        ")\n",
        "\n",
        "param_grid_xg = { 'xgbclassifier__learning_rate' : [0.01, 0.1, 1] ,\n",
        "                'xgbclassifier__max_depth' : [3, 5, 7]\n",
        "                 }\n",
        "\n",
        "grid_search_xg = GridSearchCV(pipe, param_grid_xg, cv=5)\n",
        "grid_search_xg.fit(X_train_ori, y_train)"
      ],
      "execution_count": null,
      "outputs": [
        {
          "output_type": "execute_result",
          "data": {
            "text/plain": [
              "GridSearchCV(cv=5, error_score=nan,\n",
              "             estimator=Pipeline(memory=None,\n",
              "                                steps=[('standardscaler',\n",
              "                                        StandardScaler(copy=True,\n",
              "                                                       with_mean=True,\n",
              "                                                       with_std=True)),\n",
              "                                       ('xgbclassifier',\n",
              "                                        XGBClassifier(base_score=0.5,\n",
              "                                                      booster='gbtree',\n",
              "                                                      colsample_bylevel=1,\n",
              "                                                      colsample_bynode=1,\n",
              "                                                      colsample_bytree=1,\n",
              "                                                      gamma=0,\n",
              "                                                      learning_rate=0.1,\n",
              "                                                      max_delta_step=0,\n",
              "                                                      max_depth=3,\n",
              "                                                      min_child_weight=1,\n",
              "                                                      missing=N...\n",
              "                                                      objective='binary:logistic',\n",
              "                                                      random_state=0,\n",
              "                                                      reg_alpha=0, reg_lambda=1,\n",
              "                                                      scale_pos_weight=1,\n",
              "                                                      seed=None, silent=None,\n",
              "                                                      subsample=1,\n",
              "                                                      verbosity=1))],\n",
              "                                verbose=False),\n",
              "             iid='deprecated', n_jobs=None,\n",
              "             param_grid={'xgbclassifier__learning_rate': [0.01, 0.1, 1],\n",
              "                         'xgbclassifier__max_depth': [3, 5, 7]},\n",
              "             pre_dispatch='2*n_jobs', refit=True, return_train_score=False,\n",
              "             scoring=None, verbose=0)"
            ]
          },
          "metadata": {
            "tags": []
          },
          "execution_count": 141
        }
      ]
    },
    {
      "cell_type": "code",
      "metadata": {
        "colab": {
          "base_uri": "https://localhost:8080/"
        },
        "id": "m3UjflbWgMZ8",
        "outputId": "abb7171d-b25a-4b94-f67e-94acf6ac0657"
      },
      "source": [
        "\n",
        "print(\"테스트 세트 점수 : \", grid_search_xg.score(X_test_ori, y_test))\n",
        "print(\"최적 매개변수 \", grid_search_xg.best_params_)\n",
        "print(\"최적 교차 검증 점수 \", grid_search_xg.best_score_)\n",
        "\n",
        "print(\"최적 성능 모델 \", grid_search_xg.best_estimator_)"
      ],
      "execution_count": null,
      "outputs": [
        {
          "output_type": "stream",
          "text": [
            "테스트 세트 점수 :  0.9979782270606532\n",
            "최적 매개변수  {'xgbclassifier__learning_rate': 1, 'xgbclassifier__max_depth': 3}\n",
            "최적 교차 검증 점수  0.9975635044064282\n",
            "최적 성능 모델  Pipeline(memory=None,\n",
            "         steps=[('standardscaler',\n",
            "                 StandardScaler(copy=True, with_mean=True, with_std=True)),\n",
            "                ('xgbclassifier',\n",
            "                 XGBClassifier(base_score=0.5, booster='gbtree',\n",
            "                               colsample_bylevel=1, colsample_bynode=1,\n",
            "                               colsample_bytree=1, gamma=0, learning_rate=1,\n",
            "                               max_delta_step=0, max_depth=3,\n",
            "                               min_child_weight=1, missing=None,\n",
            "                               n_estimators=100, n_jobs=1, nthread=None,\n",
            "                               objective='binary:logistic', random_state=0,\n",
            "                               reg_alpha=0, reg_lambda=1, scale_pos_weight=1,\n",
            "                               seed=None, silent=None, subsample=1,\n",
            "                               verbosity=1))],\n",
            "         verbose=False)\n"
          ],
          "name": "stdout"
        }
      ]
    },
    {
      "cell_type": "code",
      "metadata": {
        "colab": {
          "base_uri": "https://localhost:8080/"
        },
        "id": "gQzVNaTIg2bC",
        "outputId": "e40824e4-c260-44f9-deb9-908380aac995"
      },
      "source": [
        "print(confusion_matrix(y_test, grid_search_xg.predict(X_test_ori)))\n",
        "print(classification_report(y_test, grid_search_xg.predict(X_test_ori)))"
      ],
      "execution_count": null,
      "outputs": [
        {
          "output_type": "stream",
          "text": [
            "[[5900    6]\n",
            " [   7  517]]\n",
            "              precision    recall  f1-score   support\n",
            "\n",
            "           N       1.00      1.00      1.00      5906\n",
            "           Y       0.99      0.99      0.99       524\n",
            "\n",
            "    accuracy                           1.00      6430\n",
            "   macro avg       0.99      0.99      0.99      6430\n",
            "weighted avg       1.00      1.00      1.00      6430\n",
            "\n"
          ],
          "name": "stdout"
        }
      ]
    },
    {
      "cell_type": "code",
      "metadata": {
        "colab": {
          "base_uri": "https://localhost:8080/"
        },
        "id": "i4LTxjMwg9sd",
        "outputId": "363adeeb-36b6-4ffb-a761-f8b3f3971ad1"
      },
      "source": [
        "mlp = MLPClassifier(random_state=0).fit(X_train_trans, y_train)\n",
        "print(mlp.score(X_test_trans, y_test))\n",
        "\n",
        "# 거의 완벽한 예측.."
      ],
      "execution_count": null,
      "outputs": [
        {
          "output_type": "stream",
          "text": [
            "0.9959564541213064\n"
          ],
          "name": "stdout"
        }
      ]
    },
    {
      "cell_type": "code",
      "metadata": {
        "colab": {
          "base_uri": "https://localhost:8080/"
        },
        "id": "_BSybyMig_uT",
        "outputId": "4fee9eb0-8c30-4879-e283-c126d66bce68"
      },
      "source": [
        "mlp_10 = MLPClassifier(hidden_layer_sizes=(10,10), random_state=0).fit(X_train_trans, y_train)\n",
        "print(mlp_10.score(X_test_trans, y_test))\n",
        "# 같은 정확도"
      ],
      "execution_count": null,
      "outputs": [
        {
          "output_type": "stream",
          "text": [
            "0.9962674961119751\n"
          ],
          "name": "stdout"
        }
      ]
    },
    {
      "cell_type": "code",
      "metadata": {
        "colab": {
          "base_uri": "https://localhost:8080/"
        },
        "id": "P-FTIeiFhALS",
        "outputId": "05695226-efef-48e4-bd42-8215266ba798"
      },
      "source": [
        "mlp_ori = MLPClassifier(random_state=0).fit(X_train_ori, y_train)\n",
        "print(mlp_ori.score(X_test_ori, y_test))\n",
        "\n",
        "# 전처리 영향을 받음"
      ],
      "execution_count": null,
      "outputs": [
        {
          "output_type": "stream",
          "text": [
            "0.91850699844479\n"
          ],
          "name": "stdout"
        },
        {
          "output_type": "stream",
          "text": [
            "/usr/local/lib/python3.7/dist-packages/sklearn/neural_network/_multilayer_perceptron.py:571: ConvergenceWarning: Stochastic Optimizer: Maximum iterations (200) reached and the optimization hasn't converged yet.\n",
            "  % self.max_iter, ConvergenceWarning)\n"
          ],
          "name": "stderr"
        }
      ]
    },
    {
      "cell_type": "code",
      "metadata": {
        "colab": {
          "base_uri": "https://localhost:8080/"
        },
        "id": "oBVjAgr5hAV0",
        "outputId": "52ca86b8-9c32-43d1-b92e-6c64ce41076d"
      },
      "source": [
        "print(confusion_matrix(y_test, mlp.predict(X_test_trans)))\n",
        "#다른 결과.."
      ],
      "execution_count": null,
      "outputs": [
        {
          "output_type": "stream",
          "text": [
            "[[5893   13]\n",
            " [  13  511]]\n"
          ],
          "name": "stdout"
        }
      ]
    },
    {
      "cell_type": "code",
      "metadata": {
        "colab": {
          "base_uri": "https://localhost:8080/"
        },
        "id": "iLoRj5qHhEHp",
        "outputId": "b2248f5b-0e6e-4d29-eb9e-9ed82de17b2d"
      },
      "source": [
        "print(confusion_matrix(y_test, mlp_10.predict(X_test_trans)))\n",
        "#"
      ],
      "execution_count": null,
      "outputs": [
        {
          "output_type": "stream",
          "text": [
            "[[5893   13]\n",
            " [  11  513]]\n"
          ],
          "name": "stdout"
        }
      ]
    },
    {
      "cell_type": "code",
      "metadata": {
        "colab": {
          "base_uri": "https://localhost:8080/"
        },
        "id": "iHOVYxqbnHCy",
        "outputId": "010478ab-c211-4234-b91b-51ba0e1ed586"
      },
      "source": [
        "mlp_10_10 = MLPClassifier(hidden_layer_sizes=(100,10), random_state=0).fit(X_train_trans, y_train)\n",
        "print(mlp_10_10.score(X_test_trans, y_test))\n",
        "# 같은 정확도"
      ],
      "execution_count": null,
      "outputs": [
        {
          "output_type": "stream",
          "text": [
            "0.9951788491446345\n"
          ],
          "name": "stdout"
        }
      ]
    },
    {
      "cell_type": "code",
      "metadata": {
        "colab": {
          "base_uri": "https://localhost:8080/"
        },
        "id": "FF0u6U38nMDr",
        "outputId": "faba9549-d1e6-4acc-c2b4-f9a8e1920625"
      },
      "source": [
        "print(confusion_matrix(y_test, mlp_10_10.predict(X_test_trans)))\n",
        "#"
      ],
      "execution_count": null,
      "outputs": [
        {
          "output_type": "stream",
          "text": [
            "[[5898    8]\n",
            " [  23  501]]\n"
          ],
          "name": "stdout"
        }
      ]
    },
    {
      "cell_type": "code",
      "metadata": {
        "colab": {
          "base_uri": "https://localhost:8080/"
        },
        "id": "FnF7-I8uhJ9t",
        "outputId": "5565ef9a-a5a4-4ce7-f796-da6a5b730f1e"
      },
      "source": [
        "lr = LogisticRegression( max_iter=3000).fit(X_train_trans, y_train)\n",
        "\n",
        "print(lr.score(X_test_trans, y_test))"
      ],
      "execution_count": null,
      "outputs": [
        {
          "output_type": "stream",
          "text": [
            "0.9656298600311042\n"
          ],
          "name": "stdout"
        }
      ]
    },
    {
      "cell_type": "code",
      "metadata": {
        "colab": {
          "base_uri": "https://localhost:8080/"
        },
        "id": "oy8qLkFXhL4e",
        "outputId": "a79a9530-5f77-408f-e456-2198757f89c9"
      },
      "source": [
        "print(confusion_matrix(y_test, lr.predict(X_test_trans)))\n",
        "#"
      ],
      "execution_count": null,
      "outputs": [
        {
          "output_type": "stream",
          "text": [
            "[[5819   87]\n",
            " [ 134  390]]\n"
          ],
          "name": "stdout"
        }
      ]
    },
    {
      "cell_type": "code",
      "metadata": {
        "colab": {
          "base_uri": "https://localhost:8080/"
        },
        "id": "Ir_lv7t80Pcu",
        "outputId": "de52d7c1-f8f9-4ea4-8b74-19b2b7b02c91"
      },
      "source": [
        "from sklearn.preprocessing import PolynomialFeatures\n",
        "pf = PolynomialFeatures(include_bias=False)\n",
        "\n",
        "X_train_poly = pf.fit_transform(X_train_trans)\n",
        "X_test_poly = pf.transform(X_test_trans)\n",
        "\n",
        "lr = LogisticRegression( max_iter=3000).fit(X_train_poly, y_train)\n",
        "\n",
        "print(lr.score(X_test_poly, y_test))"
      ],
      "execution_count": null,
      "outputs": [
        {
          "output_type": "stream",
          "text": [
            "0.9860031104199067\n"
          ],
          "name": "stdout"
        }
      ]
    },
    {
      "cell_type": "code",
      "metadata": {
        "colab": {
          "base_uri": "https://localhost:8080/"
        },
        "id": "WOZDJ2Cm0hch",
        "outputId": "bfa22d9a-5b44-4cc1-9567-d4e53db29a1e"
      },
      "source": [
        "print(confusion_matrix(y_test, lr.predict(X_test_poly)))\n",
        "#"
      ],
      "execution_count": null,
      "outputs": [
        {
          "output_type": "stream",
          "text": [
            "[[5867   39]\n",
            " [  51  473]]\n"
          ],
          "name": "stdout"
        }
      ]
    },
    {
      "cell_type": "code",
      "metadata": {
        "colab": {
          "base_uri": "https://localhost:8080/",
          "height": 722
        },
        "id": "WFKGCgKp1LED",
        "outputId": "2bc282a9-e4f3-49c5-fe49-0f26d620b572"
      },
      "source": [
        "plt.plot(lr.coef_.T, 'o')\n",
        "    \n",
        "plt.xlabel(\"특성\")\n",
        "plt.ylabel(\"계수 크기\")\n",
        "\n",
        "xlimes = plt.xlim()\n",
        "plt.hlines(0,xlimes[0], xlimes[1])\n",
        "plt.xlim(xlimes)\n",
        "plt.ylim(-5,5)\n"
      ],
      "execution_count": null,
      "outputs": [
        {
          "output_type": "execute_result",
          "data": {
            "text/plain": [
              "(-5.0, 5.0)"
            ]
          },
          "metadata": {
            "tags": []
          },
          "execution_count": 187
        },
        {
          "output_type": "stream",
          "text": [
            "/usr/local/lib/python3.7/dist-packages/matplotlib/backends/backend_agg.py:214: RuntimeWarning: Glyph 53945 missing from current font.\n",
            "  font.set_text(s, 0.0, flags=flags)\n",
            "/usr/local/lib/python3.7/dist-packages/matplotlib/backends/backend_agg.py:214: RuntimeWarning: Glyph 49457 missing from current font.\n",
            "  font.set_text(s, 0.0, flags=flags)\n",
            "/usr/local/lib/python3.7/dist-packages/matplotlib/backends/backend_agg.py:183: RuntimeWarning: Glyph 53945 missing from current font.\n",
            "  font.set_text(s, 0, flags=flags)\n",
            "/usr/local/lib/python3.7/dist-packages/matplotlib/backends/backend_agg.py:183: RuntimeWarning: Glyph 49457 missing from current font.\n",
            "  font.set_text(s, 0, flags=flags)\n",
            "/usr/local/lib/python3.7/dist-packages/matplotlib/backends/backend_agg.py:214: RuntimeWarning: Glyph 44228 missing from current font.\n",
            "  font.set_text(s, 0.0, flags=flags)\n",
            "/usr/local/lib/python3.7/dist-packages/matplotlib/backends/backend_agg.py:214: RuntimeWarning: Glyph 49688 missing from current font.\n",
            "  font.set_text(s, 0.0, flags=flags)\n",
            "/usr/local/lib/python3.7/dist-packages/matplotlib/backends/backend_agg.py:214: RuntimeWarning: Glyph 53356 missing from current font.\n",
            "  font.set_text(s, 0.0, flags=flags)\n",
            "/usr/local/lib/python3.7/dist-packages/matplotlib/backends/backend_agg.py:214: RuntimeWarning: Glyph 44592 missing from current font.\n",
            "  font.set_text(s, 0.0, flags=flags)\n",
            "/usr/local/lib/python3.7/dist-packages/matplotlib/backends/backend_agg.py:183: RuntimeWarning: Glyph 44228 missing from current font.\n",
            "  font.set_text(s, 0, flags=flags)\n",
            "/usr/local/lib/python3.7/dist-packages/matplotlib/backends/backend_agg.py:183: RuntimeWarning: Glyph 49688 missing from current font.\n",
            "  font.set_text(s, 0, flags=flags)\n",
            "/usr/local/lib/python3.7/dist-packages/matplotlib/backends/backend_agg.py:183: RuntimeWarning: Glyph 53356 missing from current font.\n",
            "  font.set_text(s, 0, flags=flags)\n",
            "/usr/local/lib/python3.7/dist-packages/matplotlib/backends/backend_agg.py:183: RuntimeWarning: Glyph 44592 missing from current font.\n",
            "  font.set_text(s, 0, flags=flags)\n"
          ],
          "name": "stderr"
        },
        {
          "output_type": "display_data",
          "data": {
            "image/png": "[encoded data removed]",
            "text/plain": [
              "<Figure size 432x288 with 1 Axes>"
            ]
          },
          "metadata": {
            "tags": [],
            "needs_background": "light"
          }
        }
      ]
    },
    {
      "cell_type": "code",
      "metadata": {
        "colab": {
          "base_uri": "https://localhost:8080/"
        },
        "id": "MnSP5cfbhNh4",
        "outputId": "29d0f271-a1d7-41bc-ca0c-697677adf824"
      },
      "source": [
        "# 매개변수 그리드 적용\n",
        "pipe = make_pipeline(\n",
        "    PolynomialFeatures(include_bias=False),\n",
        "    StandardScaler(),\n",
        "    LogisticRegression(max_iter=3000)\n",
        ")\n",
        "\n",
        "param_grid_lr = { \n",
        "               'logisticregression__C' : [0.001, 0.01, 0.1, 1, 10, 100]\n",
        "                }\n",
        "\n",
        "grid_search_lr = GridSearchCV(pipe, param_grid = param_grid_lr, cv=5)\n",
        "grid_search_lr"
      ],
      "execution_count": null,
      "outputs": [
        {
          "output_type": "execute_result",
          "data": {
            "text/plain": [
              "GridSearchCV(cv=5, error_score=nan,\n",
              "             estimator=Pipeline(memory=None,\n",
              "                                steps=[('polynomialfeatures',\n",
              "                                        PolynomialFeatures(degree=2,\n",
              "                                                           include_bias=False,\n",
              "                                                           interaction_only=False,\n",
              "                                                           order='C')),\n",
              "                                       ('standardscaler',\n",
              "                                        StandardScaler(copy=True,\n",
              "                                                       with_mean=True,\n",
              "                                                       with_std=True)),\n",
              "                                       ('logisticregression',\n",
              "                                        LogisticRegression(C=1.0,\n",
              "                                                           class_weight=None,\n",
              "                                                           dual=False,\n",
              "                                                           fit_intercept=True,\n",
              "                                                           intercept_scaling=1,\n",
              "                                                           l1_ratio=None,\n",
              "                                                           max_iter=3000,\n",
              "                                                           multi_class='auto',\n",
              "                                                           n_jobs=None,\n",
              "                                                           penalty='l2',\n",
              "                                                           random_state=None,\n",
              "                                                           solver='lbfgs',\n",
              "                                                           tol=0.0001,\n",
              "                                                           verbose=0,\n",
              "                                                           warm_start=False))],\n",
              "                                verbose=False),\n",
              "             iid='deprecated', n_jobs=None,\n",
              "             param_grid={'logisticregression__C': [0.001, 0.01, 0.1, 1, 10,\n",
              "                                                   100]},\n",
              "             pre_dispatch='2*n_jobs', refit=True, return_train_score=False,\n",
              "             scoring=None, verbose=0)"
            ]
          },
          "metadata": {
            "tags": []
          },
          "execution_count": 178
        }
      ]
    },
    {
      "cell_type": "code",
      "metadata": {
        "colab": {
          "base_uri": "https://localhost:8080/"
        },
        "id": "Wiqf4PLPrt0w",
        "outputId": "e3009f65-b156-4557-da66-f475bfe5aa85"
      },
      "source": [
        "grid_search_lr.fit(X_train_ori, y_train)"
      ],
      "execution_count": null,
      "outputs": [
        {
          "output_type": "execute_result",
          "data": {
            "text/plain": [
              "GridSearchCV(cv=5, error_score=nan,\n",
              "             estimator=Pipeline(memory=None,\n",
              "                                steps=[('polynomialfeatures',\n",
              "                                        PolynomialFeatures(degree=2,\n",
              "                                                           include_bias=False,\n",
              "                                                           interaction_only=False,\n",
              "                                                           order='C')),\n",
              "                                       ('standardscaler',\n",
              "                                        StandardScaler(copy=True,\n",
              "                                                       with_mean=True,\n",
              "                                                       with_std=True)),\n",
              "                                       ('logisticregression',\n",
              "                                        LogisticRegression(C=1.0,\n",
              "                                                           class_weight=None,\n",
              "                                                           dual=False,\n",
              "                                                           fit_intercept=True,\n",
              "                                                           intercept_scaling=1,\n",
              "                                                           l1_ratio=None,\n",
              "                                                           max_iter=3000,\n",
              "                                                           multi_class='auto',\n",
              "                                                           n_jobs=None,\n",
              "                                                           penalty='l2',\n",
              "                                                           random_state=None,\n",
              "                                                           solver='lbfgs',\n",
              "                                                           tol=0.0001,\n",
              "                                                           verbose=0,\n",
              "                                                           warm_start=False))],\n",
              "                                verbose=False),\n",
              "             iid='deprecated', n_jobs=None,\n",
              "             param_grid={'logisticregression__C': [0.001, 0.01, 0.1, 1, 10,\n",
              "                                                   100]},\n",
              "             pre_dispatch='2*n_jobs', refit=True, return_train_score=False,\n",
              "             scoring=None, verbose=0)"
            ]
          },
          "metadata": {
            "tags": []
          },
          "execution_count": 180
        }
      ]
    },
    {
      "cell_type": "code",
      "metadata": {
        "colab": {
          "base_uri": "https://localhost:8080/"
        },
        "id": "U3pSqVR7hNl1",
        "outputId": "cd806eb1-6662-4b78-bbf7-335dc6a1b559"
      },
      "source": [
        "\n",
        "print(\"테스트 세트 점수 : \", grid_search_lr.score(X_test_ori, y_test))\n",
        "print(\"최적 매개변수 \", grid_search_lr.best_params_)\n",
        "print(\"최적 교차 검증 점수 \", grid_search_lr.best_score_)\n",
        "print(\"최적 성능 모델 \", grid_search_lr.best_estimator_)"
      ],
      "execution_count": null,
      "outputs": [
        {
          "output_type": "stream",
          "text": [
            "테스트 세트 점수 :  0.9905132192846035\n",
            "최적 매개변수  {'logisticregression__C': 100}\n",
            "최적 교차 검증 점수  0.9886469673405911\n",
            "최적 성능 모델  Pipeline(memory=None,\n",
            "         steps=[('polynomialfeatures',\n",
            "                 PolynomialFeatures(degree=2, include_bias=False,\n",
            "                                    interaction_only=False, order='C')),\n",
            "                ('standardscaler',\n",
            "                 StandardScaler(copy=True, with_mean=True, with_std=True)),\n",
            "                ('logisticregression',\n",
            "                 LogisticRegression(C=100, class_weight=None, dual=False,\n",
            "                                    fit_intercept=True, intercept_scaling=1,\n",
            "                                    l1_ratio=None, max_iter=3000,\n",
            "                                    multi_class='auto', n_jobs=None,\n",
            "                                    penalty='l2', random_state=None,\n",
            "                                    solver='lbfgs', tol=0.0001, verbose=0,\n",
            "                                    warm_start=False))],\n",
            "         verbose=False)\n"
          ],
          "name": "stdout"
        }
      ]
    },
    {
      "cell_type": "code",
      "metadata": {
        "colab": {
          "base_uri": "https://localhost:8080/"
        },
        "id": "6EWD-UkxhNrt",
        "outputId": "2f4c5963-6159-4616-96c4-54c1b1f2d35a"
      },
      "source": [
        "print(confusion_matrix(y_test, grid_search_lr.predict(X_test_ori)))\n",
        "#"
      ],
      "execution_count": null,
      "outputs": [
        {
          "output_type": "stream",
          "text": [
            "[[5876   30]\n",
            " [  31  493]]\n"
          ],
          "name": "stdout"
        }
      ]
    },
    {
      "cell_type": "code",
      "metadata": {
        "id": "QklpH9o6hNvL",
        "colab": {
          "base_uri": "https://localhost:8080/",
          "height": 702
        },
        "outputId": "3b3472da-93c4-45a7-e66a-3335d3067769"
      },
      "source": [
        "\n",
        "plt.plot(grid_search_lr.best_estimator_.named_steps['logisticregression'].coef_.T, 'o')\n",
        "    \n",
        "plt.xlabel(\"특성\")\n",
        "plt.ylabel(\"계수 크기\")\n",
        "\n",
        "xlimes = plt.xlim()\n",
        "plt.hlines(0,xlimes[0], xlimes[1])\n",
        "plt.xlim(xlimes)\n",
        "plt.ylim(-5,5)\n"
      ],
      "execution_count": null,
      "outputs": [
        {
          "output_type": "execute_result",
          "data": {
            "text/plain": [
              "(-5.0, 5.0)"
            ]
          },
          "metadata": {
            "tags": []
          },
          "execution_count": 190
        },
        {
          "output_type": "stream",
          "text": [
            "/usr/local/lib/python3.7/dist-packages/matplotlib/backends/backend_agg.py:214: RuntimeWarning: Glyph 53945 missing from current font.\n",
            "  font.set_text(s, 0.0, flags=flags)\n",
            "/usr/local/lib/python3.7/dist-packages/matplotlib/backends/backend_agg.py:214: RuntimeWarning: Glyph 49457 missing from current font.\n",
            "  font.set_text(s, 0.0, flags=flags)\n",
            "/usr/local/lib/python3.7/dist-packages/matplotlib/backends/backend_agg.py:183: RuntimeWarning: Glyph 53945 missing from current font.\n",
            "  font.set_text(s, 0, flags=flags)\n",
            "/usr/local/lib/python3.7/dist-packages/matplotlib/backends/backend_agg.py:183: RuntimeWarning: Glyph 49457 missing from current font.\n",
            "  font.set_text(s, 0, flags=flags)\n",
            "/usr/local/lib/python3.7/dist-packages/matplotlib/backends/backend_agg.py:214: RuntimeWarning: Glyph 44228 missing from current font.\n",
            "  font.set_text(s, 0.0, flags=flags)\n",
            "/usr/local/lib/python3.7/dist-packages/matplotlib/backends/backend_agg.py:214: RuntimeWarning: Glyph 49688 missing from current font.\n",
            "  font.set_text(s, 0.0, flags=flags)\n",
            "/usr/local/lib/python3.7/dist-packages/matplotlib/backends/backend_agg.py:214: RuntimeWarning: Glyph 53356 missing from current font.\n",
            "  font.set_text(s, 0.0, flags=flags)\n",
            "/usr/local/lib/python3.7/dist-packages/matplotlib/backends/backend_agg.py:214: RuntimeWarning: Glyph 44592 missing from current font.\n",
            "  font.set_text(s, 0.0, flags=flags)\n",
            "/usr/local/lib/python3.7/dist-packages/matplotlib/backends/backend_agg.py:183: RuntimeWarning: Glyph 44228 missing from current font.\n",
            "  font.set_text(s, 0, flags=flags)\n",
            "/usr/local/lib/python3.7/dist-packages/matplotlib/backends/backend_agg.py:183: RuntimeWarning: Glyph 49688 missing from current font.\n",
            "  font.set_text(s, 0, flags=flags)\n",
            "/usr/local/lib/python3.7/dist-packages/matplotlib/backends/backend_agg.py:183: RuntimeWarning: Glyph 53356 missing from current font.\n",
            "  font.set_text(s, 0, flags=flags)\n",
            "/usr/local/lib/python3.7/dist-packages/matplotlib/backends/backend_agg.py:183: RuntimeWarning: Glyph 44592 missing from current font.\n",
            "  font.set_text(s, 0, flags=flags)\n"
          ],
          "name": "stderr"
        },
        {
          "output_type": "display_data",
          "data": {
            "image/png": "[encoded data removed]",
            "text/plain": [
              "<Figure size 432x288 with 1 Axes>"
            ]
          },
          "metadata": {
            "tags": [],
            "needs_background": "light"
          }
        }
      ]
    },
    {
      "cell_type": "code",
      "metadata": {
        "colab": {
          "base_uri": "https://localhost:8080/"
        },
        "id": "VTIryWY_6nJN",
        "outputId": "7c27d000-a72d-485f-d264-f763fb7fbe76"
      },
      "source": [
        "selector = SelectFromModel(LogisticRegression(max_iter=5000)).fit(X_train_poly, y_train)\n",
        "\n",
        "selector.get_support()"
      ],
      "execution_count": null,
      "outputs": [
        {
          "output_type": "execute_result",
          "data": {
            "text/plain": [
              "array([False, False, False, False,  True, False, False, False,  True,\n",
              "       False, False, False, False, False,  True, False,  True, False,\n",
              "       False, False, False,  True,  True, False,  True, False, False,\n",
              "       False, False, False, False, False, False,  True, False, False,\n",
              "       False,  True, False, False,  True,  True, False, False, False,\n",
              "       False, False, False, False,  True, False, False, False, False,\n",
              "       False, False,  True,  True, False, False, False, False, False,\n",
              "       False,  True, False, False,  True, False, False, False, False,\n",
              "       False, False, False, False, False, False, False,  True,  True,\n",
              "       False,  True, False, False, False, False, False,  True, False,\n",
              "       False,  True, False, False, False, False, False, False, False,\n",
              "       False, False, False, False,  True, False, False, False, False,\n",
              "       False, False, False, False, False, False, False, False, False,\n",
              "       False, False, False, False, False, False, False, False, False,\n",
              "       False, False, False, False, False, False, False,  True, False,\n",
              "       False, False, False,  True, False, False, False, False, False,\n",
              "       False, False, False, False,  True, False, False, False, False,\n",
              "       False, False, False, False, False, False, False, False, False,\n",
              "       False, False, False, False,  True, False, False,  True])"
            ]
          },
          "metadata": {
            "tags": []
          },
          "execution_count": 53
        }
      ]
    },
    {
      "cell_type": "code",
      "metadata": {
        "id": "lCXzMOcj6xTo"
      },
      "source": [
        "X_train_fea = selector.transform(X_train_poly)\n",
        "\n",
        "lr_fe = LogisticRegression(max_iter=5000).fit(X_train_fea, y_train)"
      ],
      "execution_count": null,
      "outputs": []
    },
    {
      "cell_type": "code",
      "metadata": {
        "colab": {
          "base_uri": "https://localhost:8080/"
        },
        "id": "eiB8cYWq8c1b",
        "outputId": "418c0830-35f5-42aa-8c8d-6c19b05c375b"
      },
      "source": [
        "X_test_fea = selector.transform(X_test_poly)\n",
        "lr_fe.score(X_test_fea, y_test)"
      ],
      "execution_count": null,
      "outputs": [
        {
          "output_type": "execute_result",
          "data": {
            "text/plain": [
              "0.9878693623639191"
            ]
          },
          "metadata": {
            "tags": []
          },
          "execution_count": 55
        }
      ]
    },
    {
      "cell_type": "code",
      "metadata": {
        "colab": {
          "base_uri": "https://localhost:8080/"
        },
        "id": "a78vhyTA8kRv",
        "outputId": "3cc3cd68-3135-4cf0-a37a-900011f77e2c"
      },
      "source": [
        "print(confusion_matrix(y_test, lr_fe.predict(X_test_fea)))"
      ],
      "execution_count": null,
      "outputs": [
        {
          "output_type": "stream",
          "text": [
            "[[5873   33]\n",
            " [  45  479]]\n"
          ],
          "name": "stdout"
        }
      ]
    },
    {
      "cell_type": "code",
      "metadata": {
        "id": "MIw7kFEkbGh6",
        "colab": {
          "base_uri": "https://localhost:8080/"
        },
        "outputId": "6780b9c8-f2cb-4f4c-9e78-09eace8e1dec"
      },
      "source": [
        "# 매개변수 그리드 적용\n",
        "#pipe = make_pipeline(\n",
        "#   PolynomialFeatures(include_bias=False),\n",
        "#   SelectFromModel(LogisticRegression(), \n",
        "#   StandardScaler(),\n",
        "#    LogisticRegression(max_iter=3000)\n",
        "#)\n",
        "\n",
        "pipeline = Pipeline([ \n",
        "    ('preprocessing', PolynomialFeatures(include_bias=False)),\n",
        "    ('feature_selection', SelectFromModel(LogisticRegression(max_iter=5000))),\n",
        "    ('scaling', StandardScaler()),\n",
        "    ('estimator', LogisticRegression(max_iter=5000))\n",
        "     ])    \n",
        "\n",
        "param_grid_lr = { \n",
        "               'estimator__C' : [0.001, 0.01, 0.1, 1, 10, 100]\n",
        "                }\n",
        "\n",
        "grid_search_lr = GridSearchCV(pipeline, param_grid = param_grid_lr, cv=5)\n",
        "grid_search_lr"
      ],
      "execution_count": null,
      "outputs": [
        {
          "output_type": "execute_result",
          "data": {
            "text/plain": [
              "GridSearchCV(cv=5, error_score=nan,\n",
              "             estimator=Pipeline(memory=None,\n",
              "                                steps=[('preprocessing',\n",
              "                                        PolynomialFeatures(degree=2,\n",
              "                                                           include_bias=False,\n",
              "                                                           interaction_only=False,\n",
              "                                                           order='C')),\n",
              "                                       ('feature_selection',\n",
              "                                        SelectFromModel(estimator=LogisticRegression(C=1.0,\n",
              "                                                                                     class_weight=None,\n",
              "                                                                                     dual=False,\n",
              "                                                                                     fit_intercept=True,\n",
              "                                                                                     intercept_scaling=1,\n",
              "                                                                                     l1_ratio=None,\n",
              "                                                                                     max_iter=5000,\n",
              "                                                                                     multi_class...\n",
              "                                                           fit_intercept=True,\n",
              "                                                           intercept_scaling=1,\n",
              "                                                           l1_ratio=None,\n",
              "                                                           max_iter=5000,\n",
              "                                                           multi_class='auto',\n",
              "                                                           n_jobs=None,\n",
              "                                                           penalty='l2',\n",
              "                                                           random_state=None,\n",
              "                                                           solver='lbfgs',\n",
              "                                                           tol=0.0001,\n",
              "                                                           verbose=0,\n",
              "                                                           warm_start=False))],\n",
              "                                verbose=False),\n",
              "             iid='deprecated', n_jobs=None,\n",
              "             param_grid={'estimator__C': [0.001, 0.01, 0.1, 1, 10, 100]},\n",
              "             pre_dispatch='2*n_jobs', refit=True, return_train_score=False,\n",
              "             scoring=None, verbose=0)"
            ]
          },
          "metadata": {
            "tags": []
          },
          "execution_count": 33
        }
      ]
    },
    {
      "cell_type": "code",
      "metadata": {
        "id": "oheYOt7RbGkk"
      },
      "source": [
        "grid_search_lr.fit(X_train_ori, y_train)"
      ],
      "execution_count": null,
      "outputs": []
    },
    {
      "cell_type": "code",
      "metadata": {
        "id": "NUCglT-2bGqR",
        "colab": {
          "base_uri": "https://localhost:8080/"
        },
        "outputId": "aaf9f4ed-d498-4acc-bcaf-ca4d337a7ba9"
      },
      "source": [
        "\n",
        "print(\"테스트 세트 점수 : \", grid_search_lr.score(X_test_ori, y_test))\n",
        "print(\"최적 매개변수 \", grid_search_lr.best_params_)\n",
        "print(\"최적 교차 검증 점수 \", grid_search_lr.best_score_)\n",
        "print(\"최적 성능 모델 \", grid_search_lr.best_estimator_)\n"
      ],
      "execution_count": null,
      "outputs": [
        {
          "output_type": "stream",
          "text": [
            "테스트 세트 점수 :  0.9905132192846035\n",
            "최적 매개변수  {'estimator__C': 100}\n",
            "최적 교차 검증 점수  0.9886469673405911\n",
            "최적 성능 모델  Pipeline(memory=None,\n",
            "         steps=[('preprocessing',\n",
            "                 PolynomialFeatures(degree=2, include_bias=False,\n",
            "                                    interaction_only=False, order='C')),\n",
            "                ('feature_selection',\n",
            "                 SelectFromModel(estimator=LogisticRegression(C=1.0,\n",
            "                                                              class_weight=None,\n",
            "                                                              dual=False,\n",
            "                                                              fit_intercept=True,\n",
            "                                                              intercept_scaling=1,\n",
            "                                                              l1_ratio=None,\n",
            "                                                              max_iter=5000,\n",
            "                                                              multi_class='auto',\n",
            "                                                              n_jobs=None,\n",
            "                                                              penalty='l2',\n",
            "                                                              random_stat...\n",
            "                                 threshold=None)),\n",
            "                ('scaling',\n",
            "                 StandardScaler(copy=True, with_mean=True, with_std=True)),\n",
            "                ('estimator',\n",
            "                 LogisticRegression(C=100, class_weight=None, dual=False,\n",
            "                                    fit_intercept=True, intercept_scaling=1,\n",
            "                                    l1_ratio=None, max_iter=5000,\n",
            "                                    multi_class='auto', n_jobs=None,\n",
            "                                    penalty='l2', random_state=None,\n",
            "                                    solver='lbfgs', tol=0.0001, verbose=0,\n",
            "                                    warm_start=False))],\n",
            "         verbose=False)\n"
          ],
          "name": "stdout"
        }
      ]
    },
    {
      "cell_type": "code",
      "metadata": {
        "colab": {
          "base_uri": "https://localhost:8080/",
          "height": 733
        },
        "id": "KXTBGMNd3pR5",
        "outputId": "eb255a5c-ed1f-4056-c747-4ad659e45cfd"
      },
      "source": [
        "print(confusion_matrix(y_test, grid_search_lr.predict(X_test_ori)))\n",
        "#\n",
        "\n",
        "plt.plot(grid_search_lr.best_estimator_.named_steps['estimator'].coef_.T, 'o')\n",
        "    \n",
        "plt.xlabel(\"특성\")\n",
        "plt.ylabel(\"계수 크기\")\n",
        "\n",
        "xlimes = plt.xlim()\n",
        "plt.hlines(0,xlimes[0], xlimes[1])\n",
        "plt.xlim(xlimes)\n",
        "plt.ylim(-5,5)\n"
      ],
      "execution_count": null,
      "outputs": [
        {
          "output_type": "stream",
          "text": [
            "[[5876   30]\n",
            " [  31  493]]\n"
          ],
          "name": "stdout"
        },
        {
          "output_type": "execute_result",
          "data": {
            "text/plain": [
              "(-5.0, 5.0)"
            ]
          },
          "metadata": {
            "tags": []
          },
          "execution_count": 38
        },
        {
          "output_type": "stream",
          "text": [
            "/usr/local/lib/python3.7/dist-packages/matplotlib/backends/backend_agg.py:214: RuntimeWarning: Glyph 53945 missing from current font.\n",
            "  font.set_text(s, 0.0, flags=flags)\n",
            "/usr/local/lib/python3.7/dist-packages/matplotlib/backends/backend_agg.py:214: RuntimeWarning: Glyph 49457 missing from current font.\n",
            "  font.set_text(s, 0.0, flags=flags)\n",
            "/usr/local/lib/python3.7/dist-packages/matplotlib/backends/backend_agg.py:183: RuntimeWarning: Glyph 53945 missing from current font.\n",
            "  font.set_text(s, 0, flags=flags)\n",
            "/usr/local/lib/python3.7/dist-packages/matplotlib/backends/backend_agg.py:183: RuntimeWarning: Glyph 49457 missing from current font.\n",
            "  font.set_text(s, 0, flags=flags)\n",
            "/usr/local/lib/python3.7/dist-packages/matplotlib/backends/backend_agg.py:214: RuntimeWarning: Glyph 44228 missing from current font.\n",
            "  font.set_text(s, 0.0, flags=flags)\n",
            "/usr/local/lib/python3.7/dist-packages/matplotlib/backends/backend_agg.py:214: RuntimeWarning: Glyph 49688 missing from current font.\n",
            "  font.set_text(s, 0.0, flags=flags)\n",
            "/usr/local/lib/python3.7/dist-packages/matplotlib/backends/backend_agg.py:214: RuntimeWarning: Glyph 53356 missing from current font.\n",
            "  font.set_text(s, 0.0, flags=flags)\n",
            "/usr/local/lib/python3.7/dist-packages/matplotlib/backends/backend_agg.py:214: RuntimeWarning: Glyph 44592 missing from current font.\n",
            "  font.set_text(s, 0.0, flags=flags)\n",
            "/usr/local/lib/python3.7/dist-packages/matplotlib/backends/backend_agg.py:183: RuntimeWarning: Glyph 44228 missing from current font.\n",
            "  font.set_text(s, 0, flags=flags)\n",
            "/usr/local/lib/python3.7/dist-packages/matplotlib/backends/backend_agg.py:183: RuntimeWarning: Glyph 49688 missing from current font.\n",
            "  font.set_text(s, 0, flags=flags)\n",
            "/usr/local/lib/python3.7/dist-packages/matplotlib/backends/backend_agg.py:183: RuntimeWarning: Glyph 53356 missing from current font.\n",
            "  font.set_text(s, 0, flags=flags)\n",
            "/usr/local/lib/python3.7/dist-packages/matplotlib/backends/backend_agg.py:183: RuntimeWarning: Glyph 44592 missing from current font.\n",
            "  font.set_text(s, 0, flags=flags)\n"
          ],
          "name": "stderr"
        },
        {
          "output_type": "display_data",
          "data": {
            "image/png": "[encoded data removed]",
            "text/plain": [
              "<Figure size 432x288 with 1 Axes>"
            ]
          },
          "metadata": {
            "tags": [],
            "needs_background": "light"
          }
        }
      ]
    },
    {
      "cell_type": "code",
      "metadata": {
        "colab": {
          "base_uri": "https://localhost:8080/"
        },
        "id": "4dQnaldQ3-9R",
        "outputId": "82168341-a383-4ad7-fb4b-bd657bd1f69a"
      },
      "source": [
        "grid_search_lr.best_estimator_.named_steps['feature_selection'].get_support()\n"
      ],
      "execution_count": null,
      "outputs": [
        {
          "output_type": "execute_result",
          "data": {
            "text/plain": [
              "array([ True,  True,  True,  True,  True,  True,  True,  True,  True,\n",
              "        True,  True,  True,  True,  True,  True,  True,  True,  True,\n",
              "        True,  True,  True,  True,  True,  True,  True,  True,  True,\n",
              "        True,  True,  True,  True,  True,  True,  True,  True,  True,\n",
              "        True,  True,  True,  True,  True,  True,  True,  True,  True,\n",
              "        True,  True,  True,  True,  True,  True,  True,  True,  True,\n",
              "        True,  True,  True,  True,  True,  True,  True,  True,  True,\n",
              "        True,  True,  True,  True,  True,  True,  True,  True,  True,\n",
              "        True,  True,  True,  True,  True,  True,  True,  True,  True,\n",
              "        True,  True,  True,  True,  True,  True,  True,  True,  True,\n",
              "        True,  True,  True,  True,  True,  True,  True,  True,  True,\n",
              "        True,  True,  True,  True,  True,  True,  True,  True,  True,\n",
              "        True,  True,  True,  True,  True,  True,  True,  True,  True,\n",
              "        True,  True,  True,  True,  True,  True,  True,  True,  True,\n",
              "        True,  True,  True,  True,  True,  True,  True,  True,  True,\n",
              "        True,  True,  True,  True,  True,  True,  True,  True,  True,\n",
              "        True,  True,  True,  True,  True,  True,  True,  True,  True,\n",
              "        True,  True,  True,  True,  True,  True,  True,  True,  True,\n",
              "        True,  True,  True,  True,  True,  True,  True,  True])"
            ]
          },
          "metadata": {
            "tags": []
          },
          "execution_count": 42
        }
      ]
    },
    {
      "cell_type": "code",
      "metadata": {
        "colab": {
          "base_uri": "https://localhost:8080/"
        },
        "id": "vgyHEZYr7rRb",
        "outputId": "4de003a3-942e-4be0-b534-21f770ed1fde"
      },
      "source": [
        "grid_search_lr.best_estimator_.named_steps['estimator']\n"
      ],
      "execution_count": null,
      "outputs": [
        {
          "output_type": "execute_result",
          "data": {
            "text/plain": [
              "LogisticRegression(C=100, class_weight=None, dual=False, fit_intercept=True,\n",
              "                   intercept_scaling=1, l1_ratio=None, max_iter=5000,\n",
              "                   multi_class='auto', n_jobs=None, penalty='l2',\n",
              "                   random_state=None, solver='lbfgs', tol=0.0001, verbose=0,\n",
              "                   warm_start=False)"
            ]
          },
          "metadata": {
            "tags": []
          },
          "execution_count": 47
        }
      ]
    },
    {
      "cell_type": "code",
      "metadata": {
        "id": "5r7TmDOF5m6m"
      },
      "source": [
        "X = pd.get_dummies(X)\n",
        "y = y"
      ],
      "execution_count": null,
      "outputs": []
    },
    {
      "cell_type": "code",
      "metadata": {
        "colab": {
          "base_uri": "https://localhost:8080/",
          "height": 195
        },
        "id": "Byyv7mPm6CxV",
        "outputId": "0d966100-c854-426a-f57d-12fc3cfd0848"
      },
      "source": [
        "X.head()"
      ],
      "execution_count": null,
      "outputs": [
        {
          "output_type": "execute_result",
          "data": {
            "text/html": [
              "<div>\n",
              "<style scoped>\n",
              "    .dataframe tbody tr th:only-of-type {\n",
              "        vertical-align: middle;\n",
              "    }\n",
              "\n",
              "    .dataframe tbody tr th {\n",
              "        vertical-align: top;\n",
              "    }\n",
              "\n",
              "    .dataframe thead th {\n",
              "        text-align: right;\n",
              "    }\n",
              "</style>\n",
              "<table border=\"1\" class=\"dataframe\">\n",
              "  <thead>\n",
              "    <tr style=\"text-align: right;\">\n",
              "      <th></th>\n",
              "      <th>H</th>\n",
              "      <th>e</th>\n",
              "      <th>a</th>\n",
              "      <th>q</th>\n",
              "      <th>i</th>\n",
              "      <th>om</th>\n",
              "      <th>w</th>\n",
              "      <th>ma</th>\n",
              "      <th>ad</th>\n",
              "      <th>n</th>\n",
              "      <th>tp</th>\n",
              "      <th>per</th>\n",
              "      <th>moid</th>\n",
              "      <th>class_AMO</th>\n",
              "      <th>class_APO</th>\n",
              "      <th>class_ATE</th>\n",
              "      <th>class_IEO</th>\n",
              "    </tr>\n",
              "  </thead>\n",
              "  <tbody>\n",
              "    <tr>\n",
              "      <th>432</th>\n",
              "      <td>10.40</td>\n",
              "      <td>0.222994</td>\n",
              "      <td>1.458167</td>\n",
              "      <td>1.133005</td>\n",
              "      <td>10.830513</td>\n",
              "      <td>304.299134</td>\n",
              "      <td>178.868934</td>\n",
              "      <td>23.041748</td>\n",
              "      <td>1.783330</td>\n",
              "      <td>0.559749</td>\n",
              "      <td>2.459159e+06</td>\n",
              "      <td>643.145790</td>\n",
              "      <td>0.148573</td>\n",
              "      <td>1</td>\n",
              "      <td>0</td>\n",
              "      <td>0</td>\n",
              "      <td>0</td>\n",
              "    </tr>\n",
              "    <tr>\n",
              "      <th>718</th>\n",
              "      <td>15.51</td>\n",
              "      <td>0.546721</td>\n",
              "      <td>2.638378</td>\n",
              "      <td>1.195922</td>\n",
              "      <td>11.570400</td>\n",
              "      <td>183.858330</td>\n",
              "      <td>156.191216</td>\n",
              "      <td>186.243081</td>\n",
              "      <td>4.080833</td>\n",
              "      <td>0.229985</td>\n",
              "      <td>2.459956e+06</td>\n",
              "      <td>1565.322585</td>\n",
              "      <td>0.201325</td>\n",
              "      <td>1</td>\n",
              "      <td>0</td>\n",
              "      <td>0</td>\n",
              "      <td>0</td>\n",
              "    </tr>\n",
              "    <tr>\n",
              "      <th>886</th>\n",
              "      <td>13.84</td>\n",
              "      <td>0.570422</td>\n",
              "      <td>2.473534</td>\n",
              "      <td>1.062575</td>\n",
              "      <td>9.393848</td>\n",
              "      <td>110.433729</td>\n",
              "      <td>350.512508</td>\n",
              "      <td>345.243765</td>\n",
              "      <td>3.884493</td>\n",
              "      <td>0.253354</td>\n",
              "      <td>2.459259e+06</td>\n",
              "      <td>1420.938219</td>\n",
              "      <td>0.081753</td>\n",
              "      <td>1</td>\n",
              "      <td>0</td>\n",
              "      <td>0</td>\n",
              "      <td>0</td>\n",
              "    </tr>\n",
              "    <tr>\n",
              "      <th>1035</th>\n",
              "      <td>9.30</td>\n",
              "      <td>0.533095</td>\n",
              "      <td>2.665194</td>\n",
              "      <td>1.244392</td>\n",
              "      <td>26.676143</td>\n",
              "      <td>215.544210</td>\n",
              "      <td>132.378538</td>\n",
              "      <td>50.117961</td>\n",
              "      <td>4.085995</td>\n",
              "      <td>0.226522</td>\n",
              "      <td>2.458979e+06</td>\n",
              "      <td>1589.247561</td>\n",
              "      <td>0.343891</td>\n",
              "      <td>1</td>\n",
              "      <td>0</td>\n",
              "      <td>0</td>\n",
              "      <td>0</td>\n",
              "    </tr>\n",
              "    <tr>\n",
              "      <th>1220</th>\n",
              "      <td>17.39</td>\n",
              "      <td>0.435488</td>\n",
              "      <td>1.919166</td>\n",
              "      <td>1.083392</td>\n",
              "      <td>11.880444</td>\n",
              "      <td>171.316487</td>\n",
              "      <td>26.677583</td>\n",
              "      <td>112.664864</td>\n",
              "      <td>2.754939</td>\n",
              "      <td>0.370711</td>\n",
              "      <td>2.458897e+06</td>\n",
              "      <td>971.106980</td>\n",
              "      <td>0.106469</td>\n",
              "      <td>1</td>\n",
              "      <td>0</td>\n",
              "      <td>0</td>\n",
              "      <td>0</td>\n",
              "    </tr>\n",
              "  </tbody>\n",
              "</table>\n",
              "</div>"
            ],
            "text/plain": [
              "          H         e         a  ...  class_APO  class_ATE  class_IEO\n",
              "432   10.40  0.222994  1.458167  ...          0          0          0\n",
              "718   15.51  0.546721  2.638378  ...          0          0          0\n",
              "886   13.84  0.570422  2.473534  ...          0          0          0\n",
              "1035   9.30  0.533095  2.665194  ...          0          0          0\n",
              "1220  17.39  0.435488  1.919166  ...          0          0          0\n",
              "\n",
              "[5 rows x 17 columns]"
            ]
          },
          "metadata": {
            "tags": []
          },
          "execution_count": 16
        }
      ]
    },
    {
      "cell_type": "code",
      "metadata": {
        "colab": {
          "base_uri": "https://localhost:8080/",
          "height": 774
        },
        "id": "C00HCkjp5WzG",
        "outputId": "affb403d-90a5-4ffd-8893-96d2fd0cf5e0"
      },
      "source": [
        "from sklearn.model_selection import cross_val_score\n",
        "from sklearn.model_selection import cross_validate\n",
        "rf = RandomForestClassifier(random_state=0)\n",
        "cs = cross_validate(rf, X, y, cv=5, return_estimator=True)\n",
        "\n",
        "display(cs)"
      ],
      "execution_count": null,
      "outputs": [
        {
          "output_type": "display_data",
          "data": {
            "text/plain": [
              "{'estimator': (RandomForestClassifier(bootstrap=True, ccp_alpha=0.0, class_weight=None,\n",
              "                         criterion='gini', max_depth=None, max_features='auto',\n",
              "                         max_leaf_nodes=None, max_samples=None,\n",
              "                         min_impurity_decrease=0.0, min_impurity_split=None,\n",
              "                         min_samples_leaf=1, min_samples_split=2,\n",
              "                         min_weight_fraction_leaf=0.0, n_estimators=100,\n",
              "                         n_jobs=None, oob_score=False, random_state=0, verbose=0,\n",
              "                         warm_start=False),\n",
              "  RandomForestClassifier(bootstrap=True, ccp_alpha=0.0, class_weight=None,\n",
              "                         criterion='gini', max_depth=None, max_features='auto',\n",
              "                         max_leaf_nodes=None, max_samples=None,\n",
              "                         min_impurity_decrease=0.0, min_impurity_split=None,\n",
              "                         min_samples_leaf=1, min_samples_split=2,\n",
              "                         min_weight_fraction_leaf=0.0, n_estimators=100,\n",
              "                         n_jobs=None, oob_score=False, random_state=0, verbose=0,\n",
              "                         warm_start=False),\n",
              "  RandomForestClassifier(bootstrap=True, ccp_alpha=0.0, class_weight=None,\n",
              "                         criterion='gini', max_depth=None, max_features='auto',\n",
              "                         max_leaf_nodes=None, max_samples=None,\n",
              "                         min_impurity_decrease=0.0, min_impurity_split=None,\n",
              "                         min_samples_leaf=1, min_samples_split=2,\n",
              "                         min_weight_fraction_leaf=0.0, n_estimators=100,\n",
              "                         n_jobs=None, oob_score=False, random_state=0, verbose=0,\n",
              "                         warm_start=False),\n",
              "  RandomForestClassifier(bootstrap=True, ccp_alpha=0.0, class_weight=None,\n",
              "                         criterion='gini', max_depth=None, max_features='auto',\n",
              "                         max_leaf_nodes=None, max_samples=None,\n",
              "                         min_impurity_decrease=0.0, min_impurity_split=None,\n",
              "                         min_samples_leaf=1, min_samples_split=2,\n",
              "                         min_weight_fraction_leaf=0.0, n_estimators=100,\n",
              "                         n_jobs=None, oob_score=False, random_state=0, verbose=0,\n",
              "                         warm_start=False),\n",
              "  RandomForestClassifier(bootstrap=True, ccp_alpha=0.0, class_weight=None,\n",
              "                         criterion='gini', max_depth=None, max_features='auto',\n",
              "                         max_leaf_nodes=None, max_samples=None,\n",
              "                         min_impurity_decrease=0.0, min_impurity_split=None,\n",
              "                         min_samples_leaf=1, min_samples_split=2,\n",
              "                         min_weight_fraction_leaf=0.0, n_estimators=100,\n",
              "                         n_jobs=None, oob_score=False, random_state=0, verbose=0,\n",
              "                         warm_start=False)),\n",
              " 'fit_time': array([2.95813251, 2.55702662, 2.66083217, 2.72331595, 2.75375104]),\n",
              " 'score_time': array([0.05174804, 0.05011082, 0.04961348, 0.04899001, 0.05268145]),\n",
              " 'test_score': array([0.99902799, 0.99630638, 0.99727838, 0.99650078, 0.99747278])}"
            ]
          },
          "metadata": {
            "tags": []
          }
        }
      ]
    },
    {
      "cell_type": "code",
      "metadata": {
        "colab": {
          "base_uri": "https://localhost:8080/"
        },
        "id": "UM9b5Ewi7soe",
        "outputId": "07e5c43c-6b7e-43f1-f47d-e3505213f8bc"
      },
      "source": [
        "cs['test_score']"
      ],
      "execution_count": null,
      "outputs": [
        {
          "output_type": "execute_result",
          "data": {
            "text/plain": [
              "array([0.99902799, 0.99630638, 0.99727838, 0.99650078, 0.99747278])"
            ]
          },
          "metadata": {
            "tags": []
          },
          "execution_count": 26
        }
      ]
    },
    {
      "cell_type": "code",
      "metadata": {
        "colab": {
          "base_uri": "https://localhost:8080/"
        },
        "id": "yxekuzwt54PW",
        "outputId": "95c2761d-e0c0-4fe8-d035-0f16c12e9304"
      },
      "source": [
        "from xgboost import XGBClassifier\n",
        "xg = XGBClassifier(random_state=0)\n",
        "cs = cross_val_score(xg, X, y, cv=5)\n",
        "\n",
        "print(cs)"
      ],
      "execution_count": null,
      "outputs": [
        {
          "output_type": "stream",
          "text": [
            "[0.99902799 0.99669518 0.99766719 0.99688958 0.99708398]\n"
          ],
          "name": "stdout"
        }
      ]
    },
    {
      "cell_type": "markdown",
      "metadata": {
        "id": "OYuEqGYQhK7_"
      },
      "source": [
        ""
      ]
    }
  ]
}