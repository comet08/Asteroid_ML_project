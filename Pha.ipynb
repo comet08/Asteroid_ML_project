{
  "nbformat": 4,
  "nbformat_minor": 0,
  "metadata": {
    "colab": {
      "name": "Pha",
      "provenance": [],
      "collapsed_sections": []
    },
    "kernelspec": {
      "display_name": "Python 3",
      "name": "python3"
    }
  },
  "cells": [
    {
      "cell_type": "code",
      "metadata": {
        "id": "mmIZcEZdsvYl",
        "colab": {
          "base_uri": "https://localhost:8080/"
        },
        "outputId": "1662ecce-18dd-48c8-f60e-eade96a9d393"
      },
      "source": [
        "import numpy as np\n",
        "import pandas as pd\n",
        "import matplotlib\n",
        "import matplotlib.pyplot as plt\n",
        "from sklearn.model_selection import train_test_split\n",
        "\n",
        "#전처리\n",
        "from sklearn.preprocessing import StandardScaler\n",
        "from sklearn.preprocessing import MinMaxScaler\n",
        "from sklearn.preprocessing import OneHotEncoder\n",
        "from sklearn.compose import make_column_transformer\n",
        "from sklearn.preprocessing import KBinsDiscretizer\n",
        "\n",
        "# 매개변수 그리드\n",
        "from sklearn.model_selection import GridSearchCV\n",
        "\n",
        "# 특성 선택\n",
        "from sklearn.feature_selection import SelectFromModel\n",
        "\n",
        "#\n",
        "from sklearn.metrics import f1_score\n",
        "from sklearn.metrics import make_scorer\n",
        "\n",
        "f1_scorer = make_scorer(f1_score, pos_label=\"Y\")\n",
        "\n",
        "\n",
        "#파이프라인\n",
        "from sklearn.pipeline import Pipeline\n",
        "from sklearn.pipeline import make_pipeline\n",
        "\n",
        "# 성능 평가\n",
        "from sklearn.metrics import classification_report\n",
        "from sklearn.metrics import confusion_matrix\n",
        "\n",
        "#overSampling\n",
        "from imblearn.over_sampling import SMOTE\n",
        "\n",
        "# model\n",
        "from sklearn.svm import SVC\n",
        "from sklearn.svm import SVR\n",
        "from sklearn.ensemble import RandomForestClassifier\n",
        "from xgboost import XGBClassifier\n",
        "from xgboost import XGBRegressor\n",
        "from sklearn.linear_model import LogisticRegression\n",
        "from sklearn.neural_network import MLPClassifier\n"
      ],
      "execution_count": 1,
      "outputs": [
        {
          "output_type": "stream",
          "text": [
            "/usr/local/lib/python3.7/dist-packages/sklearn/externals/six.py:31: FutureWarning: The module is deprecated in version 0.21 and will be removed in version 0.23 since we've dropped support for Python 2.7. Please rely on the official version of six (https://pypi.org/project/six/).\n",
            "  \"(https://pypi.org/project/six/).\", FutureWarning)\n",
            "/usr/local/lib/python3.7/dist-packages/sklearn/utils/deprecation.py:144: FutureWarning: The sklearn.neighbors.base module is  deprecated in version 0.22 and will be removed in version 0.24. The corresponding classes / functions should instead be imported from sklearn.neighbors. Anything that cannot be imported from sklearn.neighbors is now part of the private API.\n",
            "  warnings.warn(message, FutureWarning)\n"
          ],
          "name": "stderr"
        }
      ]
    },
    {
      "cell_type": "code",
      "metadata": {
        "id": "Gc2z20Gv2Ahw"
      },
      "source": [
        "from pydrive.auth import GoogleAuth\n",
        "from pydrive.drive import GoogleDrive\n",
        "from google.colab import auth\n",
        "from oauth2client.client import GoogleCredentials\n",
        "# Authenticate and create the PyDrive client.\n",
        "auth.authenticate_user()\n",
        "gauth = GoogleAuth()\n",
        "gauth.credentials = GoogleCredentials.get_application_default()\n",
        "drive = GoogleDrive(gauth)\n",
        "\n",
        "link = 'https://drive.google.com/file/d/1zdaujvrEHpei8_MIr5RRq-uA6LsCVCzZ/view?usp=sharing' # The shareable link\n",
        "#fluff, id = link.split('=')\n",
        "#print (id) # Verify that you have everything after '='\n",
        "id = '1zdaujvrEHpei8_MIr5RRq-uA6LsCVCzZ'\n",
        "downloaded = drive.CreateFile({'id':id}) \n",
        "downloaded.GetContentFile('results.csv')  \n"
      ],
      "execution_count": 2,
      "outputs": []
    },
    {
      "cell_type": "code",
      "metadata": {
        "colab": {
          "base_uri": "https://localhost:8080/"
        },
        "id": "0V-hyK0ExdIv",
        "outputId": "0ceef53a-a5e2-4742-9d64-24e80119b8c2"
      },
      "source": [
        "datas = pd.read_csv('results.csv')\n",
        "datas.info()\n",
        "\n",
        "# 특성과 데이터 타입"
      ],
      "execution_count": 56,
      "outputs": [
        {
          "output_type": "stream",
          "text": [
            "/usr/local/lib/python3.7/dist-packages/IPython/core/interactiveshell.py:2718: DtypeWarning: Columns (0,7) have mixed types.Specify dtype option on import or set low_memory=False.\n",
            "  interactivity=interactivity, compiler=compiler, result=result)\n"
          ],
          "name": "stderr"
        },
        {
          "output_type": "stream",
          "text": [
            "<class 'pandas.core.frame.DataFrame'>\n",
            "RangeIndex: 1079619 entries, 0 to 1079618\n",
            "Data columns (total 21 columns):\n",
            " #   Column    Non-Null Count    Dtype  \n",
            "---  ------    --------------    -----  \n",
            " 0   name      22183 non-null    object \n",
            " 1   neo       1079617 non-null  object \n",
            " 2   pha       1069004 non-null  object \n",
            " 3   H         1075633 non-null  float64\n",
            " 4   diameter  139999 non-null   float64\n",
            " 5   albedo    138848 non-null   float64\n",
            " 6   rot_per   32577 non-null    float64\n",
            " 7   spec_B    1666 non-null     object \n",
            " 8   e         1079619 non-null  float64\n",
            " 9   a         1079619 non-null  float64\n",
            " 10  q         1079619 non-null  float64\n",
            " 11  i         1079619 non-null  float64\n",
            " 12  om        1079619 non-null  float64\n",
            " 13  w         1079619 non-null  float64\n",
            " 14  ma        1079618 non-null  float64\n",
            " 15  ad        1079617 non-null  float64\n",
            " 16  n         1079619 non-null  float64\n",
            " 17  tp        1079619 non-null  float64\n",
            " 18  per       1079617 non-null  float64\n",
            " 19  moid      1069004 non-null  float64\n",
            " 20  class     1079619 non-null  object \n",
            "dtypes: float64(16), object(5)\n",
            "memory usage: 173.0+ MB\n"
          ],
          "name": "stdout"
        }
      ]
    },
    {
      "cell_type": "markdown",
      "metadata": {
        "id": "0XKhS9xNgX8l"
      },
      "source": [
        "- 이름: 개체 IAU 이름\n",
        "- NEO: NEO(Near-Earth Object) 플래그\n",
        "- PHA: 잠재적으로 위험한 소행성(PHA) 플래그\n",
        "- H: 절대 진도 매개변수\n",
        "- diameter: 물체 직경(등가 구에서) km 단위\n",
        "- albedo : 기하학적 알베도\n",
        "- rot_per : 회전 주기\n",
        "- spec_B : 스펙트럼\n",
        "- e: 편심\n",
        "- a: 반주축 au 단위\n",
        "- q: 주변 거리 au 단위\n",
        "- i: 경사, x-y 촉각 평면에 대한 각도\n",
        "- tp: 영구 통로 TDB 단위 시간\n",
        "- moid: 지구 최소 궤도 교차로 거리 au 단위\n",
        "- class : 소행성 궤도 등급"
      ]
    },
    {
      "cell_type": "markdown",
      "metadata": {
        "id": "3r1O_Clqgbkr"
      },
      "source": [
        "- name: Object IAU name\n",
        "- NEO: Near-Earth Object (NEO) flag\n",
        "- PHA: Potentially Hazardous Asteroid (PHA) flag\n",
        "- H: Absolute magnitude parameter\n",
        "- Diameter: object diameter (from equivalent sphere) km Unit\n",
        "- Albedo: Geometric albedo\n",
        "- rot_per : rotation period\n",
        "- spec_B : spectrum\n",
        "- e: Eccentricity\n",
        "- a: Semi-major axis au Unit\n",
        "- q: perihelion distance au Unit\n",
        "- i: inclination; angle with respect to x-y ecliptic plane\n",
        "- tp: Time of perihelion passage TDB Unit\n",
        "- moid: Earth Minimum Orbit Intersection Distance au Unit\n",
        "- class : asteroid orbit class"
      ]
    },
    {
      "cell_type": "code",
      "metadata": {
        "id": "vXJGxFdNxdlZ",
        "colab": {
          "base_uri": "https://localhost:8080/"
        },
        "outputId": "f991feb1-cb3c-47ed-ea57-6949b02cccd6"
      },
      "source": [
        "datas.shape"
      ],
      "execution_count": 19,
      "outputs": [
        {
          "output_type": "execute_result",
          "data": {
            "text/plain": [
              "(1079619, 21)"
            ]
          },
          "metadata": {
            "tags": []
          },
          "execution_count": 19
        }
      ]
    },
    {
      "cell_type": "code",
      "metadata": {
        "colab": {
          "base_uri": "https://localhost:8080/",
          "height": 908
        },
        "id": "LtjcHRGdgihe",
        "outputId": "0ec7ac45-a88e-4be6-cc52-31c473674214"
      },
      "source": [
        "datas[['H', 'moid', 'albedo', 'diameter', 'pha']].boxplot(by='pha', figsize=(20,10))\n",
        "\n",
        "#H값이 pha=Y일 경우 조금 더 작은 분포를 가짐"
      ],
      "execution_count": null,
      "outputs": [
        {
          "output_type": "stream",
          "text": [
            "/usr/local/lib/python3.7/dist-packages/numpy/core/_asarray.py:83: VisibleDeprecationWarning: Creating an ndarray from ragged nested sequences (which is a list-or-tuple of lists-or-tuples-or ndarrays with different lengths or shapes) is deprecated. If you meant to do this, you must specify 'dtype=object' when creating the ndarray\n",
            "  return array(a, dtype, copy=False, order=order)\n",
            "/usr/local/lib/python3.7/dist-packages/numpy/core/_asarray.py:83: VisibleDeprecationWarning: Creating an ndarray from ragged nested sequences (which is a list-or-tuple of lists-or-tuples-or ndarrays with different lengths or shapes) is deprecated. If you meant to do this, you must specify 'dtype=object' when creating the ndarray\n",
            "  return array(a, dtype, copy=False, order=order)\n",
            "/usr/local/lib/python3.7/dist-packages/numpy/core/_asarray.py:83: VisibleDeprecationWarning: Creating an ndarray from ragged nested sequences (which is a list-or-tuple of lists-or-tuples-or ndarrays with different lengths or shapes) is deprecated. If you meant to do this, you must specify 'dtype=object' when creating the ndarray\n",
            "  return array(a, dtype, copy=False, order=order)\n",
            "/usr/local/lib/python3.7/dist-packages/numpy/core/_asarray.py:83: VisibleDeprecationWarning: Creating an ndarray from ragged nested sequences (which is a list-or-tuple of lists-or-tuples-or ndarrays with different lengths or shapes) is deprecated. If you meant to do this, you must specify 'dtype=object' when creating the ndarray\n",
            "  return array(a, dtype, copy=False, order=order)\n"
          ],
          "name": "stderr"
        },
        {
          "output_type": "execute_result",
          "data": {
            "text/plain": [
              "array([[<matplotlib.axes._subplots.AxesSubplot object at 0x7fdec53c0a10>,\n",
              "        <matplotlib.axes._subplots.AxesSubplot object at 0x7fdec543cc10>],\n",
              "       [<matplotlib.axes._subplots.AxesSubplot object at 0x7fdec53c0650>,\n",
              "        <matplotlib.axes._subplots.AxesSubplot object at 0x7fdec536a350>]],\n",
              "      dtype=object)"
            ]
          },
          "metadata": {
            "tags": []
          },
          "execution_count": 23
        },
        {
          "output_type": "display_data",
          "data": {
            "image/png": "[encoded data removed]",
            "text/plain": [
              "<Figure size 1440x720 with 4 Axes>"
            ]
          },
          "metadata": {
            "tags": [],
            "needs_background": "light"
          }
        }
      ]
    },
    {
      "cell_type": "code",
      "metadata": {
        "colab": {
          "base_uri": "https://localhost:8080/",
          "height": 873
        },
        "id": "-jWEwkIEgimH",
        "outputId": "ad89f201-1ab3-4b49-f008-ed16c7657f70"
      },
      "source": [
        "datas[['om', 'w', 'ma', 'pha']].boxplot(by='pha', figsize=(20,10))\n",
        "\n",
        "# om w ma는 비슷함"
      ],
      "execution_count": null,
      "outputs": [
        {
          "output_type": "stream",
          "text": [
            "/usr/local/lib/python3.7/dist-packages/numpy/core/_asarray.py:83: VisibleDeprecationWarning: Creating an ndarray from ragged nested sequences (which is a list-or-tuple of lists-or-tuples-or ndarrays with different lengths or shapes) is deprecated. If you meant to do this, you must specify 'dtype=object' when creating the ndarray\n",
            "  return array(a, dtype, copy=False, order=order)\n",
            "/usr/local/lib/python3.7/dist-packages/numpy/core/_asarray.py:83: VisibleDeprecationWarning: Creating an ndarray from ragged nested sequences (which is a list-or-tuple of lists-or-tuples-or ndarrays with different lengths or shapes) is deprecated. If you meant to do this, you must specify 'dtype=object' when creating the ndarray\n",
            "  return array(a, dtype, copy=False, order=order)\n",
            "/usr/local/lib/python3.7/dist-packages/numpy/core/_asarray.py:83: VisibleDeprecationWarning: Creating an ndarray from ragged nested sequences (which is a list-or-tuple of lists-or-tuples-or ndarrays with different lengths or shapes) is deprecated. If you meant to do this, you must specify 'dtype=object' when creating the ndarray\n",
            "  return array(a, dtype, copy=False, order=order)\n"
          ],
          "name": "stderr"
        },
        {
          "output_type": "execute_result",
          "data": {
            "text/plain": [
              "array([[<matplotlib.axes._subplots.AxesSubplot object at 0x7fdec5079e50>,\n",
              "        <matplotlib.axes._subplots.AxesSubplot object at 0x7fdec5122a10>],\n",
              "       [<matplotlib.axes._subplots.AxesSubplot object at 0x7fdec5079ed0>,\n",
              "        <matplotlib.axes._subplots.AxesSubplot object at 0x7fdec501de10>]],\n",
              "      dtype=object)"
            ]
          },
          "metadata": {
            "tags": []
          },
          "execution_count": 25
        },
        {
          "output_type": "display_data",
          "data": {
            "image/png": "[encoded data removed]",
            "text/plain": [
              "<Figure size 1440x720 with 4 Axes>"
            ]
          },
          "metadata": {
            "tags": [],
            "needs_background": "light"
          }
        }
      ]
    },
    {
      "cell_type": "code",
      "metadata": {
        "colab": {
          "base_uri": "https://localhost:8080/",
          "height": 434
        },
        "id": "Hrm_wMYcgl7t",
        "outputId": "3da02e22-d4cf-4373-e985-716dfa24a425"
      },
      "source": [
        "\n",
        "datas[[ 'moid', 'pha']].boxplot(by='pha', figsize=(8,5))\n",
        "\n",
        "# moid 역시 Y일 경우 더 작은 분포"
      ],
      "execution_count": null,
      "outputs": [
        {
          "output_type": "stream",
          "text": [
            "/usr/local/lib/python3.7/dist-packages/numpy/core/_asarray.py:83: VisibleDeprecationWarning: Creating an ndarray from ragged nested sequences (which is a list-or-tuple of lists-or-tuples-or ndarrays with different lengths or shapes) is deprecated. If you meant to do this, you must specify 'dtype=object' when creating the ndarray\n",
            "  return array(a, dtype, copy=False, order=order)\n"
          ],
          "name": "stderr"
        },
        {
          "output_type": "execute_result",
          "data": {
            "text/plain": [
              "<matplotlib.axes._subplots.AxesSubplot at 0x7fdec516ac90>"
            ]
          },
          "metadata": {
            "tags": []
          },
          "execution_count": 24
        },
        {
          "output_type": "display_data",
          "data": {
            "image/png": "[encoded data removed]",
            "text/plain": [
              "<Figure size 576x360 with 1 Axes>"
            ]
          },
          "metadata": {
            "tags": [],
            "needs_background": "light"
          }
        }
      ]
    },
    {
      "cell_type": "code",
      "metadata": {
        "colab": {
          "base_uri": "https://localhost:8080/",
          "height": 434
        },
        "id": "TSFP8L-DgprZ",
        "outputId": "711193d0-000b-4be8-da99-238baa5be03c"
      },
      "source": [
        "datas[['e', 'pha']].boxplot(by='pha', figsize=(8,5))\n",
        "\n",
        "# e는 "
      ],
      "execution_count": null,
      "outputs": [
        {
          "output_type": "stream",
          "text": [
            "/usr/local/lib/python3.7/dist-packages/numpy/core/_asarray.py:83: VisibleDeprecationWarning: Creating an ndarray from ragged nested sequences (which is a list-or-tuple of lists-or-tuples-or ndarrays with different lengths or shapes) is deprecated. If you meant to do this, you must specify 'dtype=object' when creating the ndarray\n",
            "  return array(a, dtype, copy=False, order=order)\n"
          ],
          "name": "stderr"
        },
        {
          "output_type": "execute_result",
          "data": {
            "text/plain": [
              "<matplotlib.axes._subplots.AxesSubplot at 0x7fdec4e54cd0>"
            ]
          },
          "metadata": {
            "tags": []
          },
          "execution_count": 26
        },
        {
          "output_type": "display_data",
          "data": {
            "image/png": "[encoded data removed]",
            "text/plain": [
              "<Figure size 576x360 with 1 Axes>"
            ]
          },
          "metadata": {
            "tags": [],
            "needs_background": "light"
          }
        }
      ]
    },
    {
      "cell_type": "code",
      "metadata": {
        "id": "cDkbjfntxds_",
        "colab": {
          "base_uri": "https://localhost:8080/"
        },
        "outputId": "f1d5f6e6-7795-421d-c14c-d820bdcbd97b"
      },
      "source": [
        "\n",
        "\n",
        "print(datas.pha.value_counts())\n",
        "# pha빈도수\n",
        "\n",
        "print(datas[datas.neo=='Y'].pha.value_counts())\n",
        "# neo = 'y' 조건 적용 후 빈도수\n",
        "\n",
        "# neo = 'y' 적용 후 pha='Y' 데이터는 살리고 N 데이터는 축소"
      ],
      "execution_count": 34,
      "outputs": [
        {
          "output_type": "stream",
          "text": [
            "N    1066841\n",
            "Y       2163\n",
            "Name: pha, dtype: int64\n",
            "N    23564\n",
            "Y     2163\n",
            "Name: pha, dtype: int64\n"
          ],
          "name": "stdout"
        }
      ]
    },
    {
      "cell_type": "code",
      "metadata": {
        "colab": {
          "base_uri": "https://localhost:8080/"
        },
        "id": "2MqPuMbpGD7t",
        "outputId": "590fd094-13b5-44d5-955b-67b46f302642"
      },
      "source": [
        "datas.isnull().sum()"
      ],
      "execution_count": 36,
      "outputs": [
        {
          "output_type": "execute_result",
          "data": {
            "text/plain": [
              "name        1057436\n",
              "neo               2\n",
              "pha           10615\n",
              "H              3986\n",
              "diameter     939620\n",
              "albedo       940771\n",
              "rot_per     1047042\n",
              "spec_B      1077953\n",
              "e                 0\n",
              "a                 0\n",
              "q                 0\n",
              "i                 0\n",
              "om                0\n",
              "w                 0\n",
              "ma                1\n",
              "ad                2\n",
              "n                 0\n",
              "tp                0\n",
              "per               2\n",
              "moid          10615\n",
              "class             0\n",
              "dtype: int64"
            ]
          },
          "metadata": {
            "tags": []
          },
          "execution_count": 36
        }
      ]
    },
    {
      "cell_type": "code",
      "metadata": {
        "colab": {
          "base_uri": "https://localhost:8080/"
        },
        "id": "xYuSKX2mGImV",
        "outputId": "ee8405d0-f934-487c-e177-e9d8425c0f50"
      },
      "source": [
        "datas[datas.neo=='Y'].isnull().sum()"
      ],
      "execution_count": 62,
      "outputs": [
        {
          "output_type": "execute_result",
          "data": {
            "text/plain": [
              "name        25566\n",
              "neo             0\n",
              "pha             1\n",
              "H               7\n",
              "diameter    24477\n",
              "albedo      24522\n",
              "rot_per     23910\n",
              "spec_B      25415\n",
              "e               0\n",
              "a               0\n",
              "q               0\n",
              "i               0\n",
              "om              0\n",
              "w               0\n",
              "ma              0\n",
              "ad              0\n",
              "n               0\n",
              "tp              0\n",
              "per             0\n",
              "moid            1\n",
              "class           0\n",
              "dtype: int64"
            ]
          },
          "metadata": {
            "tags": []
          },
          "execution_count": 62
        }
      ]
    },
    {
      "cell_type": "code",
      "metadata": {
        "id": "tIp1nQ3wxd0h",
        "colab": {
          "base_uri": "https://localhost:8080/"
        },
        "outputId": "1175d9cf-3809-4aa1-a38a-9b96dabaf5b2"
      },
      "source": [
        "phas = datas[datas.neo=='Y']\n",
        "# neo = 'Y'로 사전 조건을 적용하여 데이터 셋을 축소\n",
        "print(phas.shape)\n",
        "\n",
        "phas = phas.dropna(subset=['pha'])\n",
        "phas = phas.dropna(subset=['H'])\n",
        "phas = phas.dropna(subset=['moid'])\n",
        "print(phas.shape)\n",
        "# 결측치가 있는 row 버리기\n",
        "\n",
        "\n",
        "X = phas.drop('pha', axis=1)\n",
        "# 타겟값으로 쓸 pha 특성 버리기\n",
        "\n",
        "y = phas['pha']\n",
        "# 타겟값\n",
        "\n",
        "X = X.drop(['name', 'diameter', 'albedo', 'rot_per', 'spec_B', 'neo'], axis=1)\n",
        "# 데이터가 거의 결측치인 5가지 특성 버림"
      ],
      "execution_count": 63,
      "outputs": [
        {
          "output_type": "stream",
          "text": [
            "(25728, 21)\n",
            "(25720, 21)\n"
          ],
          "name": "stdout"
        }
      ]
    },
    {
      "cell_type": "code",
      "metadata": {
        "id": "Pw-VK44zxd3W",
        "colab": {
          "base_uri": "https://localhost:8080/"
        },
        "outputId": "dc6de7dd-23fd-41d9-c39c-1433ed63d7e2"
      },
      "source": [
        "columns = X.columns\n",
        "columns\n",
        "\n",
        "# 남은 특성들"
      ],
      "execution_count": 64,
      "outputs": [
        {
          "output_type": "execute_result",
          "data": {
            "text/plain": [
              "Index(['H', 'e', 'a', 'q', 'i', 'om', 'w', 'ma', 'ad', 'n', 'tp', 'per',\n",
              "       'moid', 'class'],\n",
              "      dtype='object')"
            ]
          },
          "metadata": {
            "tags": []
          },
          "execution_count": 64
        }
      ]
    },
    {
      "cell_type": "code",
      "metadata": {
        "colab": {
          "base_uri": "https://localhost:8080/"
        },
        "id": "rA3lDOKaGhBC",
        "outputId": "4daee810-dfbf-4da7-af9e-c3aa564143e8"
      },
      "source": [
        "X.shape\n",
        "\n",
        "# 거의 결측치인 특성 7개와 소수의 결측치만 있는 것들 행 지우기"
      ],
      "execution_count": 65,
      "outputs": [
        {
          "output_type": "execute_result",
          "data": {
            "text/plain": [
              "(25720, 14)"
            ]
          },
          "metadata": {
            "tags": []
          },
          "execution_count": 65
        }
      ]
    },
    {
      "cell_type": "code",
      "metadata": {
        "id": "7F0lBiJs5x-X"
      },
      "source": [
        "ct = make_column_transformer((OneHotEncoder(), ['class']),   #클래스는 OHE로  처리\n",
        "                            (StandardScaler(), ['H', 'e', 'a', 'q', 'i', 'om', 'w', 'ma','ad', 'n', 'tp', 'per', 'moid']))  # 연속형 변수들은 스탠다드 스케일러로 처리\n",
        "\n",
        "X_train, X_test, y_train, y_test = train_test_split(X,y,random_state=0)\n",
        "#훈련 데이터와 테스트 데이터로 나눔\n",
        "\n",
        "X_train_trans = ct.fit_transform(X_train)\n",
        "X_test_trans = ct.transform(X_test)\n",
        "# 데이터 전처리 / ohe + scaling\n"
      ],
      "execution_count": 131,
      "outputs": []
    },
    {
      "cell_type": "code",
      "metadata": {
        "colab": {
          "base_uri": "https://localhost:8080/"
        },
        "id": "F1EItZGl5yGR",
        "outputId": "3f7744a3-2a27-476a-f4a7-e85a0853d751"
      },
      "source": [
        "print(X_train.shape)\n",
        "print(X_test.shape)\n",
        "\n",
        "print(X_train_trans.shape)\n",
        "print(X_test_trans.shape)\n",
        "\n",
        "# 클래스 특성 1개에서 4개로 늘어나 특성이 3개 더 생김"
      ],
      "execution_count": null,
      "outputs": [
        {
          "output_type": "stream",
          "text": [
            "(19295, 14)\n",
            "(6432, 14)\n",
            "(19295, 17)\n",
            "(6432, 17)\n"
          ],
          "name": "stdout"
        }
      ]
    },
    {
      "cell_type": "code",
      "metadata": {
        "colab": {
          "base_uri": "https://localhost:8080/"
        },
        "id": "14Kn3jv45yL_",
        "outputId": "0d5e39c6-69b5-45bd-d7c2-e2a9ef84fff5"
      },
      "source": [
        "print(y_train.value_counts())\n",
        "print(y_test.value_counts())\n",
        "\n",
        "# 10 : 1 정도의 분포"
      ],
      "execution_count": null,
      "outputs": [
        {
          "output_type": "stream",
          "text": [
            "N    17644\n",
            "Y     1651\n",
            "Name: pha, dtype: int64\n",
            "N    5920\n",
            "Y     512\n",
            "Name: pha, dtype: int64\n"
          ],
          "name": "stdout"
        }
      ]
    },
    {
      "cell_type": "code",
      "metadata": {
        "colab": {
          "base_uri": "https://localhost:8080/"
        },
        "id": "GW14d39n56N4",
        "outputId": "88f77e5d-8062-4e78-8665-0ab0569aea8d"
      },
      "source": [
        "# svc 기본값으로 테스트\n",
        "\n",
        "svm = SVC().fit(X_train_trans, y_train)\n",
        "print(svm.score(X_test_trans, y_test))\n",
        "\n",
        "# OHE + StandardScaler"
      ],
      "execution_count": null,
      "outputs": [
        {
          "output_type": "stream",
          "text": [
            "0.9763681592039801\n"
          ],
          "name": "stdout"
        }
      ]
    },
    {
      "cell_type": "code",
      "metadata": {
        "colab": {
          "base_uri": "https://localhost:8080/"
        },
        "id": "Jz91Flor56Rk",
        "outputId": "a521f1b5-f67e-4c64-bcac-dd34a9c0c7a9"
      },
      "source": [
        "confusion_matrix(y_test, svm.predict(X_test_trans))\n",
        "\n",
        "# 정확도는 높지만 데이터가 불균형하여 실제로는 pha=y에 대한 구분이 제대로 이루어지지 않음"
      ],
      "execution_count": null,
      "outputs": [
        {
          "output_type": "execute_result",
          "data": {
            "text/plain": [
              "array([[5874,   46],\n",
              "       [ 106,  406]])"
            ]
          },
          "metadata": {
            "tags": []
          },
          "execution_count": 23
        }
      ]
    },
    {
      "cell_type": "code",
      "metadata": {
        "colab": {
          "base_uri": "https://localhost:8080/"
        },
        "id": "jb7oJlZU56T2",
        "outputId": "f869b04b-479b-47de-8283-c05828a3ecec"
      },
      "source": [
        "print(classification_report(y_test, svm.predict(X_test_trans)))"
      ],
      "execution_count": null,
      "outputs": [
        {
          "output_type": "stream",
          "text": [
            "              precision    recall  f1-score   support\n",
            "\n",
            "           N       0.98      0.99      0.99      5920\n",
            "           Y       0.90      0.79      0.84       512\n",
            "\n",
            "    accuracy                           0.98      6432\n",
            "   macro avg       0.94      0.89      0.91      6432\n",
            "weighted avg       0.98      0.98      0.98      6432\n",
            "\n"
          ],
          "name": "stdout"
        }
      ]
    },
    {
      "cell_type": "code",
      "metadata": {
        "colab": {
          "base_uri": "https://localhost:8080/"
        },
        "id": "CGns_UCyJYIK",
        "outputId": "baa85540-fd16-4d33-c4b2-7d2045880d5f"
      },
      "source": [
        "ct_ori = make_column_transformer((OneHotEncoder(), ['class']),\n",
        "                            remainder='passthrough')   #클래스는 OHE로  처리\n",
        "X_train_ori = ct_ori.fit_transform(X_train)\n",
        "X_test_ori = ct_ori.transform(X_test)\n",
        "\n",
        "\n",
        "svm_ori = SVC().fit(X_train_ori, y_train)\n",
        "print(svm_ori.score(X_test_ori, y_test))\n",
        "\n",
        "# OHE\n",
        "# 스케일링 X\n",
        "# 스케일링에 영향을 받는 모델이라서 점수가 조금 떨어짐\n"
      ],
      "execution_count": 130,
      "outputs": [
        {
          "output_type": "stream",
          "text": [
            "0.91850699844479\n"
          ],
          "name": "stdout"
        }
      ]
    },
    {
      "cell_type": "code",
      "metadata": {
        "colab": {
          "base_uri": "https://localhost:8080/"
        },
        "id": "ZJgYyZOMJZeP",
        "outputId": "797659bb-5e78-4ffa-84ca-494b22e2f422"
      },
      "source": [
        "print(confusion_matrix(y_test, svm_ori.predict(X_test_ori)))\n",
        "print(classification_report(y_test, svm_ori.predict(X_test_ori)))"
      ],
      "execution_count": 91,
      "outputs": [
        {
          "output_type": "stream",
          "text": [
            "[[5906    0]\n",
            " [ 524    0]]\n",
            "              precision    recall  f1-score   support\n",
            "\n",
            "           N       0.92      1.00      0.96      5906\n",
            "           Y       0.00      0.00      0.00       524\n",
            "\n",
            "    accuracy                           0.92      6430\n",
            "   macro avg       0.46      0.50      0.48      6430\n",
            "weighted avg       0.84      0.92      0.88      6430\n",
            "\n"
          ],
          "name": "stdout"
        },
        {
          "output_type": "stream",
          "text": [
            "/usr/local/lib/python3.7/dist-packages/sklearn/metrics/_classification.py:1272: UndefinedMetricWarning: Precision and F-score are ill-defined and being set to 0.0 in labels with no predicted samples. Use `zero_division` parameter to control this behavior.\n",
            "  _warn_prf(average, modifier, msg_start, len(result))\n"
          ],
          "name": "stderr"
        }
      ]
    },
    {
      "cell_type": "code",
      "metadata": {
        "colab": {
          "base_uri": "https://localhost:8080/"
        },
        "id": "FmlnLzXN56We",
        "outputId": "6686b6ed-bfbe-435e-8c10-c15078aab4ec"
      },
      "source": [
        "smote = SMOTE(random_state=0, sampling_strategy=0.3)\n",
        "X_train_smote, y_train_smote = smote.fit_resample(X_train_ori, y_train)\n",
        "\n",
        "# smote 오버샘플링\n",
        "# sampling_strategy = 비율\n",
        "# 무작위성 제어를 위하여 RandomState 설정\n",
        "\n",
        "\n",
        "\n",
        "print(X_train_smote.shape)\n",
        "\n",
        "print(y_train.value_counts())\n",
        "print(pd.DataFrame(y_train_smote).value_counts())\n",
        "\n",
        "# 설정한 비율에 맞춰서 1639 -> 5295로 오버 샘플링 됐음"
      ],
      "execution_count": 86,
      "outputs": [
        {
          "output_type": "stream",
          "text": [
            "(22946, 17)\n",
            "N    17651\n",
            "Y     1639\n",
            "Name: pha, dtype: int64\n",
            "N    17651\n",
            "Y     5295\n",
            "dtype: int64\n"
          ],
          "name": "stdout"
        },
        {
          "output_type": "stream",
          "text": [
            "/usr/local/lib/python3.7/dist-packages/sklearn/utils/deprecation.py:87: FutureWarning: Function safe_indexing is deprecated; safe_indexing is deprecated in version 0.22 and will be removed in version 0.24.\n",
            "  warnings.warn(msg, category=FutureWarning)\n"
          ],
          "name": "stderr"
        }
      ]
    },
    {
      "cell_type": "code",
      "metadata": {
        "colab": {
          "base_uri": "https://localhost:8080/"
        },
        "id": "uugMi_be56Y-",
        "outputId": "3afa50d4-266d-48ed-8dd2-ab7ee23e1f93"
      },
      "source": [
        "svm_smote = SVC().fit(X_train_smote, y_train_smote)\n",
        "print(svm_smote.score(X_test_ori, y_test))"
      ],
      "execution_count": 89,
      "outputs": [
        {
          "output_type": "stream",
          "text": [
            "0.91850699844479\n"
          ],
          "name": "stdout"
        }
      ]
    },
    {
      "cell_type": "code",
      "metadata": {
        "colab": {
          "base_uri": "https://localhost:8080/"
        },
        "id": "3aC1lKNc6U-A",
        "outputId": "82d6315c-3778-458d-a554-4f5042927807"
      },
      "source": [
        "confusion_matrix(y_test, svm_smote.predict(X_test_ori))\n"
      ],
      "execution_count": 90,
      "outputs": [
        {
          "output_type": "execute_result",
          "data": {
            "text/plain": [
              "array([[5906,    0],\n",
              "       [ 524,    0]])"
            ]
          },
          "metadata": {
            "tags": []
          },
          "execution_count": 90
        }
      ]
    },
    {
      "cell_type": "code",
      "metadata": {
        "colab": {
          "base_uri": "https://localhost:8080/"
        },
        "id": "Wya6KOSV6VPU",
        "outputId": "3c1f0e96-359b-4c0e-c97f-12e51f34ce1d"
      },
      "source": [
        "scaler = StandardScaler()\n",
        "\n",
        "X_train_smote_trans = scaler.fit_transform(X_train_smote)\n",
        "X\n",
        "svm_smote_trans = SVC().fit(X_train_smote_trans, y_train_smote)\n",
        "print(svm_smote.score(X_test_trans, y_test))\n",
        "confusion_matrix(y_test, svm_smote_trans.predict(X_test_trans))\n"
      ],
      "execution_count": 94,
      "outputs": [
        {
          "output_type": "stream",
          "text": [
            "0.91850699844479\n"
          ],
          "name": "stdout"
        },
        {
          "output_type": "execute_result",
          "data": {
            "text/plain": [
              "array([[5433,  473],\n",
              "       [   4,  520]])"
            ]
          },
          "metadata": {
            "tags": []
          },
          "execution_count": 94
        }
      ]
    },
    {
      "cell_type": "markdown",
      "metadata": {
        "id": "izgXfgVXJB7C"
      },
      "source": [
        "준비한 훈련/테스트 데이터 셋\n",
        "\n",
        "- X_trans -> OHE + StandardScaling\n",
        "- X_ori - > OHE\n",
        "- X_smote -> X_ori + smote\n",
        "- X_smote_trans -> X_trans + smote"
      ]
    },
    {
      "cell_type": "code",
      "metadata": {
        "id": "k4D6_7u96joH",
        "colab": {
          "base_uri": "https://localhost:8080/"
        },
        "outputId": "a5d50f8e-93e0-47c5-c35c-685184467012"
      },
      "source": [
        "# 매개변수 그리드 적용\n",
        "# C와 gamma값으로 실행\n",
        "\n",
        "pipe = make_pipeline(\n",
        "    StandardScaler(),\n",
        "    SVC()\n",
        ")\n",
        "\n",
        "pipe.steps"
      ],
      "execution_count": 80,
      "outputs": [
        {
          "output_type": "execute_result",
          "data": {
            "text/plain": [
              "[('standardscaler', StandardScaler(copy=True, with_mean=True, with_std=True)),\n",
              " ('svc',\n",
              "  SVC(C=1.0, break_ties=False, cache_size=200, class_weight=None, coef0=0.0,\n",
              "      decision_function_shape='ovr', degree=3, gamma='scale', kernel='rbf',\n",
              "      max_iter=-1, probability=False, random_state=None, shrinking=True,\n",
              "      tol=0.001, verbose=False))]"
            ]
          },
          "metadata": {
            "tags": []
          },
          "execution_count": 80
        }
      ]
    },
    {
      "cell_type": "code",
      "metadata": {
        "id": "oc2Qw5BQSkyy"
      },
      "source": [
        "\n",
        "param_grid = { \n",
        "              'svc__C' : [0.001, 0.01, 0.1, 1, 10,100],\n",
        "             'svc__gamma': [ 0.001, 0.01, 0.1, 1, 10,100],\n",
        "             }\n",
        "\n",
        "grid_search = GridSearchCV(pipe, param_grid, cv=5)"
      ],
      "execution_count": 102,
      "outputs": []
    },
    {
      "cell_type": "code",
      "metadata": {
        "id": "CPPZwWrPSybD",
        "colab": {
          "base_uri": "https://localhost:8080/"
        },
        "outputId": "a24de74f-6670-4bb4-fcfb-84de71060beb"
      },
      "source": [
        "grid_search.fit(X_train_ori, y_train)"
      ],
      "execution_count": 103,
      "outputs": [
        {
          "output_type": "execute_result",
          "data": {
            "text/plain": [
              "GridSearchCV(cv=5, error_score=nan,\n",
              "             estimator=Pipeline(memory=None,\n",
              "                                steps=[('standardscaler',\n",
              "                                        StandardScaler(copy=True,\n",
              "                                                       with_mean=True,\n",
              "                                                       with_std=True)),\n",
              "                                       ('svc',\n",
              "                                        SVC(C=1.0, break_ties=False,\n",
              "                                            cache_size=200, class_weight=None,\n",
              "                                            coef0=0.0,\n",
              "                                            decision_function_shape='ovr',\n",
              "                                            degree=3, gamma='scale',\n",
              "                                            kernel='rbf', max_iter=-1,\n",
              "                                            probability=False,\n",
              "                                            random_state=None, shrinking=True,\n",
              "                                            tol=0.001, verbose=False))],\n",
              "                                verbose=False),\n",
              "             iid='deprecated', n_jobs=None,\n",
              "             param_grid={'svc__C': [0.001, 0.01, 0.1, 1, 10, 100],\n",
              "                         'svc__gamma': [0.001, 0.01, 0.1, 1, 10, 100]},\n",
              "             pre_dispatch='2*n_jobs', refit=True, return_train_score=False,\n",
              "             scoring=None, verbose=0)"
            ]
          },
          "metadata": {
            "tags": []
          },
          "execution_count": 103
        }
      ]
    },
    {
      "cell_type": "code",
      "metadata": {
        "colab": {
          "base_uri": "https://localhost:8080/"
        },
        "id": "YRdkzJeo6jwK",
        "outputId": "ccb2ca79-9ee8-4779-c244-4bd5f286d85b"
      },
      "source": [
        "\n",
        "print(\"테스트 세트 점수 : \", grid_search.score(X_test_ori, y_test))\n",
        "print(\"최적 매개변수 \", grid_search.best_params_)\n",
        "print(\"최적 교차 검증 점수 \", grid_search.best_score_)\n",
        "print(\"최적 성능 모델 \", grid_search.best_estimator_)\n"
      ],
      "execution_count": 105,
      "outputs": [
        {
          "output_type": "stream",
          "text": [
            "테스트 세트 점수 :  0.9810264385692068\n",
            "최적 매개변수  {'svc__C': 100, 'svc__gamma': 0.1}\n",
            "최적 교차 검증 점수  0.9800933125972005\n",
            "최적 성능 모델  Pipeline(memory=None,\n",
            "         steps=[('standardscaler',\n",
            "                 StandardScaler(copy=True, with_mean=True, with_std=True)),\n",
            "                ('svc',\n",
            "                 SVC(C=100, break_ties=False, cache_size=200, class_weight=None,\n",
            "                     coef0=0.0, decision_function_shape='ovr', degree=3,\n",
            "                     gamma=0.1, kernel='rbf', max_iter=-1, probability=False,\n",
            "                     random_state=None, shrinking=True, tol=0.001,\n",
            "                     verbose=False))],\n",
            "         verbose=False)\n"
          ],
          "name": "stdout"
        }
      ]
    },
    {
      "cell_type": "code",
      "metadata": {
        "colab": {
          "base_uri": "https://localhost:8080/",
          "height": 562
        },
        "id": "o6i4m1Zl994g",
        "outputId": "ed0d3580-569e-4550-dda1-e8ef5aa2efb0"
      },
      "source": [
        "res = pd.DataFrame(grid_search.cv_results_)\n",
        "display(np.transpose(res.head()))"
      ],
      "execution_count": 106,
      "outputs": [
        {
          "output_type": "display_data",
          "data": {
            "text/html": [
              "<div>\n",
              "<style scoped>\n",
              "    .dataframe tbody tr th:only-of-type {\n",
              "        vertical-align: middle;\n",
              "    }\n",
              "\n",
              "    .dataframe tbody tr th {\n",
              "        vertical-align: top;\n",
              "    }\n",
              "\n",
              "    .dataframe thead th {\n",
              "        text-align: right;\n",
              "    }\n",
              "</style>\n",
              "<table border=\"1\" class=\"dataframe\">\n",
              "  <thead>\n",
              "    <tr style=\"text-align: right;\">\n",
              "      <th></th>\n",
              "      <th>0</th>\n",
              "      <th>1</th>\n",
              "      <th>2</th>\n",
              "      <th>3</th>\n",
              "      <th>4</th>\n",
              "    </tr>\n",
              "  </thead>\n",
              "  <tbody>\n",
              "    <tr>\n",
              "      <th>mean_fit_time</th>\n",
              "      <td>1.60103</td>\n",
              "      <td>1.61801</td>\n",
              "      <td>1.6321</td>\n",
              "      <td>1.61052</td>\n",
              "      <td>1.72388</td>\n",
              "    </tr>\n",
              "    <tr>\n",
              "      <th>std_fit_time</th>\n",
              "      <td>0.0247234</td>\n",
              "      <td>0.012457</td>\n",
              "      <td>0.0206104</td>\n",
              "      <td>0.0136663</td>\n",
              "      <td>0.0206652</td>\n",
              "    </tr>\n",
              "    <tr>\n",
              "      <th>mean_score_time</th>\n",
              "      <td>0.340633</td>\n",
              "      <td>0.340466</td>\n",
              "      <td>0.338843</td>\n",
              "      <td>0.35145</td>\n",
              "      <td>0.374603</td>\n",
              "    </tr>\n",
              "    <tr>\n",
              "      <th>std_score_time</th>\n",
              "      <td>0.00544848</td>\n",
              "      <td>0.00336013</td>\n",
              "      <td>0.00771784</td>\n",
              "      <td>0.00683853</td>\n",
              "      <td>0.00389515</td>\n",
              "    </tr>\n",
              "    <tr>\n",
              "      <th>param_svc__C</th>\n",
              "      <td>0.001</td>\n",
              "      <td>0.001</td>\n",
              "      <td>0.001</td>\n",
              "      <td>0.001</td>\n",
              "      <td>0.001</td>\n",
              "    </tr>\n",
              "    <tr>\n",
              "      <th>param_svc__gamma</th>\n",
              "      <td>0.001</td>\n",
              "      <td>0.01</td>\n",
              "      <td>0.1</td>\n",
              "      <td>1</td>\n",
              "      <td>10</td>\n",
              "    </tr>\n",
              "    <tr>\n",
              "      <th>params</th>\n",
              "      <td>{'svc__C': 0.001, 'svc__gamma': 0.001}</td>\n",
              "      <td>{'svc__C': 0.001, 'svc__gamma': 0.01}</td>\n",
              "      <td>{'svc__C': 0.001, 'svc__gamma': 0.1}</td>\n",
              "      <td>{'svc__C': 0.001, 'svc__gamma': 1}</td>\n",
              "      <td>{'svc__C': 0.001, 'svc__gamma': 10}</td>\n",
              "    </tr>\n",
              "    <tr>\n",
              "      <th>split0_test_score</th>\n",
              "      <td>0.915241</td>\n",
              "      <td>0.915241</td>\n",
              "      <td>0.915241</td>\n",
              "      <td>0.915241</td>\n",
              "      <td>0.915241</td>\n",
              "    </tr>\n",
              "    <tr>\n",
              "      <th>split1_test_score</th>\n",
              "      <td>0.914982</td>\n",
              "      <td>0.914982</td>\n",
              "      <td>0.914982</td>\n",
              "      <td>0.914982</td>\n",
              "      <td>0.914982</td>\n",
              "    </tr>\n",
              "    <tr>\n",
              "      <th>split2_test_score</th>\n",
              "      <td>0.914982</td>\n",
              "      <td>0.914982</td>\n",
              "      <td>0.914982</td>\n",
              "      <td>0.914982</td>\n",
              "      <td>0.914982</td>\n",
              "    </tr>\n",
              "    <tr>\n",
              "      <th>split3_test_score</th>\n",
              "      <td>0.914982</td>\n",
              "      <td>0.914982</td>\n",
              "      <td>0.914982</td>\n",
              "      <td>0.914982</td>\n",
              "      <td>0.914982</td>\n",
              "    </tr>\n",
              "    <tr>\n",
              "      <th>split4_test_score</th>\n",
              "      <td>0.914982</td>\n",
              "      <td>0.914982</td>\n",
              "      <td>0.914982</td>\n",
              "      <td>0.914982</td>\n",
              "      <td>0.914982</td>\n",
              "    </tr>\n",
              "    <tr>\n",
              "      <th>mean_test_score</th>\n",
              "      <td>0.915034</td>\n",
              "      <td>0.915034</td>\n",
              "      <td>0.915034</td>\n",
              "      <td>0.915034</td>\n",
              "      <td>0.915034</td>\n",
              "    </tr>\n",
              "    <tr>\n",
              "      <th>std_test_score</th>\n",
              "      <td>0.000103681</td>\n",
              "      <td>0.000103681</td>\n",
              "      <td>0.000103681</td>\n",
              "      <td>0.000103681</td>\n",
              "      <td>0.000103681</td>\n",
              "    </tr>\n",
              "    <tr>\n",
              "      <th>rank_test_score</th>\n",
              "      <td>18</td>\n",
              "      <td>18</td>\n",
              "      <td>18</td>\n",
              "      <td>18</td>\n",
              "      <td>18</td>\n",
              "    </tr>\n",
              "  </tbody>\n",
              "</table>\n",
              "</div>"
            ],
            "text/plain": [
              "                                                        0  ...                                    4\n",
              "mean_fit_time                                     1.60103  ...                              1.72388\n",
              "std_fit_time                                    0.0247234  ...                            0.0206652\n",
              "mean_score_time                                  0.340633  ...                             0.374603\n",
              "std_score_time                                 0.00544848  ...                           0.00389515\n",
              "param_svc__C                                        0.001  ...                                0.001\n",
              "param_svc__gamma                                    0.001  ...                                   10\n",
              "params             {'svc__C': 0.001, 'svc__gamma': 0.001}  ...  {'svc__C': 0.001, 'svc__gamma': 10}\n",
              "split0_test_score                                0.915241  ...                             0.915241\n",
              "split1_test_score                                0.914982  ...                             0.914982\n",
              "split2_test_score                                0.914982  ...                             0.914982\n",
              "split3_test_score                                0.914982  ...                             0.914982\n",
              "split4_test_score                                0.914982  ...                             0.914982\n",
              "mean_test_score                                  0.915034  ...                             0.915034\n",
              "std_test_score                                0.000103681  ...                          0.000103681\n",
              "rank_test_score                                        18  ...                                   18\n",
              "\n",
              "[15 rows x 5 columns]"
            ]
          },
          "metadata": {
            "tags": []
          }
        }
      ]
    },
    {
      "cell_type": "code",
      "metadata": {
        "colab": {
          "base_uri": "https://localhost:8080/"
        },
        "id": "ZyRU62laEjOW",
        "outputId": "3e564fc7-9b9c-4e27-d442-9d5f0a11145f"
      },
      "source": [
        "print(confusion_matrix(y_test, grid_search.predict(X_test_ori)))"
      ],
      "execution_count": 110,
      "outputs": [
        {
          "output_type": "stream",
          "text": [
            "[[5854   52]\n",
            " [  70  454]]\n"
          ],
          "name": "stdout"
        }
      ]
    },
    {
      "cell_type": "code",
      "metadata": {
        "colab": {
          "base_uri": "https://localhost:8080/"
        },
        "id": "ai7WYYL1Eng1",
        "outputId": "30efe108-4ac9-4d82-e7c4-1788e9199e09"
      },
      "source": [
        "print(classification_report(y_test, grid_search.predict(X_test_ori)))\n"
      ],
      "execution_count": 111,
      "outputs": [
        {
          "output_type": "stream",
          "text": [
            "              precision    recall  f1-score   support\n",
            "\n",
            "           N       0.99      0.99      0.99      5906\n",
            "           Y       0.90      0.87      0.88       524\n",
            "\n",
            "    accuracy                           0.98      6430\n",
            "   macro avg       0.94      0.93      0.94      6430\n",
            "weighted avg       0.98      0.98      0.98      6430\n",
            "\n"
          ],
          "name": "stdout"
        }
      ]
    },
    {
      "cell_type": "code",
      "metadata": {
        "colab": {
          "base_uri": "https://localhost:8080/"
        },
        "id": "TGGIk8OREu4X",
        "outputId": "511e29ac-ab35-455d-d58e-74e392cd9691"
      },
      "source": [
        "pipe = make_pipeline(\n",
        "    StandardScaler(),\n",
        "    SVC()\n",
        ")\n",
        "\n",
        "grid_search_f1 = GridSearchCV(pipe, param_grid, cv=5, scoring=f1_scorer)\n",
        "grid_search_f1.fit(X_train_ori, y_train)"
      ],
      "execution_count": 113,
      "outputs": [
        {
          "output_type": "execute_result",
          "data": {
            "text/plain": [
              "GridSearchCV(cv=5, error_score=nan,\n",
              "             estimator=Pipeline(memory=None,\n",
              "                                steps=[('standardscaler',\n",
              "                                        StandardScaler(copy=True,\n",
              "                                                       with_mean=True,\n",
              "                                                       with_std=True)),\n",
              "                                       ('svc',\n",
              "                                        SVC(C=1.0, break_ties=False,\n",
              "                                            cache_size=200, class_weight=None,\n",
              "                                            coef0=0.0,\n",
              "                                            decision_function_shape='ovr',\n",
              "                                            degree=3, gamma='scale',\n",
              "                                            kernel='rbf', max_iter=-1,\n",
              "                                            probability=False,\n",
              "                                            random_state=None, shrinking=True,\n",
              "                                            tol=0.001, verbose=False))],\n",
              "                                verbose=False),\n",
              "             iid='deprecated', n_jobs=None,\n",
              "             param_grid={'svc__C': [0.001, 0.01, 0.1, 1, 10, 100],\n",
              "                         'svc__gamma': [0.001, 0.01, 0.1, 1, 10, 100]},\n",
              "             pre_dispatch='2*n_jobs', refit=True, return_train_score=False,\n",
              "             scoring=make_scorer(f1_score, pos_label=Y), verbose=0)"
            ]
          },
          "metadata": {
            "tags": []
          },
          "execution_count": 113
        }
      ]
    },
    {
      "cell_type": "code",
      "metadata": {
        "colab": {
          "base_uri": "https://localhost:8080/"
        },
        "id": "xFj0uUdGE9_v",
        "outputId": "71e3639a-841e-470e-a440-14664ba8ff70"
      },
      "source": [
        "\n",
        "print(\"테스트 세트 점수 : \", grid_search_f1.score(X_test_ori, y_test))\n",
        "print(\"최적 매개변수 \", grid_search_f1.best_params_)\n",
        "print(\"최적 교차 검증 점수 \", grid_search_f1.best_score_)\n",
        "print(\"최적 성능 모델 \", grid_search_f1.best_estimator_)\n",
        "\n",
        "# scoring = 'accuracy' 와 같은 결과! \n",
        "# f1-score은 재현율과 정밀도를 모두 반영함\n",
        "\n",
        "\n",
        "# f1 점수"
      ],
      "execution_count": 115,
      "outputs": [
        {
          "output_type": "stream",
          "text": [
            "테스트 세트 점수 :  0.8815533980582525\n",
            "최적 매개변수  {'svc__C': 100, 'svc__gamma': 0.1}\n",
            "최적 교차 검증 점수  0.881566769580932\n",
            "최적 성능 모델  Pipeline(memory=None,\n",
            "         steps=[('standardscaler',\n",
            "                 StandardScaler(copy=True, with_mean=True, with_std=True)),\n",
            "                ('svc',\n",
            "                 SVC(C=100, break_ties=False, cache_size=200, class_weight=None,\n",
            "                     coef0=0.0, decision_function_shape='ovr', degree=3,\n",
            "                     gamma=0.1, kernel='rbf', max_iter=-1, probability=False,\n",
            "                     random_state=None, shrinking=True, tol=0.001,\n",
            "                     verbose=False))],\n",
            "         verbose=False)\n"
          ],
          "name": "stdout"
        }
      ]
    },
    {
      "cell_type": "code",
      "metadata": {
        "colab": {
          "base_uri": "https://localhost:8080/"
        },
        "id": "o-5LAksrindp",
        "outputId": "7c586a11-fee6-44ed-9cff-0f4a4967c970"
      },
      "source": [
        "print(confusion_matrix(y_test, grid_search_f1.predict(X_test_ori)))\n"
      ],
      "execution_count": 116,
      "outputs": [
        {
          "output_type": "stream",
          "text": [
            "[[5854   52]\n",
            " [  70  454]]\n"
          ],
          "name": "stdout"
        }
      ]
    },
    {
      "cell_type": "code",
      "metadata": {
        "id": "NDszmkDbE-FX",
        "colab": {
          "base_uri": "https://localhost:8080/"
        },
        "outputId": "d31218b7-b20c-4d24-d27e-9b77d61faa92"
      },
      "source": [
        "rf = RandomForestClassifier(random_state=0).fit(X_train_ori, y_train)\n",
        "rf.score(X_test_ori, y_test)"
      ],
      "execution_count": 121,
      "outputs": [
        {
          "output_type": "execute_result",
          "data": {
            "text/plain": [
              "0.9979782270606532"
            ]
          },
          "metadata": {
            "tags": []
          },
          "execution_count": 121
        }
      ]
    },
    {
      "cell_type": "code",
      "metadata": {
        "id": "IimSv3NaFFCU",
        "colab": {
          "base_uri": "https://localhost:8080/"
        },
        "outputId": "d31d8114-f196-491b-8792-e1220ef45071"
      },
      "source": [
        "print(confusion_matrix(y_test, rf.predict(X_test_ori)))\n"
      ],
      "execution_count": 122,
      "outputs": [
        {
          "output_type": "stream",
          "text": [
            "[[5900    6]\n",
            " [   7  517]]\n"
          ],
          "name": "stdout"
        }
      ]
    },
    {
      "cell_type": "code",
      "metadata": {
        "id": "moqWpja4FFHN",
        "colab": {
          "base_uri": "https://localhost:8080/"
        },
        "outputId": "c7a8e113-2633-410d-d7e3-e2fca155a124"
      },
      "source": [
        "\n",
        "print(classification_report(y_test, rf.predict(X_test_ori)))"
      ],
      "execution_count": 123,
      "outputs": [
        {
          "output_type": "stream",
          "text": [
            "              precision    recall  f1-score   support\n",
            "\n",
            "           N       1.00      1.00      1.00      5906\n",
            "           Y       0.99      0.99      0.99       524\n",
            "\n",
            "    accuracy                           1.00      6430\n",
            "   macro avg       0.99      0.99      0.99      6430\n",
            "weighted avg       1.00      1.00      1.00      6430\n",
            "\n"
          ],
          "name": "stdout"
        }
      ]
    },
    {
      "cell_type": "code",
      "metadata": {
        "id": "oNPGQoPXFHwy"
      },
      "source": [
        "# 중요도 함수\n",
        "def plot_feature_importances(model, X, fea):\n",
        "    n_features = X.shape[1]\n",
        "    plt.barh(range(n_features), model.feature_importances_, align='center')\n",
        "    plt.yticks(np.arange(n_features), fea)\n",
        "    plt.xlabel(\"특성 중요도\")\n",
        "    plt.ylabel(\"특성\")\n",
        "    plt.ylim(-1, n_features)\n",
        "    plt.xlim(0,1)\n",
        "    plt.grid()"
      ],
      "execution_count": 124,
      "outputs": []
    },
    {
      "cell_type": "code",
      "metadata": {
        "id": "ZFCEzoYAFIg2",
        "colab": {
          "base_uri": "https://localhost:8080/",
          "height": 686
        },
        "outputId": "9653a34e-c363-4066-b916-771eb634e49f"
      },
      "source": [
        "features = np.hstack([['class', 'class','class', 'class'],columns[:13]])\n",
        "print(features)\n",
        "\n",
        "plot_feature_importances(rf, X_train_ori, features)"
      ],
      "execution_count": 137,
      "outputs": [
        {
          "output_type": "stream",
          "text": [
            "['class' 'class' 'class' 'class' 'H' 'e' 'a' 'q' 'i' 'om' 'w' 'ma' 'ad'\n",
            " 'n' 'tp' 'per' 'moid']\n"
          ],
          "name": "stdout"
        },
        {
          "output_type": "stream",
          "text": [
            "/usr/local/lib/python3.7/dist-packages/matplotlib/backends/backend_agg.py:214: RuntimeWarning: Glyph 53945 missing from current font.\n",
            "  font.set_text(s, 0.0, flags=flags)\n",
            "/usr/local/lib/python3.7/dist-packages/matplotlib/backends/backend_agg.py:214: RuntimeWarning: Glyph 49457 missing from current font.\n",
            "  font.set_text(s, 0.0, flags=flags)\n",
            "/usr/local/lib/python3.7/dist-packages/matplotlib/backends/backend_agg.py:214: RuntimeWarning: Glyph 51473 missing from current font.\n",
            "  font.set_text(s, 0.0, flags=flags)\n",
            "/usr/local/lib/python3.7/dist-packages/matplotlib/backends/backend_agg.py:214: RuntimeWarning: Glyph 50836 missing from current font.\n",
            "  font.set_text(s, 0.0, flags=flags)\n",
            "/usr/local/lib/python3.7/dist-packages/matplotlib/backends/backend_agg.py:214: RuntimeWarning: Glyph 46020 missing from current font.\n",
            "  font.set_text(s, 0.0, flags=flags)\n",
            "/usr/local/lib/python3.7/dist-packages/matplotlib/backends/backend_agg.py:183: RuntimeWarning: Glyph 53945 missing from current font.\n",
            "  font.set_text(s, 0, flags=flags)\n",
            "/usr/local/lib/python3.7/dist-packages/matplotlib/backends/backend_agg.py:183: RuntimeWarning: Glyph 49457 missing from current font.\n",
            "  font.set_text(s, 0, flags=flags)\n",
            "/usr/local/lib/python3.7/dist-packages/matplotlib/backends/backend_agg.py:183: RuntimeWarning: Glyph 51473 missing from current font.\n",
            "  font.set_text(s, 0, flags=flags)\n",
            "/usr/local/lib/python3.7/dist-packages/matplotlib/backends/backend_agg.py:183: RuntimeWarning: Glyph 50836 missing from current font.\n",
            "  font.set_text(s, 0, flags=flags)\n",
            "/usr/local/lib/python3.7/dist-packages/matplotlib/backends/backend_agg.py:183: RuntimeWarning: Glyph 46020 missing from current font.\n",
            "  font.set_text(s, 0, flags=flags)\n"
          ],
          "name": "stderr"
        },
        {
          "output_type": "display_data",
          "data": {
            "image/png": "[encoded data removed]",
            "text/plain": [
              "<Figure size 432x288 with 1 Axes>"
            ]
          },
          "metadata": {
            "tags": [],
            "needs_background": "light"
          }
        }
      ]
    },
    {
      "cell_type": "code",
      "metadata": {
        "id": "-J6ITe0tFNIL",
        "colab": {
          "base_uri": "https://localhost:8080/",
          "height": 514
        },
        "outputId": "9012e8f3-752b-4235-f09f-c5aa4b566a8f"
      },
      "source": [
        "import mglearn\n",
        "plt.figure(figsize=(10,8))\n",
        "mglearn.discrete_scatter(X_train['H'], X_train['moid'], y_train)\n",
        "plt.xlabel(\"H\")\n",
        "plt.ylabel(\"moid\")\n",
        "plt.legend()"
      ],
      "execution_count": null,
      "outputs": [
        {
          "output_type": "execute_result",
          "data": {
            "text/plain": [
              "<matplotlib.legend.Legend at 0x7fc936813fd0>"
            ]
          },
          "metadata": {
            "tags": []
          },
          "execution_count": 29
        },
        {
          "output_type": "display_data",
          "data": {
            "image/png": "[encoded data removed]",
            "text/plain": [
              "<Figure size 720x576 with 1 Axes>"
            ]
          },
          "metadata": {
            "tags": [],
            "needs_background": "light"
          }
        }
      ]
    },
    {
      "cell_type": "code",
      "metadata": {
        "id": "doUGtCgTFNNE",
        "colab": {
          "base_uri": "https://localhost:8080/"
        },
        "outputId": "e4e9cb33-bf7a-4d40-e7f2-819ac84c8c24"
      },
      "source": [
        "X_test_ori[:10, :4]"
      ],
      "execution_count": null,
      "outputs": [
        {
          "output_type": "execute_result",
          "data": {
            "text/plain": [
              "array([[1., 0., 0., 0.],\n",
              "       [0., 1., 0., 0.],\n",
              "       [1., 0., 0., 0.],\n",
              "       [0., 1., 0., 0.],\n",
              "       [1., 0., 0., 0.],\n",
              "       [1., 0., 0., 0.],\n",
              "       [0., 1., 0., 0.],\n",
              "       [1., 0., 0., 0.],\n",
              "       [1., 0., 0., 0.],\n",
              "       [0., 1., 0., 0.]])"
            ]
          },
          "metadata": {
            "tags": []
          },
          "execution_count": 31
        }
      ]
    },
    {
      "cell_type": "code",
      "metadata": {
        "id": "4rUAlu5SFShy",
        "colab": {
          "base_uri": "https://localhost:8080/"
        },
        "outputId": "8f2dff76-b610-4867-a3c6-ec4bb329d4c7"
      },
      "source": [
        "from xgboost import XGBClassifier\n",
        "\n",
        "xg = XGBClassifier(random_state=0).fit(X_train_ori, y_train)\n",
        "xg.score(X_test_ori, y_test)"
      ],
      "execution_count": 138,
      "outputs": [
        {
          "output_type": "execute_result",
          "data": {
            "text/plain": [
              "0.9979782270606532"
            ]
          },
          "metadata": {
            "tags": []
          },
          "execution_count": 138
        }
      ]
    },
    {
      "cell_type": "code",
      "metadata": {
        "id": "HmKsShk4HBmv",
        "colab": {
          "base_uri": "https://localhost:8080/"
        },
        "outputId": "0555944b-541d-4489-9c58-74a38ba8f287"
      },
      "source": [
        "print(confusion_matrix(y_test, xg.predict(X_test_ori)))"
      ],
      "execution_count": 139,
      "outputs": [
        {
          "output_type": "stream",
          "text": [
            "[[5900    6]\n",
            " [   7  517]]\n"
          ],
          "name": "stdout"
        }
      ]
    },
    {
      "cell_type": "code",
      "metadata": {
        "colab": {
          "base_uri": "https://localhost:8080/"
        },
        "id": "FL94UafigMUl",
        "outputId": "e795d62a-d57e-47d2-bc71-37d82f21f597"
      },
      "source": [
        "# 매개변수 그리드 적용\n",
        "# C와 gamma값으로 실행\n",
        "\n",
        "pipe = make_pipeline(\n",
        "    StandardScaler(),\n",
        "    XGBClassifier()\n",
        ")\n",
        "\n",
        "param_grid_xg = { 'xgbclassifier__learning_rate' : [0.01, 0.1, 1] ,\n",
        "                'xgbclassifier__max_depth' : [3, 5, 7]\n",
        "                 }\n",
        "\n",
        "grid_search_xg = GridSearchCV(pipe, param_grid_xg, cv=5)\n",
        "grid_search_xg.fit(X_train_ori, y_train)"
      ],
      "execution_count": 141,
      "outputs": [
        {
          "output_type": "execute_result",
          "data": {
            "text/plain": [
              "GridSearchCV(cv=5, error_score=nan,\n",
              "             estimator=Pipeline(memory=None,\n",
              "                                steps=[('standardscaler',\n",
              "                                        StandardScaler(copy=True,\n",
              "                                                       with_mean=True,\n",
              "                                                       with_std=True)),\n",
              "                                       ('xgbclassifier',\n",
              "                                        XGBClassifier(base_score=0.5,\n",
              "                                                      booster='gbtree',\n",
              "                                                      colsample_bylevel=1,\n",
              "                                                      colsample_bynode=1,\n",
              "                                                      colsample_bytree=1,\n",
              "                                                      gamma=0,\n",
              "                                                      learning_rate=0.1,\n",
              "                                                      max_delta_step=0,\n",
              "                                                      max_depth=3,\n",
              "                                                      min_child_weight=1,\n",
              "                                                      missing=N...\n",
              "                                                      objective='binary:logistic',\n",
              "                                                      random_state=0,\n",
              "                                                      reg_alpha=0, reg_lambda=1,\n",
              "                                                      scale_pos_weight=1,\n",
              "                                                      seed=None, silent=None,\n",
              "                                                      subsample=1,\n",
              "                                                      verbosity=1))],\n",
              "                                verbose=False),\n",
              "             iid='deprecated', n_jobs=None,\n",
              "             param_grid={'xgbclassifier__learning_rate': [0.01, 0.1, 1],\n",
              "                         'xgbclassifier__max_depth': [3, 5, 7]},\n",
              "             pre_dispatch='2*n_jobs', refit=True, return_train_score=False,\n",
              "             scoring=None, verbose=0)"
            ]
          },
          "metadata": {
            "tags": []
          },
          "execution_count": 141
        }
      ]
    },
    {
      "cell_type": "code",
      "metadata": {
        "colab": {
          "base_uri": "https://localhost:8080/"
        },
        "id": "m3UjflbWgMZ8",
        "outputId": "abb7171d-b25a-4b94-f67e-94acf6ac0657"
      },
      "source": [
        "\n",
        "print(\"테스트 세트 점수 : \", grid_search_xg.score(X_test_ori, y_test))\n",
        "print(\"최적 매개변수 \", grid_search_xg.best_params_)\n",
        "print(\"최적 교차 검증 점수 \", grid_search_xg.best_score_)\n",
        "\n",
        "print(\"최적 성능 모델 \", grid_search_xg.best_estimator_)"
      ],
      "execution_count": 142,
      "outputs": [
        {
          "output_type": "stream",
          "text": [
            "테스트 세트 점수 :  0.9979782270606532\n",
            "최적 매개변수  {'xgbclassifier__learning_rate': 1, 'xgbclassifier__max_depth': 3}\n",
            "최적 교차 검증 점수  0.9975635044064282\n",
            "최적 성능 모델  Pipeline(memory=None,\n",
            "         steps=[('standardscaler',\n",
            "                 StandardScaler(copy=True, with_mean=True, with_std=True)),\n",
            "                ('xgbclassifier',\n",
            "                 XGBClassifier(base_score=0.5, booster='gbtree',\n",
            "                               colsample_bylevel=1, colsample_bynode=1,\n",
            "                               colsample_bytree=1, gamma=0, learning_rate=1,\n",
            "                               max_delta_step=0, max_depth=3,\n",
            "                               min_child_weight=1, missing=None,\n",
            "                               n_estimators=100, n_jobs=1, nthread=None,\n",
            "                               objective='binary:logistic', random_state=0,\n",
            "                               reg_alpha=0, reg_lambda=1, scale_pos_weight=1,\n",
            "                               seed=None, silent=None, subsample=1,\n",
            "                               verbosity=1))],\n",
            "         verbose=False)\n"
          ],
          "name": "stdout"
        }
      ]
    },
    {
      "cell_type": "code",
      "metadata": {
        "colab": {
          "base_uri": "https://localhost:8080/"
        },
        "id": "gQzVNaTIg2bC",
        "outputId": "e40824e4-c260-44f9-deb9-908380aac995"
      },
      "source": [
        "print(confusion_matrix(y_test, grid_search_xg.predict(X_test_ori)))\n",
        "print(classification_report(y_test, grid_search_xg.predict(X_test_ori)))"
      ],
      "execution_count": 143,
      "outputs": [
        {
          "output_type": "stream",
          "text": [
            "[[5900    6]\n",
            " [   7  517]]\n",
            "              precision    recall  f1-score   support\n",
            "\n",
            "           N       1.00      1.00      1.00      5906\n",
            "           Y       0.99      0.99      0.99       524\n",
            "\n",
            "    accuracy                           1.00      6430\n",
            "   macro avg       0.99      0.99      0.99      6430\n",
            "weighted avg       1.00      1.00      1.00      6430\n",
            "\n"
          ],
          "name": "stdout"
        }
      ]
    },
    {
      "cell_type": "code",
      "metadata": {
        "colab": {
          "base_uri": "https://localhost:8080/"
        },
        "id": "i4LTxjMwg9sd",
        "outputId": "363adeeb-36b6-4ffb-a761-f8b3f3971ad1"
      },
      "source": [
        "mlp = MLPClassifier(random_state=0).fit(X_train_trans, y_train)\n",
        "print(mlp.score(X_test_trans, y_test))\n",
        "\n",
        "# 거의 완벽한 예측.."
      ],
      "execution_count": 153,
      "outputs": [
        {
          "output_type": "stream",
          "text": [
            "0.9959564541213064\n"
          ],
          "name": "stdout"
        }
      ]
    },
    {
      "cell_type": "code",
      "metadata": {
        "colab": {
          "base_uri": "https://localhost:8080/"
        },
        "id": "_BSybyMig_uT",
        "outputId": "4fee9eb0-8c30-4879-e283-c126d66bce68"
      },
      "source": [
        "mlp_10 = MLPClassifier(hidden_layer_sizes=(10,10), random_state=0).fit(X_train_trans, y_train)\n",
        "print(mlp_10.score(X_test_trans, y_test))\n",
        "# 같은 정확도"
      ],
      "execution_count": 152,
      "outputs": [
        {
          "output_type": "stream",
          "text": [
            "0.9962674961119751\n"
          ],
          "name": "stdout"
        }
      ]
    },
    {
      "cell_type": "code",
      "metadata": {
        "colab": {
          "base_uri": "https://localhost:8080/"
        },
        "id": "P-FTIeiFhALS",
        "outputId": "05695226-efef-48e4-bd42-8215266ba798"
      },
      "source": [
        "mlp_ori = MLPClassifier(random_state=0).fit(X_train_ori, y_train)\n",
        "print(mlp_ori.score(X_test_ori, y_test))\n",
        "\n",
        "# 전처리 영향을 받음"
      ],
      "execution_count": 151,
      "outputs": [
        {
          "output_type": "stream",
          "text": [
            "0.91850699844479\n"
          ],
          "name": "stdout"
        },
        {
          "output_type": "stream",
          "text": [
            "/usr/local/lib/python3.7/dist-packages/sklearn/neural_network/_multilayer_perceptron.py:571: ConvergenceWarning: Stochastic Optimizer: Maximum iterations (200) reached and the optimization hasn't converged yet.\n",
            "  % self.max_iter, ConvergenceWarning)\n"
          ],
          "name": "stderr"
        }
      ]
    },
    {
      "cell_type": "code",
      "metadata": {
        "colab": {
          "base_uri": "https://localhost:8080/"
        },
        "id": "oBVjAgr5hAV0",
        "outputId": "52ca86b8-9c32-43d1-b92e-6c64ce41076d"
      },
      "source": [
        "print(confusion_matrix(y_test, mlp.predict(X_test_trans)))\n",
        "#다른 결과.."
      ],
      "execution_count": 154,
      "outputs": [
        {
          "output_type": "stream",
          "text": [
            "[[5893   13]\n",
            " [  13  511]]\n"
          ],
          "name": "stdout"
        }
      ]
    },
    {
      "cell_type": "code",
      "metadata": {
        "colab": {
          "base_uri": "https://localhost:8080/"
        },
        "id": "iLoRj5qHhEHp",
        "outputId": "b2248f5b-0e6e-4d29-eb9e-9ed82de17b2d"
      },
      "source": [
        "print(confusion_matrix(y_test, mlp_10.predict(X_test_trans)))\n",
        "#"
      ],
      "execution_count": 155,
      "outputs": [
        {
          "output_type": "stream",
          "text": [
            "[[5893   13]\n",
            " [  11  513]]\n"
          ],
          "name": "stdout"
        }
      ]
    },
    {
      "cell_type": "code",
      "metadata": {
        "colab": {
          "base_uri": "https://localhost:8080/"
        },
        "id": "FnF7-I8uhJ9t",
        "outputId": "5565ef9a-a5a4-4ce7-f796-da6a5b730f1e"
      },
      "source": [
        "lr = LogisticRegression( max_iter=3000).fit(X_train_trans, y_train)\n",
        "\n",
        "print(lr.score(X_test_trans, y_test))"
      ],
      "execution_count": 173,
      "outputs": [
        {
          "output_type": "stream",
          "text": [
            "0.9656298600311042\n"
          ],
          "name": "stdout"
        }
      ]
    },
    {
      "cell_type": "code",
      "metadata": {
        "colab": {
          "base_uri": "https://localhost:8080/"
        },
        "id": "oy8qLkFXhL4e",
        "outputId": "a79a9530-5f77-408f-e456-2198757f89c9"
      },
      "source": [
        "print(confusion_matrix(y_test, lr.predict(X_test_trans)))\n",
        "#"
      ],
      "execution_count": 174,
      "outputs": [
        {
          "output_type": "stream",
          "text": [
            "[[5819   87]\n",
            " [ 134  390]]\n"
          ],
          "name": "stdout"
        }
      ]
    },
    {
      "cell_type": "code",
      "metadata": {
        "colab": {
          "base_uri": "https://localhost:8080/"
        },
        "id": "Ir_lv7t80Pcu",
        "outputId": "7343aa18-d6b9-49a6-9a4d-29af83b63077"
      },
      "source": [
        "from sklearn.preprocessing import PolynomialFeatures\n",
        "pf = PolynomialFeatures(include_bias=False)\n",
        "\n",
        "X_train_poly = pf.fit_transform(X_train_trans)\n",
        "X_test_poly = pf.transform(X_test_trans)\n",
        "\n",
        "lr = LogisticRegression( max_iter=3000).fit(X_train_poly, y_train)\n",
        "\n",
        "print(lr.score(X_test_poly, y_test))"
      ],
      "execution_count": 175,
      "outputs": [
        {
          "output_type": "stream",
          "text": [
            "0.9860031104199067\n"
          ],
          "name": "stdout"
        }
      ]
    },
    {
      "cell_type": "code",
      "metadata": {
        "colab": {
          "base_uri": "https://localhost:8080/"
        },
        "id": "WOZDJ2Cm0hch",
        "outputId": "29f06a29-5552-43ba-83e1-37a9bc123e98"
      },
      "source": [
        "print(confusion_matrix(y_test, lr.predict(X_test_poly)))\n",
        "#"
      ],
      "execution_count": 177,
      "outputs": [
        {
          "output_type": "stream",
          "text": [
            "[[5867   39]\n",
            " [  51  473]]\n"
          ],
          "name": "stdout"
        }
      ]
    },
    {
      "cell_type": "code",
      "metadata": {
        "colab": {
          "base_uri": "https://localhost:8080/",
          "height": 722
        },
        "id": "WFKGCgKp1LED",
        "outputId": "2bc282a9-e4f3-49c5-fe49-0f26d620b572"
      },
      "source": [
        "plt.plot(lr.coef_.T, 'o')\n",
        "    \n",
        "plt.xlabel(\"특성\")\n",
        "plt.ylabel(\"계수 크기\")\n",
        "\n",
        "xlimes = plt.xlim()\n",
        "plt.hlines(0,xlimes[0], xlimes[1])\n",
        "plt.xlim(xlimes)\n",
        "plt.ylim(-5,5)\n"
      ],
      "execution_count": 187,
      "outputs": [
        {
          "output_type": "execute_result",
          "data": {
            "text/plain": [
              "(-5.0, 5.0)"
            ]
          },
          "metadata": {
            "tags": []
          },
          "execution_count": 187
        },
        {
          "output_type": "stream",
          "text": [
            "/usr/local/lib/python3.7/dist-packages/matplotlib/backends/backend_agg.py:214: RuntimeWarning: Glyph 53945 missing from current font.\n",
            "  font.set_text(s, 0.0, flags=flags)\n",
            "/usr/local/lib/python3.7/dist-packages/matplotlib/backends/backend_agg.py:214: RuntimeWarning: Glyph 49457 missing from current font.\n",
            "  font.set_text(s, 0.0, flags=flags)\n",
            "/usr/local/lib/python3.7/dist-packages/matplotlib/backends/backend_agg.py:183: RuntimeWarning: Glyph 53945 missing from current font.\n",
            "  font.set_text(s, 0, flags=flags)\n",
            "/usr/local/lib/python3.7/dist-packages/matplotlib/backends/backend_agg.py:183: RuntimeWarning: Glyph 49457 missing from current font.\n",
            "  font.set_text(s, 0, flags=flags)\n",
            "/usr/local/lib/python3.7/dist-packages/matplotlib/backends/backend_agg.py:214: RuntimeWarning: Glyph 44228 missing from current font.\n",
            "  font.set_text(s, 0.0, flags=flags)\n",
            "/usr/local/lib/python3.7/dist-packages/matplotlib/backends/backend_agg.py:214: RuntimeWarning: Glyph 49688 missing from current font.\n",
            "  font.set_text(s, 0.0, flags=flags)\n",
            "/usr/local/lib/python3.7/dist-packages/matplotlib/backends/backend_agg.py:214: RuntimeWarning: Glyph 53356 missing from current font.\n",
            "  font.set_text(s, 0.0, flags=flags)\n",
            "/usr/local/lib/python3.7/dist-packages/matplotlib/backends/backend_agg.py:214: RuntimeWarning: Glyph 44592 missing from current font.\n",
            "  font.set_text(s, 0.0, flags=flags)\n",
            "/usr/local/lib/python3.7/dist-packages/matplotlib/backends/backend_agg.py:183: RuntimeWarning: Glyph 44228 missing from current font.\n",
            "  font.set_text(s, 0, flags=flags)\n",
            "/usr/local/lib/python3.7/dist-packages/matplotlib/backends/backend_agg.py:183: RuntimeWarning: Glyph 49688 missing from current font.\n",
            "  font.set_text(s, 0, flags=flags)\n",
            "/usr/local/lib/python3.7/dist-packages/matplotlib/backends/backend_agg.py:183: RuntimeWarning: Glyph 53356 missing from current font.\n",
            "  font.set_text(s, 0, flags=flags)\n",
            "/usr/local/lib/python3.7/dist-packages/matplotlib/backends/backend_agg.py:183: RuntimeWarning: Glyph 44592 missing from current font.\n",
            "  font.set_text(s, 0, flags=flags)\n"
          ],
          "name": "stderr"
        },
        {
          "output_type": "display_data",
          "data": {
            "image/png": "[encoded data removed]",
            "text/plain": [
              "<Figure size 432x288 with 1 Axes>"
            ]
          },
          "metadata": {
            "tags": [],
            "needs_background": "light"
          }
        }
      ]
    },
    {
      "cell_type": "code",
      "metadata": {
        "colab": {
          "base_uri": "https://localhost:8080/"
        },
        "id": "MnSP5cfbhNh4",
        "outputId": "29d0f271-a1d7-41bc-ca0c-697677adf824"
      },
      "source": [
        "# 매개변수 그리드 적용\n",
        "\n",
        "\n",
        "\n",
        "pipe = make_pipeline(\n",
        "    PolynomialFeatures(include_bias=False),\n",
        "    StandardScaler(),\n",
        "    LogisticRegression(max_iter=3000)\n",
        ")\n",
        "\n",
        "param_grid_lr = { \n",
        "               'logisticregression__C' : [0.001, 0.01, 0.1, 1, 10, 100]\n",
        "                }\n",
        "\n",
        "grid_search_lr = GridSearchCV(pipe, param_grid = param_grid_lr, cv=5)\n",
        "grid_search_lr"
      ],
      "execution_count": 178,
      "outputs": [
        {
          "output_type": "execute_result",
          "data": {
            "text/plain": [
              "GridSearchCV(cv=5, error_score=nan,\n",
              "             estimator=Pipeline(memory=None,\n",
              "                                steps=[('polynomialfeatures',\n",
              "                                        PolynomialFeatures(degree=2,\n",
              "                                                           include_bias=False,\n",
              "                                                           interaction_only=False,\n",
              "                                                           order='C')),\n",
              "                                       ('standardscaler',\n",
              "                                        StandardScaler(copy=True,\n",
              "                                                       with_mean=True,\n",
              "                                                       with_std=True)),\n",
              "                                       ('logisticregression',\n",
              "                                        LogisticRegression(C=1.0,\n",
              "                                                           class_weight=None,\n",
              "                                                           dual=False,\n",
              "                                                           fit_intercept=True,\n",
              "                                                           intercept_scaling=1,\n",
              "                                                           l1_ratio=None,\n",
              "                                                           max_iter=3000,\n",
              "                                                           multi_class='auto',\n",
              "                                                           n_jobs=None,\n",
              "                                                           penalty='l2',\n",
              "                                                           random_state=None,\n",
              "                                                           solver='lbfgs',\n",
              "                                                           tol=0.0001,\n",
              "                                                           verbose=0,\n",
              "                                                           warm_start=False))],\n",
              "                                verbose=False),\n",
              "             iid='deprecated', n_jobs=None,\n",
              "             param_grid={'logisticregression__C': [0.001, 0.01, 0.1, 1, 10,\n",
              "                                                   100]},\n",
              "             pre_dispatch='2*n_jobs', refit=True, return_train_score=False,\n",
              "             scoring=None, verbose=0)"
            ]
          },
          "metadata": {
            "tags": []
          },
          "execution_count": 178
        }
      ]
    },
    {
      "cell_type": "code",
      "metadata": {
        "colab": {
          "base_uri": "https://localhost:8080/"
        },
        "id": "Wiqf4PLPrt0w",
        "outputId": "e3009f65-b156-4557-da66-f475bfe5aa85"
      },
      "source": [
        "grid_search_lr.fit(X_train_ori, y_train)"
      ],
      "execution_count": 180,
      "outputs": [
        {
          "output_type": "execute_result",
          "data": {
            "text/plain": [
              "GridSearchCV(cv=5, error_score=nan,\n",
              "             estimator=Pipeline(memory=None,\n",
              "                                steps=[('polynomialfeatures',\n",
              "                                        PolynomialFeatures(degree=2,\n",
              "                                                           include_bias=False,\n",
              "                                                           interaction_only=False,\n",
              "                                                           order='C')),\n",
              "                                       ('standardscaler',\n",
              "                                        StandardScaler(copy=True,\n",
              "                                                       with_mean=True,\n",
              "                                                       with_std=True)),\n",
              "                                       ('logisticregression',\n",
              "                                        LogisticRegression(C=1.0,\n",
              "                                                           class_weight=None,\n",
              "                                                           dual=False,\n",
              "                                                           fit_intercept=True,\n",
              "                                                           intercept_scaling=1,\n",
              "                                                           l1_ratio=None,\n",
              "                                                           max_iter=3000,\n",
              "                                                           multi_class='auto',\n",
              "                                                           n_jobs=None,\n",
              "                                                           penalty='l2',\n",
              "                                                           random_state=None,\n",
              "                                                           solver='lbfgs',\n",
              "                                                           tol=0.0001,\n",
              "                                                           verbose=0,\n",
              "                                                           warm_start=False))],\n",
              "                                verbose=False),\n",
              "             iid='deprecated', n_jobs=None,\n",
              "             param_grid={'logisticregression__C': [0.001, 0.01, 0.1, 1, 10,\n",
              "                                                   100]},\n",
              "             pre_dispatch='2*n_jobs', refit=True, return_train_score=False,\n",
              "             scoring=None, verbose=0)"
            ]
          },
          "metadata": {
            "tags": []
          },
          "execution_count": 180
        }
      ]
    },
    {
      "cell_type": "code",
      "metadata": {
        "colab": {
          "base_uri": "https://localhost:8080/"
        },
        "id": "U3pSqVR7hNl1",
        "outputId": "cd806eb1-6662-4b78-bbf7-335dc6a1b559"
      },
      "source": [
        "\n",
        "print(\"테스트 세트 점수 : \", grid_search_lr.score(X_test_ori, y_test))\n",
        "print(\"최적 매개변수 \", grid_search_lr.best_params_)\n",
        "print(\"최적 교차 검증 점수 \", grid_search_lr.best_score_)\n",
        "print(\"최적 성능 모델 \", grid_search_lr.best_estimator_)"
      ],
      "execution_count": 181,
      "outputs": [
        {
          "output_type": "stream",
          "text": [
            "테스트 세트 점수 :  0.9905132192846035\n",
            "최적 매개변수  {'logisticregression__C': 100}\n",
            "최적 교차 검증 점수  0.9886469673405911\n",
            "최적 성능 모델  Pipeline(memory=None,\n",
            "         steps=[('polynomialfeatures',\n",
            "                 PolynomialFeatures(degree=2, include_bias=False,\n",
            "                                    interaction_only=False, order='C')),\n",
            "                ('standardscaler',\n",
            "                 StandardScaler(copy=True, with_mean=True, with_std=True)),\n",
            "                ('logisticregression',\n",
            "                 LogisticRegression(C=100, class_weight=None, dual=False,\n",
            "                                    fit_intercept=True, intercept_scaling=1,\n",
            "                                    l1_ratio=None, max_iter=3000,\n",
            "                                    multi_class='auto', n_jobs=None,\n",
            "                                    penalty='l2', random_state=None,\n",
            "                                    solver='lbfgs', tol=0.0001, verbose=0,\n",
            "                                    warm_start=False))],\n",
            "         verbose=False)\n"
          ],
          "name": "stdout"
        }
      ]
    },
    {
      "cell_type": "code",
      "metadata": {
        "colab": {
          "base_uri": "https://localhost:8080/"
        },
        "id": "6EWD-UkxhNrt",
        "outputId": "2f4c5963-6159-4616-96c4-54c1b1f2d35a"
      },
      "source": [
        "print(confusion_matrix(y_test, grid_search_lr.predict(X_test_ori)))\n",
        "#"
      ],
      "execution_count": 182,
      "outputs": [
        {
          "output_type": "stream",
          "text": [
            "[[5876   30]\n",
            " [  31  493]]\n"
          ],
          "name": "stdout"
        }
      ]
    },
    {
      "cell_type": "code",
      "metadata": {
        "id": "QklpH9o6hNvL",
        "colab": {
          "base_uri": "https://localhost:8080/",
          "height": 702
        },
        "outputId": "3b3472da-93c4-45a7-e66a-3335d3067769"
      },
      "source": [
        "plt.plot(grid_search_lr.best_estimator_.named_steps['logisticregression'].coef_.T, 'o')\n",
        "    \n",
        "plt.xlabel(\"특성\")\n",
        "plt.ylabel(\"계수 크기\")\n",
        "\n",
        "xlimes = plt.xlim()\n",
        "plt.hlines(0,xlimes[0], xlimes[1])\n",
        "plt.xlim(xlimes)\n",
        "plt.ylim(-5,5)\n"
      ],
      "execution_count": 190,
      "outputs": [
        {
          "output_type": "execute_result",
          "data": {
            "text/plain": [
              "(-5.0, 5.0)"
            ]
          },
          "metadata": {
            "tags": []
          },
          "execution_count": 190
        },
        {
          "output_type": "stream",
          "text": [
            "/usr/local/lib/python3.7/dist-packages/matplotlib/backends/backend_agg.py:214: RuntimeWarning: Glyph 53945 missing from current font.\n",
            "  font.set_text(s, 0.0, flags=flags)\n",
            "/usr/local/lib/python3.7/dist-packages/matplotlib/backends/backend_agg.py:214: RuntimeWarning: Glyph 49457 missing from current font.\n",
            "  font.set_text(s, 0.0, flags=flags)\n",
            "/usr/local/lib/python3.7/dist-packages/matplotlib/backends/backend_agg.py:183: RuntimeWarning: Glyph 53945 missing from current font.\n",
            "  font.set_text(s, 0, flags=flags)\n",
            "/usr/local/lib/python3.7/dist-packages/matplotlib/backends/backend_agg.py:183: RuntimeWarning: Glyph 49457 missing from current font.\n",
            "  font.set_text(s, 0, flags=flags)\n",
            "/usr/local/lib/python3.7/dist-packages/matplotlib/backends/backend_agg.py:214: RuntimeWarning: Glyph 44228 missing from current font.\n",
            "  font.set_text(s, 0.0, flags=flags)\n",
            "/usr/local/lib/python3.7/dist-packages/matplotlib/backends/backend_agg.py:214: RuntimeWarning: Glyph 49688 missing from current font.\n",
            "  font.set_text(s, 0.0, flags=flags)\n",
            "/usr/local/lib/python3.7/dist-packages/matplotlib/backends/backend_agg.py:214: RuntimeWarning: Glyph 53356 missing from current font.\n",
            "  font.set_text(s, 0.0, flags=flags)\n",
            "/usr/local/lib/python3.7/dist-packages/matplotlib/backends/backend_agg.py:214: RuntimeWarning: Glyph 44592 missing from current font.\n",
            "  font.set_text(s, 0.0, flags=flags)\n",
            "/usr/local/lib/python3.7/dist-packages/matplotlib/backends/backend_agg.py:183: RuntimeWarning: Glyph 44228 missing from current font.\n",
            "  font.set_text(s, 0, flags=flags)\n",
            "/usr/local/lib/python3.7/dist-packages/matplotlib/backends/backend_agg.py:183: RuntimeWarning: Glyph 49688 missing from current font.\n",
            "  font.set_text(s, 0, flags=flags)\n",
            "/usr/local/lib/python3.7/dist-packages/matplotlib/backends/backend_agg.py:183: RuntimeWarning: Glyph 53356 missing from current font.\n",
            "  font.set_text(s, 0, flags=flags)\n",
            "/usr/local/lib/python3.7/dist-packages/matplotlib/backends/backend_agg.py:183: RuntimeWarning: Glyph 44592 missing from current font.\n",
            "  font.set_text(s, 0, flags=flags)\n"
          ],
          "name": "stderr"
        },
        {
          "output_type": "display_data",
          "data": {
            "image/png": "[encoded data removed]",
            "text/plain": [
              "<Figure size 432x288 with 1 Axes>"
            ]
          },
          "metadata": {
            "tags": [],
            "needs_background": "light"
          }
        }
      ]
    },
    {
      "cell_type": "code",
      "metadata": {
        "id": "MIw7kFEkbGh6"
      },
      "source": [
        ""
      ],
      "execution_count": null,
      "outputs": []
    },
    {
      "cell_type": "code",
      "metadata": {
        "id": "oheYOt7RbGkk"
      },
      "source": [
        ""
      ],
      "execution_count": null,
      "outputs": []
    },
    {
      "cell_type": "code",
      "metadata": {
        "id": "NUCglT-2bGqR"
      },
      "source": [
        ""
      ],
      "execution_count": null,
      "outputs": []
    },
    {
      "cell_type": "markdown",
      "metadata": {
        "id": "OYuEqGYQhK7_"
      },
      "source": [
        ""
      ]
    }
  ]
}