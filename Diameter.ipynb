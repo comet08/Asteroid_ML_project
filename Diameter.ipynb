{
  "nbformat": 4,
  "nbformat_minor": 0,
  "metadata": {
    "colab": {
      "name": "Diameter",
      "provenance": [],
      "collapsed_sections": []
    },
    "kernelspec": {
      "display_name": "Python 3",
      "name": "python3"
    }
  },
  "cells": [
    {
      "cell_type": "code",
      "metadata": {
        "id": "RqW4sVPJubQy",
        "colab": {
          "base_uri": "https://localhost:8080/",
          "height": 1000
        },
        "outputId": "a839f867-6b60-4cc0-9e95-04aab2bbf6a1"
      },
      "source": [
        "import numpy as np\n",
        "import pandas as pd\n",
        "import matplotlib\n",
        "import matplotlib.pyplot as plt\n",
        "from sklearn.model_selection import train_test_split\n",
        "\n",
        "#전처리\n",
        "from sklearn.preprocessing import StandardScaler\n",
        "from sklearn.preprocessing import MinMaxScaler\n",
        "from sklearn.compose import make_column_transformer\n",
        "from sklearn.preprocessing import PolynomialFeatures\n",
        "\n",
        "# 매개변수 그리드\n",
        "from sklearn.model_selection import GridSearchCV\n",
        "\n",
        "\n",
        "# 성능 평가\n",
        "from sklearn.metrics import classification_report\n",
        "from sklearn.metrics import confusion_matrix\n",
        "from sklearn.metrics import f1_score\n",
        "from sklearn.metrics import make_scorer\n",
        "from sklearn.metrics import mean_squared_error\n",
        "\n",
        "f1_scorer = make_scorer(f1_score, pos_label=\"Y\")\n",
        "\n",
        "\n",
        "#파이프라인\n",
        "from imblearn.pipeline import Pipeline\n",
        "from imblearn.pipeline import make_pipeline\n",
        "\n",
        "# model\n",
        "from sklearn.svm import SVR\n",
        "from sklearn.ensemble import RandomForestRegressor\n",
        "from xgboost import XGBRegressor\n",
        "from sklearn.neural_network import MLPRegressor\n",
        "\n",
        "import mglearn"
      ],
      "execution_count": null,
      "outputs": [
        {
          "output_type": "stream",
          "text": [
            "/usr/local/lib/python3.7/dist-packages/sklearn/externals/six.py:31: FutureWarning: The module is deprecated in version 0.21 and will be removed in version 0.23 since we've dropped support for Python 2.7. Please rely on the official version of six (https://pypi.org/project/six/).\n",
            "  \"(https://pypi.org/project/six/).\", FutureWarning)\n",
            "/usr/local/lib/python3.7/dist-packages/sklearn/utils/deprecation.py:144: FutureWarning: The sklearn.neighbors.base module is  deprecated in version 0.22 and will be removed in version 0.24. The corresponding classes / functions should instead be imported from sklearn.neighbors. Anything that cannot be imported from sklearn.neighbors is now part of the private API.\n",
            "  warnings.warn(message, FutureWarning)\n"
          ],
          "name": "stderr"
        },
        {
          "output_type": "error",
          "ename": "ModuleNotFoundError",
          "evalue": "ignored",
          "traceback": [
            "\u001b[0;31m---------------------------------------------------------------------------\u001b[0m",
            "\u001b[0;31mModuleNotFoundError\u001b[0m                       Traceback (most recent call last)",
            "\u001b[0;32m<ipython-input-1-b87d2b83d4ca>\u001b[0m in \u001b[0;36m<module>\u001b[0;34m()\u001b[0m\n\u001b[1;32m     35\u001b[0m \u001b[0;32mfrom\u001b[0m \u001b[0msklearn\u001b[0m\u001b[0;34m.\u001b[0m\u001b[0mneural_network\u001b[0m \u001b[0;32mimport\u001b[0m \u001b[0mMLPRegressor\u001b[0m\u001b[0;34m\u001b[0m\u001b[0;34m\u001b[0m\u001b[0m\n\u001b[1;32m     36\u001b[0m \u001b[0;34m\u001b[0m\u001b[0m\n\u001b[0;32m---> 37\u001b[0;31m \u001b[0;32mimport\u001b[0m \u001b[0mmglearn\u001b[0m\u001b[0;34m\u001b[0m\u001b[0;34m\u001b[0m\u001b[0m\n\u001b[0m",
            "\u001b[0;31mModuleNotFoundError\u001b[0m: No module named 'mglearn'",
            "",
            "\u001b[0;31m---------------------------------------------------------------------------\u001b[0;32m\nNOTE: If your import is failing due to a missing package, you can\nmanually install dependencies using either !pip or !apt.\n\nTo view examples of installing some common dependencies, click the\n\"Open Examples\" button below.\n\u001b[0;31m---------------------------------------------------------------------------\u001b[0m\n"
          ]
        }
      ]
    },
    {
      "cell_type": "code",
      "metadata": {
        "id": "pPQin8CwueWQ"
      },
      "source": [
        ""
      ],
      "execution_count": null,
      "outputs": []
    },
    {
      "cell_type": "code",
      "metadata": {
        "colab": {
          "base_uri": "https://localhost:8080/"
        },
        "id": "liAxI_WXueYb",
        "outputId": "7b79c74f-89f5-4f6b-c94f-02f25425cdfb"
      },
      "source": [
        "datas = pd.read_csv('results.csv')\n",
        "datas.info()\n"
      ],
      "execution_count": null,
      "outputs": [
        {
          "output_type": "stream",
          "text": [
            "/usr/local/lib/python3.7/dist-packages/IPython/core/interactiveshell.py:2718: DtypeWarning: Columns (0,7) have mixed types.Specify dtype option on import or set low_memory=False.\n",
            "  interactivity=interactivity, compiler=compiler, result=result)\n"
          ],
          "name": "stderr"
        },
        {
          "output_type": "stream",
          "text": [
            "<class 'pandas.core.frame.DataFrame'>\n",
            "RangeIndex: 1079619 entries, 0 to 1079618\n",
            "Data columns (total 21 columns):\n",
            " #   Column    Non-Null Count    Dtype  \n",
            "---  ------    --------------    -----  \n",
            " 0   name      22183 non-null    object \n",
            " 1   neo       1079617 non-null  object \n",
            " 2   pha       1069004 non-null  object \n",
            " 3   H         1075633 non-null  float64\n",
            " 4   diameter  139999 non-null   float64\n",
            " 5   albedo    138848 non-null   float64\n",
            " 6   rot_per   32577 non-null    float64\n",
            " 7   spec_B    1666 non-null     object \n",
            " 8   e         1079619 non-null  float64\n",
            " 9   a         1079619 non-null  float64\n",
            " 10  q         1079619 non-null  float64\n",
            " 11  i         1079619 non-null  float64\n",
            " 12  om        1079619 non-null  float64\n",
            " 13  w         1079619 non-null  float64\n",
            " 14  ma        1079618 non-null  float64\n",
            " 15  ad        1079617 non-null  float64\n",
            " 16  n         1079619 non-null  float64\n",
            " 17  tp        1079619 non-null  float64\n",
            " 18  per       1079617 non-null  float64\n",
            " 19  moid      1069004 non-null  float64\n",
            " 20  class     1079619 non-null  object \n",
            "dtypes: float64(16), object(5)\n",
            "memory usage: 173.0+ MB\n"
          ],
          "name": "stdout"
        }
      ]
    },
    {
      "cell_type": "code",
      "metadata": {
        "colab": {
          "base_uri": "https://localhost:8080/"
        },
        "id": "XsOUZN7FA7HN",
        "outputId": "ed1a751a-393b-451a-9197-f72966b59b7c"
      },
      "source": [
        "datas.isnull().sum()"
      ],
      "execution_count": null,
      "outputs": [
        {
          "output_type": "execute_result",
          "data": {
            "text/plain": [
              "name        1057436\n",
              "neo               2\n",
              "pha           10615\n",
              "H              3986\n",
              "diameter     939620\n",
              "albedo       940771\n",
              "rot_per     1047042\n",
              "spec_B      1077953\n",
              "e                 0\n",
              "a                 0\n",
              "q                 0\n",
              "i                 0\n",
              "om                0\n",
              "w                 0\n",
              "ma                1\n",
              "ad                2\n",
              "n                 0\n",
              "tp                0\n",
              "per               2\n",
              "moid          10615\n",
              "class             0\n",
              "dtype: int64"
            ]
          },
          "metadata": {
            "tags": []
          },
          "execution_count": 6
        }
      ]
    },
    {
      "cell_type": "code",
      "metadata": {
        "colab": {
          "base_uri": "https://localhost:8080/",
          "height": 785
        },
        "id": "jx296VEM8uqa",
        "outputId": "da461d54-cdca-4f20-8c7b-4996d87b323f"
      },
      "source": [
        "datas[['H', 'moid', 'albedo', 'diameter']].boxplot(by='diameter', figsize=(20,10))\n",
        "\n",
        "plt.show()\n",
        "# class에 따른..."
      ],
      "execution_count": null,
      "outputs": [
        {
          "output_type": "stream",
          "text": [
            "/usr/local/lib/python3.7/dist-packages/numpy/core/_asarray.py:83: VisibleDeprecationWarning: Creating an ndarray from ragged nested sequences (which is a list-or-tuple of lists-or-tuples-or ndarrays with different lengths or shapes) is deprecated. If you meant to do this, you must specify 'dtype=object' when creating the ndarray\n",
            "  return array(a, dtype, copy=False, order=order)\n",
            "/usr/local/lib/python3.7/dist-packages/numpy/core/_asarray.py:83: VisibleDeprecationWarning: Creating an ndarray from ragged nested sequences (which is a list-or-tuple of lists-or-tuples-or ndarrays with different lengths or shapes) is deprecated. If you meant to do this, you must specify 'dtype=object' when creating the ndarray\n",
            "  return array(a, dtype, copy=False, order=order)\n",
            "/usr/local/lib/python3.7/dist-packages/numpy/core/_asarray.py:83: VisibleDeprecationWarning: Creating an ndarray from ragged nested sequences (which is a list-or-tuple of lists-or-tuples-or ndarrays with different lengths or shapes) is deprecated. If you meant to do this, you must specify 'dtype=object' when creating the ndarray\n",
            "  return array(a, dtype, copy=False, order=order)\n"
          ],
          "name": "stderr"
        },
        {
          "output_type": "display_data",
          "data": {
            "image/png": "[encoded data removed]",
            "text/plain": [
              "<Figure size 1440x720 with 4 Axes>"
            ]
          },
          "metadata": {
            "tags": [],
            "needs_background": "light"
          }
        }
      ]
    },
    {
      "cell_type": "code",
      "metadata": {
        "colab": {
          "base_uri": "https://localhost:8080/"
        },
        "id": "KMoAlJUQuea9",
        "outputId": "97bfd726-4d87-421e-a186-79d7f1be5deb"
      },
      "source": [
        "X = datas.drop(['name', 'albedo', 'rot_per', 'spec_B'], axis=1)\n",
        "X = X.dropna(subset=['diameter', 'moid', 'H', 'ma'])\n",
        "y = X['diameter']\n",
        "\n",
        "X = X.drop(['diameter'], axis=1)\n",
        "\n",
        "print(X.shape)\n",
        "print(y.shape)\n",
        "\n",
        "# 특성 5개 제거 + 타겟값 분리"
      ],
      "execution_count": null,
      "outputs": [
        {
          "output_type": "stream",
          "text": [
            "(137367, 16)\n",
            "(137367,)\n"
          ],
          "name": "stdout"
        }
      ]
    },
    {
      "cell_type": "code",
      "metadata": {
        "colab": {
          "base_uri": "https://localhost:8080/",
          "height": 195
        },
        "id": "JENZkujl4QjR",
        "outputId": "f43a087a-a243-494b-f477-123f1ac36b8d"
      },
      "source": [
        "X.head()"
      ],
      "execution_count": null,
      "outputs": [
        {
          "output_type": "execute_result",
          "data": {
            "text/html": [
              "<div>\n",
              "<style scoped>\n",
              "    .dataframe tbody tr th:only-of-type {\n",
              "        vertical-align: middle;\n",
              "    }\n",
              "\n",
              "    .dataframe tbody tr th {\n",
              "        vertical-align: top;\n",
              "    }\n",
              "\n",
              "    .dataframe thead th {\n",
              "        text-align: right;\n",
              "    }\n",
              "</style>\n",
              "<table border=\"1\" class=\"dataframe\">\n",
              "  <thead>\n",
              "    <tr style=\"text-align: right;\">\n",
              "      <th></th>\n",
              "      <th>neo</th>\n",
              "      <th>pha</th>\n",
              "      <th>H</th>\n",
              "      <th>e</th>\n",
              "      <th>a</th>\n",
              "      <th>q</th>\n",
              "      <th>i</th>\n",
              "      <th>om</th>\n",
              "      <th>w</th>\n",
              "      <th>ma</th>\n",
              "      <th>ad</th>\n",
              "      <th>n</th>\n",
              "      <th>tp</th>\n",
              "      <th>per</th>\n",
              "      <th>moid</th>\n",
              "      <th>class</th>\n",
              "    </tr>\n",
              "  </thead>\n",
              "  <tbody>\n",
              "    <tr>\n",
              "      <th>0</th>\n",
              "      <td>N</td>\n",
              "      <td>N</td>\n",
              "      <td>3.53</td>\n",
              "      <td>0.078168</td>\n",
              "      <td>2.766089</td>\n",
              "      <td>2.549868</td>\n",
              "      <td>10.587899</td>\n",
              "      <td>80.272358</td>\n",
              "      <td>73.724889</td>\n",
              "      <td>205.545416</td>\n",
              "      <td>2.982310</td>\n",
              "      <td>0.214242</td>\n",
              "      <td>2.459921e+06</td>\n",
              "      <td>1680.341973</td>\n",
              "      <td>1.58537</td>\n",
              "      <td>MBA</td>\n",
              "    </tr>\n",
              "    <tr>\n",
              "      <th>1</th>\n",
              "      <td>N</td>\n",
              "      <td>N</td>\n",
              "      <td>4.21</td>\n",
              "      <td>0.229750</td>\n",
              "      <td>2.774382</td>\n",
              "      <td>2.136967</td>\n",
              "      <td>34.854459</td>\n",
              "      <td>172.965884</td>\n",
              "      <td>310.288113</td>\n",
              "      <td>187.586351</td>\n",
              "      <td>3.411796</td>\n",
              "      <td>0.213282</td>\n",
              "      <td>2.460009e+06</td>\n",
              "      <td>1687.903980</td>\n",
              "      <td>1.23487</td>\n",
              "      <td>MBA</td>\n",
              "    </tr>\n",
              "    <tr>\n",
              "      <th>2</th>\n",
              "      <td>N</td>\n",
              "      <td>N</td>\n",
              "      <td>5.26</td>\n",
              "      <td>0.256988</td>\n",
              "      <td>2.668020</td>\n",
              "      <td>1.982370</td>\n",
              "      <td>12.991482</td>\n",
              "      <td>169.853044</td>\n",
              "      <td>248.032767</td>\n",
              "      <td>170.711246</td>\n",
              "      <td>3.353669</td>\n",
              "      <td>0.226162</td>\n",
              "      <td>2.458446e+06</td>\n",
              "      <td>1591.776184</td>\n",
              "      <td>1.03316</td>\n",
              "      <td>MBA</td>\n",
              "    </tr>\n",
              "    <tr>\n",
              "      <th>3</th>\n",
              "      <td>N</td>\n",
              "      <td>N</td>\n",
              "      <td>3.29</td>\n",
              "      <td>0.088425</td>\n",
              "      <td>2.362030</td>\n",
              "      <td>2.153168</td>\n",
              "      <td>7.141653</td>\n",
              "      <td>103.808335</td>\n",
              "      <td>150.922482</td>\n",
              "      <td>258.567830</td>\n",
              "      <td>2.570893</td>\n",
              "      <td>0.271504</td>\n",
              "      <td>2.459574e+06</td>\n",
              "      <td>1325.948229</td>\n",
              "      <td>1.13933</td>\n",
              "      <td>MBA</td>\n",
              "    </tr>\n",
              "    <tr>\n",
              "      <th>4</th>\n",
              "      <td>N</td>\n",
              "      <td>N</td>\n",
              "      <td>6.99</td>\n",
              "      <td>0.190788</td>\n",
              "      <td>2.573621</td>\n",
              "      <td>2.082605</td>\n",
              "      <td>5.367534</td>\n",
              "      <td>141.571702</td>\n",
              "      <td>358.625009</td>\n",
              "      <td>65.612382</td>\n",
              "      <td>3.064636</td>\n",
              "      <td>0.238719</td>\n",
              "      <td>2.458926e+06</td>\n",
              "      <td>1508.048333</td>\n",
              "      <td>1.09563</td>\n",
              "      <td>MBA</td>\n",
              "    </tr>\n",
              "  </tbody>\n",
              "</table>\n",
              "</div>"
            ],
            "text/plain": [
              "  neo pha     H         e  ...            tp          per     moid  class\n",
              "0   N   N  3.53  0.078168  ...  2.459921e+06  1680.341973  1.58537    MBA\n",
              "1   N   N  4.21  0.229750  ...  2.460009e+06  1687.903980  1.23487    MBA\n",
              "2   N   N  5.26  0.256988  ...  2.458446e+06  1591.776184  1.03316    MBA\n",
              "3   N   N  3.29  0.088425  ...  2.459574e+06  1325.948229  1.13933    MBA\n",
              "4   N   N  6.99  0.190788  ...  2.458926e+06  1508.048333  1.09563    MBA\n",
              "\n",
              "[5 rows x 16 columns]"
            ]
          },
          "metadata": {
            "tags": []
          },
          "execution_count": 8
        }
      ]
    },
    {
      "cell_type": "code",
      "metadata": {
        "colab": {
          "base_uri": "https://localhost:8080/"
        },
        "id": "GvpcVfy2uedh",
        "outputId": "a0d83b83-ed63-4c17-bab7-f1bfe37af614"
      },
      "source": [
        "X_res = X[:30000]\n",
        "y_res = y[:30000]\n",
        "# 데이터는 30000개로 제한\n",
        "\n",
        "X_dum = pd.get_dummies(X_res)\n",
        "# 범주형 특성에 대해서 더미 변수를 생성\n",
        "\n",
        "X_train, X_test, y_train, y_test = train_test_split(X_dum, y_res, random_state=0)\n",
        "# 훈련 / 테스트 데이터로 분할\n",
        "\n",
        "print(X_train.shape)\n",
        "print(X_test.shape)"
      ],
      "execution_count": null,
      "outputs": [
        {
          "output_type": "stream",
          "text": [
            "(22500, 28)\n",
            "(7500, 28)\n"
          ],
          "name": "stdout"
        }
      ]
    },
    {
      "cell_type": "code",
      "metadata": {
        "id": "kwfY_EpdzQtx"
      },
      "source": [
        "# 스케일링\n",
        "\n",
        "stdscaler = StandardScaler()\n",
        "\n",
        "X_train_sscaled = stdscaler.fit_transform(X_train)\n",
        "X_test_sscaled = stdscaler.transform(X_test)\n",
        "\n",
        "mmscaler = MinMaxScaler()\n",
        "X_train_mscaled = mmscaler.fit_transform(X_train)\n",
        "X_test_mscaled = mmscaler.transform(X_test)\n"
      ],
      "execution_count": null,
      "outputs": []
    },
    {
      "cell_type": "markdown",
      "metadata": {
        "id": "JViY112Y4a7K"
      },
      "source": [
        "기본 파라미터로 모델 훈련"
      ]
    },
    {
      "cell_type": "code",
      "metadata": {
        "colab": {
          "base_uri": "https://localhost:8080/"
        },
        "id": "Ctwjs08QzCmH",
        "outputId": "81d1b1c6-b031-4b22-d783-822d8b5e6e31"
      },
      "source": [
        "rf = RandomForestRegressor(random_state=0).fit(X_train, y_train)\n",
        "print(rf.score(X_test, y_test))\n",
        "print(mean_squared_error(y_test, rf.predict(X_test)))"
      ],
      "execution_count": null,
      "outputs": [
        {
          "output_type": "stream",
          "text": [
            "0.8754493841806057\n",
            "29.663430119560424\n"
          ],
          "name": "stdout"
        }
      ]
    },
    {
      "cell_type": "code",
      "metadata": {
        "colab": {
          "base_uri": "https://localhost:8080/"
        },
        "id": "rjEDSSKw4aO6",
        "outputId": "befe87cc-731b-425a-a33f-076cc8ec737a"
      },
      "source": [
        "xg = XGBRegressor(random_state=0).fit(X_train, y_train)\n",
        "print(xg.score(X_test, y_test))\n",
        "print(mean_squared_error(y_test, xg.predict(X_test)))"
      ],
      "execution_count": null,
      "outputs": [
        {
          "output_type": "stream",
          "text": [
            "[07:47:44] WARNING: /workspace/src/objective/regression_obj.cu:152: reg:linear is now deprecated in favor of reg:squarederror.\n",
            "0.8788905906969429\n",
            "28.84385979184433\n"
          ],
          "name": "stdout"
        }
      ]
    },
    {
      "cell_type": "code",
      "metadata": {
        "colab": {
          "base_uri": "https://localhost:8080/"
        },
        "id": "fY0Cni6d8DG2",
        "outputId": "9f6cf46f-f953-43a7-c9c3-950a291c5dc3"
      },
      "source": [
        "svr = SVR().fit(X_train_sscaled, y_train)\n",
        "print(svr.score(X_test, y_test))\n",
        "print(mean_squared_error(y_test, svr.predict(X_test)))"
      ],
      "execution_count": null,
      "outputs": [
        {
          "output_type": "stream",
          "text": [
            "-0.08020432444698322\n",
            "257.2654119955832\n"
          ],
          "name": "stdout"
        }
      ]
    },
    {
      "cell_type": "code",
      "metadata": {
        "colab": {
          "base_uri": "https://localhost:8080/"
        },
        "id": "GUwf7R4Q8K43",
        "outputId": "7f9d2235-7ab2-4ead-f3e4-bd3b91009e11"
      },
      "source": [
        "mlp = MLPRegressor(random_state=0).fit(X_train_sscaled, y_train)\n",
        "print(mlp.score(X_test_sscaled, y_test))\n",
        "print(mean_squared_error(y_test, mlp.predict(X_test_sscaled)))"
      ],
      "execution_count": null,
      "outputs": [
        {
          "output_type": "stream",
          "text": [
            "0.7295517620545545\n",
            "64.41094132273061\n"
          ],
          "name": "stdout"
        }
      ]
    },
    {
      "cell_type": "code",
      "metadata": {
        "id": "txJdkioC8Pat"
      },
      "source": [
        ""
      ],
      "execution_count": null,
      "outputs": []
    },
    {
      "cell_type": "code",
      "metadata": {
        "id": "Zg20v1J32ASh"
      },
      "source": [
        "# 중요도 함수\n",
        "def plot_feature_importances(model, X, fea):\n",
        "    n_features = X.shape[1]\n",
        "    plt.barh(range(n_features), model.feature_importances_, align='center')\n",
        "    plt.yticks(np.arange(n_features), fea)\n",
        "    plt.xlabel(\"특성 중요도\")\n",
        "    plt.ylabel(\"특성\")\n",
        "    plt.ylim(-1, n_features)\n",
        "    plt.xlim(0,1)\n",
        "    plt.grid()"
      ],
      "execution_count": null,
      "outputs": []
    },
    {
      "cell_type": "code",
      "metadata": {
        "colab": {
          "base_uri": "https://localhost:8080/",
          "height": 719
        },
        "id": "PVM95DbN17Dz",
        "outputId": "dbfda183-00d0-4298-9de0-0f4f98c7207a"
      },
      "source": [
        "features = X_train.columns\n",
        "print(features)\n",
        "\n",
        "plot_feature_importances(rf, X_train, features)"
      ],
      "execution_count": null,
      "outputs": [
        {
          "output_type": "stream",
          "text": [
            "Index(['H', 'e', 'a', 'q', 'i', 'om', 'w', 'ma', 'ad', 'n', 'tp', 'per',\n",
            "       'moid', 'neo_N', 'neo_Y', 'pha_N', 'pha_Y', 'class_AMO', 'class_APO',\n",
            "       'class_AST', 'class_ATE', 'class_CEN', 'class_IMB', 'class_MBA',\n",
            "       'class_MCA', 'class_OMB', 'class_TJN', 'class_TNO'],\n",
            "      dtype='object')\n"
          ],
          "name": "stdout"
        },
        {
          "output_type": "stream",
          "text": [
            "/usr/local/lib/python3.7/dist-packages/matplotlib/backends/backend_agg.py:214: RuntimeWarning: Glyph 53945 missing from current font.\n",
            "  font.set_text(s, 0.0, flags=flags)\n",
            "/usr/local/lib/python3.7/dist-packages/matplotlib/backends/backend_agg.py:214: RuntimeWarning: Glyph 49457 missing from current font.\n",
            "  font.set_text(s, 0.0, flags=flags)\n",
            "/usr/local/lib/python3.7/dist-packages/matplotlib/backends/backend_agg.py:214: RuntimeWarning: Glyph 51473 missing from current font.\n",
            "  font.set_text(s, 0.0, flags=flags)\n",
            "/usr/local/lib/python3.7/dist-packages/matplotlib/backends/backend_agg.py:214: RuntimeWarning: Glyph 50836 missing from current font.\n",
            "  font.set_text(s, 0.0, flags=flags)\n",
            "/usr/local/lib/python3.7/dist-packages/matplotlib/backends/backend_agg.py:214: RuntimeWarning: Glyph 46020 missing from current font.\n",
            "  font.set_text(s, 0.0, flags=flags)\n",
            "/usr/local/lib/python3.7/dist-packages/matplotlib/backends/backend_agg.py:183: RuntimeWarning: Glyph 53945 missing from current font.\n",
            "  font.set_text(s, 0, flags=flags)\n",
            "/usr/local/lib/python3.7/dist-packages/matplotlib/backends/backend_agg.py:183: RuntimeWarning: Glyph 49457 missing from current font.\n",
            "  font.set_text(s, 0, flags=flags)\n",
            "/usr/local/lib/python3.7/dist-packages/matplotlib/backends/backend_agg.py:183: RuntimeWarning: Glyph 51473 missing from current font.\n",
            "  font.set_text(s, 0, flags=flags)\n",
            "/usr/local/lib/python3.7/dist-packages/matplotlib/backends/backend_agg.py:183: RuntimeWarning: Glyph 50836 missing from current font.\n",
            "  font.set_text(s, 0, flags=flags)\n",
            "/usr/local/lib/python3.7/dist-packages/matplotlib/backends/backend_agg.py:183: RuntimeWarning: Glyph 46020 missing from current font.\n",
            "  font.set_text(s, 0, flags=flags)\n"
          ],
          "name": "stderr"
        },
        {
          "output_type": "display_data",
          "data": {
            "image/png": "[encoded data removed]",
            "text/plain": [
              "<Figure size 432x288 with 1 Axes>"
            ]
          },
          "metadata": {
            "tags": [],
            "needs_background": "light"
          }
        }
      ]
    },
    {
      "cell_type": "code",
      "metadata": {
        "id": "5FpTQsKcFWST"
      },
      "source": [
        ""
      ],
      "execution_count": null,
      "outputs": []
    }
  ]
}